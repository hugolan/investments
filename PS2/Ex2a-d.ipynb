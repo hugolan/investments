{
 "cells": [
  {
   "cell_type": "markdown",
   "metadata": {},
   "source": [
    "Excercise 2\n",
    "--------------------------------------------------"
   ]
  },
  {
   "cell_type": "code",
   "execution_count": 144,
   "metadata": {},
   "outputs": [
    {
     "name": "stdout",
     "output_type": "stream",
     "text": [
      "Loading library list...\n",
      "Done\n"
     ]
    }
   ],
   "source": [
    "import psycopg2\n",
    "import wrds\n",
    "import numpy as np\n",
    "import matplotlib.pyplot as plt\n",
    "import pandas as pd\n",
    "from scipy.stats import norm\n",
    "\n",
    "db=wrds.Connection(wrds_username='zimushko')\n",
    "#db.create_pgpass_file()"
   ]
  },
  {
   "cell_type": "code",
   "execution_count": 147,
   "metadata": {},
   "outputs": [
    {
     "data": {
      "text/html": [
       "<div>\n",
       "<style scoped>\n",
       "    .dataframe tbody tr th:only-of-type {\n",
       "        vertical-align: middle;\n",
       "    }\n",
       "\n",
       "    .dataframe tbody tr th {\n",
       "        vertical-align: top;\n",
       "    }\n",
       "\n",
       "    .dataframe thead th {\n",
       "        text-align: right;\n",
       "    }\n",
       "</style>\n",
       "<table border=\"1\" class=\"dataframe\">\n",
       "  <thead>\n",
       "    <tr style=\"text-align: right;\">\n",
       "      <th></th>\n",
       "      <th>Apple</th>\n",
       "      <th>PG</th>\n",
       "    </tr>\n",
       "    <tr>\n",
       "      <th>date</th>\n",
       "      <th></th>\n",
       "      <th></th>\n",
       "    </tr>\n",
       "  </thead>\n",
       "  <tbody>\n",
       "    <tr>\n",
       "      <th>2010-01-10</th>\n",
       "      <td>0.005922</td>\n",
       "      <td>-0.003134</td>\n",
       "    </tr>\n",
       "    <tr>\n",
       "      <th>2010-01-17</th>\n",
       "      <td>-0.028540</td>\n",
       "      <td>0.006287</td>\n",
       "    </tr>\n",
       "    <tr>\n",
       "      <th>2010-01-24</th>\n",
       "      <td>-0.039722</td>\n",
       "      <td>-0.001168</td>\n",
       "    </tr>\n",
       "    <tr>\n",
       "      <th>2010-01-31</th>\n",
       "      <td>-0.028759</td>\n",
       "      <td>0.020560</td>\n",
       "    </tr>\n",
       "    <tr>\n",
       "      <th>2010-02-07</th>\n",
       "      <td>0.017687</td>\n",
       "      <td>-0.004062</td>\n",
       "    </tr>\n",
       "    <tr>\n",
       "      <th>...</th>\n",
       "      <td>...</td>\n",
       "      <td>...</td>\n",
       "    </tr>\n",
       "    <tr>\n",
       "      <th>2021-12-05</th>\n",
       "      <td>0.032077</td>\n",
       "      <td>0.016342</td>\n",
       "    </tr>\n",
       "    <tr>\n",
       "      <th>2021-12-12</th>\n",
       "      <td>0.108811</td>\n",
       "      <td>0.037230</td>\n",
       "    </tr>\n",
       "    <tr>\n",
       "      <th>2021-12-19</th>\n",
       "      <td>-0.046308</td>\n",
       "      <td>0.012865</td>\n",
       "    </tr>\n",
       "    <tr>\n",
       "      <th>2021-12-26</th>\n",
       "      <td>0.030034</td>\n",
       "      <td>0.016766</td>\n",
       "    </tr>\n",
       "    <tr>\n",
       "      <th>2022-01-02</th>\n",
       "      <td>0.007318</td>\n",
       "      <td>0.021736</td>\n",
       "    </tr>\n",
       "  </tbody>\n",
       "</table>\n",
       "<p>626 rows × 2 columns</p>\n",
       "</div>"
      ],
      "text/plain": [
       "               Apple        PG\n",
       "date                          \n",
       "2010-01-10  0.005922 -0.003134\n",
       "2010-01-17 -0.028540  0.006287\n",
       "2010-01-24 -0.039722 -0.001168\n",
       "2010-01-31 -0.028759  0.020560\n",
       "2010-02-07  0.017687 -0.004062\n",
       "...              ...       ...\n",
       "2021-12-05  0.032077  0.016342\n",
       "2021-12-12  0.108811  0.037230\n",
       "2021-12-19 -0.046308  0.012865\n",
       "2021-12-26  0.030034  0.016766\n",
       "2022-01-02  0.007318  0.021736\n",
       "\n",
       "[626 rows x 2 columns]"
      ]
     },
     "execution_count": 147,
     "metadata": {},
     "output_type": "execute_result"
    }
   ],
   "source": [
    "##getting data from wrd\n",
    "apple=db.raw_sql(\"select date, ret \" \"from crsp.dsf \" \"where permco in (7) \" \n",
    "                \"and date>='2010-01-01'\" \"and date<='2021-12-31'\")\n",
    "pg=db.raw_sql(\"select  date, ret \" \"from crsp.dsf \" \"where permco in (21446) \" \n",
    "                \"and date>='2010-01-01'\" \"and date<='2021-12-31'\")\n",
    "\n",
    "#rename the columns\n",
    "apple=apple.rename(index=apple[\"date\"], columns={\"ret\": \"Apple\"})\n",
    "pg=pg.rename(index=pg[\"date\"], columns={\"ret\": \"PG\"})\n",
    "\n",
    "#merge into one table\n",
    "S=pd.merge(apple, pg, on='date')\n",
    "\n",
    "S['date']=pd.to_datetime(S['date'], format='%Y-%m-%d')\n",
    "S=S.set_index('date')\n",
    "\n",
    "#resample\n",
    "S=S+1\n",
    "S=S.resample('W').prod() - 1\n",
    "\n",
    "r_free=0.015\n",
    "S"
   ]
  },
  {
   "cell_type": "code",
   "execution_count": 78,
   "metadata": {},
   "outputs": [
    {
     "name": "stdout",
     "output_type": "stream",
     "text": [
      "Annualized expected return of Apple is 0.31488799352464364 and of PG is 0.12494079949532126\n",
      "Annualized standard deviation of Apple is 0.27885509761119703 and of PG is 0.15548409493148735\n",
      "Correlation between Apple and PG is 0.3158716491676753\n"
     ]
    }
   ],
   "source": [
    "#a)\n",
    "\n",
    "#Calculating expected return\n",
    "Apple_expret = S['Apple'].mean()*52\n",
    "pg_expret = S['PG'].mean()*52\n",
    "\n",
    "#calculating std\n",
    "Apple_std = S['Apple'].std()*np.sqrt(52)\n",
    "pg_std = S['PG'].std()*np.sqrt(52)\n",
    "\n",
    "#calculating correlation\n",
    "corr=S['Apple'].corr(S['PG'])\n",
    "\n",
    "#printing the results\n",
    "print('Annualized expected return of Apple is', Apple_expret, 'and of PG is', pg_expret)\n",
    "print('Annualized standard deviation of Apple is', Apple_std, 'and of PG is', pg_std)\n",
    "print('Correlation between Apple and PG is', corr)"
   ]
  },
  {
   "cell_type": "code",
   "execution_count": 150,
   "metadata": {},
   "outputs": [
    {
     "data": {
      "text/plain": [
       "Text(0.5, 1.0, 'mean-standard deviation frontier')"
      ]
     },
     "execution_count": 150,
     "metadata": {},
     "output_type": "execute_result"
    },
    {
     "data": {
      "image/png": "[encoded data removed]",
      "text/plain": [
       "<Figure size 432x288 with 1 Axes>"
      ]
     },
     "metadata": {
      "needs_background": "light"
     },
     "output_type": "display_data"
    }
   ],
   "source": [
    "#b)\n",
    "\n",
    "#computing mean and std of the portfolio\n",
    "weight = np.linspace(0, 1.0, num=1000)\n",
    "expreturn = weight*Apple_expret+(1-weight)*pg_expret\n",
    "std = np.sqrt(weight**2*Apple_std**2+(1-weight)**2*pg_std**2+2*corr*Apple_std*pg_std*weight*(1-weight))\n",
    "\n",
    "#plot the frontier\n",
    "plt.plot(std, expretuern)\n",
    "plt.xlabel('$\\sigma$')\n",
    "plt.ylabel('$\\mu$')\n",
    "plt.title('mean-standard deviation frontier')"
   ]
  },
  {
   "cell_type": "code",
   "execution_count": 149,
   "metadata": {},
   "outputs": [
    {
     "name": "stdout",
     "output_type": "stream",
     "text": [
      "Apple Weight: 0.14014014014014015\n",
      "PG Weight: 0.8598598598598599\n",
      "Global minimum variance portfolio expected return: 0.1515600258858169\n",
      "Global minimum variance portfolio standard deviation: 0.15067182599853363\n",
      "Sharp Ratio: 0.906340817075821\n"
     ]
    }
   ],
   "source": [
    "# c)\n",
    "#finding gmv portfolio\n",
    "gmv = np.argmin(std)\n",
    "\n",
    "#gmv potfolio\n",
    "apple_weights = weight[gmv]\n",
    "pg_weights = 1-apple_weights\n",
    "gmv_retuern = expreturn[gmv]\n",
    "gmv_std = std[gmv]\n",
    "Sharp_r = (gmv_retuern-r_free)/gmv_std\n",
    "\n",
    "print('Apple Weight:',apple_weights)\n",
    "print('PG Weight:',pg_weights)\n",
    "print('Global minimum variance portfolio expected return:', gmv_retuern)\n",
    "print('Global minimum variance portfolio standard deviation:', gmv_std)\n",
    "print('Sharp Ratio:', Sharp_r)"
   ]
  },
  {
   "cell_type": "code",
   "execution_count": 142,
   "metadata": {},
   "outputs": [
    {
     "data": {
      "text/plain": [
       "<matplotlib.legend.Legend at 0x25b2ef34d30>"
      ]
     },
     "execution_count": 142,
     "metadata": {},
     "output_type": "execute_result"
    },
    {
     "data": {
      "image/png": "[encoded data removed]",
      "text/plain": [
       "<Figure size 432x288 with 1 Axes>"
      ]
     },
     "metadata": {
      "needs_background": "light"
     },
     "output_type": "display_data"
    }
   ],
   "source": [
    "#d)\n",
    "SRatio=(expreturn-r_free)/std\n",
    "maxSR = np.max(SRatio)\n",
    "x= np.linspace(0, 0.3, num=2)\n",
    "CML=r_free+maxSR*x\n",
    "\n",
    "plt.plot(std, expretuern, label= 'mean-standard deviation frontier')\n",
    "plt.plot(x, CML, label='CML')\n",
    "plt.xlabel('$\\sigma$')\n",
    "plt.ylabel('$\\mu$')\n",
    "plt.title('Capital Market Line and mean-standard deviation frontier')\n",
    "plt.legend()"
   ]
  },
  {
   "cell_type": "code",
   "execution_count": null,
   "metadata": {},
   "outputs": [],
   "source": []
  },
  {
   "cell_type": "code",
   "execution_count": null,
   "metadata": {},
   "outputs": [],
   "source": []
  }
 ],
 "metadata": {
  "kernelspec": {
   "display_name": "Python 3",
   "language": "python",
   "name": "python3"
  },
  "language_info": {
   "codemirror_mode": {
    "name": "ipython",
    "version": 3
   },
   "file_extension": ".py",
   "mimetype": "text/x-python",
   "name": "python",
   "nbconvert_exporter": "python",
   "pygments_lexer": "ipython3",
   "version": "3.8.3"
  }
 },
 "nbformat": 4,
 "nbformat_minor": 4
}
