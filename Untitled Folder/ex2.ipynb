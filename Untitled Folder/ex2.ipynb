{
 "cells": [
  {
   "cell_type": "code",
   "execution_count": 23,
   "id": "bc734cc1",
   "metadata": {
    "scrolled": true
   },
   "outputs": [
    {
     "name": "stdout",
     "output_type": "stream",
     "text": [
      "Loading library list...\n",
      "Done\n"
     ]
    }
   ],
   "source": [
    "import pandas as pd\n",
    "import numpy as np\n",
    "import wrds\n",
    "import matplotlib.pyplot as plt\n",
    "db=wrds.Connection(wrds_username='hlanfran')\n",
    "from datetime import datetime"
   ]
  },
  {
   "cell_type": "markdown",
   "id": "d83a686c",
   "metadata": {},
   "source": [
    "### b\n",
    "\n",
    "It a specific application of the mean-variance analysis where we don't estimate the means, it directly estimates the the correlations and that assets have the same mean.\n"
   ]
  },
  {
   "cell_type": "markdown",
   "id": "d9410d8e",
   "metadata": {},
   "source": [
    "### c\n",
    "\n",
    "It a specific application of the mean-variance analysis where we don't estimate the means or the correlations, we assume that the covariance matrix is diagonal (assets are uncorrelated) and that the assets have the same sharp ratio"
   ]
  },
  {
   "cell_type": "markdown",
   "id": "11bc67c5",
   "metadata": {},
   "source": [
    "### d\n",
    "\n",
    "It a specific application of the mean-variance but we have nothing to estimate, we just assume that the assets are independent uncorrelated with same mean and variance"
   ]
  },
  {
   "cell_type": "code",
   "execution_count": 9,
   "id": "c8e42a00",
   "metadata": {
    "scrolled": true
   },
   "outputs": [],
   "source": [
    "data = db.raw_sql(\"select mcaldt, tmytm from crsp.tfz_mth_rf where kytreasnox = 2000001 and mcaldt>='1978-01-01' and mcaldt<='2021-12-31'\")\n",
    "data.to_csv('data.csv', sep=';', index=False)\n",
    "# rename\n",
    "data_rf = pd.read_csv(\"data.csv\", sep=';')\n",
    "data_rf[\"tmytm\"] = np.exp(data_rf['tmytm']/12/100)-1\n",
    "data_rf = data_rf.set_index(\"mcaldt\")\n"
   ]
  },
  {
   "cell_type": "code",
   "execution_count": 3,
   "id": "24bfbecb",
   "metadata": {
    "scrolled": true
   },
   "outputs": [
    {
     "data": {
      "text/html": [
       "<div>\n",
       "<style scoped>\n",
       "    .dataframe tbody tr th:only-of-type {\n",
       "        vertical-align: middle;\n",
       "    }\n",
       "\n",
       "    .dataframe tbody tr th {\n",
       "        vertical-align: top;\n",
       "    }\n",
       "\n",
       "    .dataframe thead th {\n",
       "        text-align: right;\n",
       "    }\n",
       "</style>\n",
       "<table border=\"1\" class=\"dataframe\">\n",
       "  <thead>\n",
       "    <tr style=\"text-align: right;\">\n",
       "      <th></th>\n",
       "      <th>stock</th>\n",
       "      <th>date</th>\n",
       "      <th>ret</th>\n",
       "    </tr>\n",
       "  </thead>\n",
       "  <tbody>\n",
       "    <tr>\n",
       "      <th>0</th>\n",
       "      <td>AMERICAN EXPRESS CO</td>\n",
       "      <td>1978-01-31</td>\n",
       "      <td>-0.040268</td>\n",
       "    </tr>\n",
       "    <tr>\n",
       "      <th>1</th>\n",
       "      <td>AMERICAN EXPRESS CO</td>\n",
       "      <td>1978-02-28</td>\n",
       "      <td>0.003497</td>\n",
       "    </tr>\n",
       "    <tr>\n",
       "      <th>2</th>\n",
       "      <td>AMERICAN EXPRESS CO</td>\n",
       "      <td>1978-03-31</td>\n",
       "      <td>0.067875</td>\n",
       "    </tr>\n",
       "    <tr>\n",
       "      <th>3</th>\n",
       "      <td>AMERICAN EXPRESS CO</td>\n",
       "      <td>1978-04-28</td>\n",
       "      <td>0.115512</td>\n",
       "    </tr>\n",
       "    <tr>\n",
       "      <th>4</th>\n",
       "      <td>AMERICAN EXPRESS CO</td>\n",
       "      <td>1978-05-31</td>\n",
       "      <td>0.008876</td>\n",
       "    </tr>\n",
       "    <tr>\n",
       "      <th>...</th>\n",
       "      <td>...</td>\n",
       "      <td>...</td>\n",
       "      <td>...</td>\n",
       "    </tr>\n",
       "    <tr>\n",
       "      <th>10555</th>\n",
       "      <td>EXXON MOBIL CORP</td>\n",
       "      <td>2021-08-31</td>\n",
       "      <td>0.072455</td>\n",
       "    </tr>\n",
       "    <tr>\n",
       "      <th>10556</th>\n",
       "      <td>EXXON MOBIL CORP</td>\n",
       "      <td>2021-09-30</td>\n",
       "      <td>-0.042702</td>\n",
       "    </tr>\n",
       "    <tr>\n",
       "      <th>10557</th>\n",
       "      <td>EXXON MOBIL CORP</td>\n",
       "      <td>2021-10-29</td>\n",
       "      <td>0.058351</td>\n",
       "    </tr>\n",
       "    <tr>\n",
       "      <th>10558</th>\n",
       "      <td>EXXON MOBIL CORP</td>\n",
       "      <td>2021-11-30</td>\n",
       "      <td>-0.086586</td>\n",
       "    </tr>\n",
       "    <tr>\n",
       "      <th>10559</th>\n",
       "      <td>EXXON MOBIL CORP</td>\n",
       "      <td>2021-12-31</td>\n",
       "      <td>0.070500</td>\n",
       "    </tr>\n",
       "  </tbody>\n",
       "</table>\n",
       "<p>10560 rows × 3 columns</p>\n",
       "</div>"
      ],
      "text/plain": [
       "                     stock        date       ret\n",
       "0      AMERICAN EXPRESS CO  1978-01-31 -0.040268\n",
       "1      AMERICAN EXPRESS CO  1978-02-28  0.003497\n",
       "2      AMERICAN EXPRESS CO  1978-03-31  0.067875\n",
       "3      AMERICAN EXPRESS CO  1978-04-28  0.115512\n",
       "4      AMERICAN EXPRESS CO  1978-05-31  0.008876\n",
       "...                    ...         ...       ...\n",
       "10555     EXXON MOBIL CORP  2021-08-31  0.072455\n",
       "10556     EXXON MOBIL CORP  2021-09-30 -0.042702\n",
       "10557     EXXON MOBIL CORP  2021-10-29  0.058351\n",
       "10558     EXXON MOBIL CORP  2021-11-30 -0.086586\n",
       "10559     EXXON MOBIL CORP  2021-12-31  0.070500\n",
       "\n",
       "[10560 rows x 3 columns]"
      ]
     },
     "execution_count": 3,
     "metadata": {},
     "output_type": "execute_result"
    }
   ],
   "source": [
    "data_company = db.raw_sql(\"select  permno, date,ret \"\n",
    "           \"from crsp.msf \"\n",
    "           \"where permno in (11308, 11850, 12490, 14541, 17830, 18163, 18542, 19502, 19561, 21936, 22111, 22592, 22752, 26403, 43449, 47896, 55976, 59176, 59328, 59459) \"\n",
    "           \"and date>='1978-01-01'\"\n",
    "            \"and date<='2021-12-31'\")\n",
    "data_company.to_csv('data_company.csv', sep=';', index=False)\n",
    "# rename\n",
    "data_company = pd.read_csv(\"data_company.csv\", sep=';')   \n",
    "\n",
    "\n",
    "data_company.loc[data_company.permno ==11308,'permno'] = 'AMERICAN EXPRESS CO'\n",
    "data_company.loc[data_company.permno ==11850,'permno'] = 'BOEING CO’'\n",
    "data_company.loc[data_company.permno ==12490,'permno'] = 'CATERPILLAR TRACTOR INC'\n",
    "data_company.loc[data_company.permno ==14541,'permno'] = 'CHEVRON CORP NEW'\n",
    "data_company.loc[data_company.permno ==17830,'permno'] = 'DISNEY WALT PRODUCTIONS'\n",
    "data_company.loc[data_company.permno ==18163,'permno'] = 'INTERNATIONAL BUSINESS MACHS CO'\n",
    "data_company.loc[data_company.permno ==18542,'permno'] = 'INTEL CORP'\n",
    "data_company.loc[data_company.permno ==19502,'permno'] = 'JOHNSON & JOHNSON'\n",
    "data_company.loc[data_company.permno ==19561,'permno'] = 'JPMORGAN CHASE & CO'\n",
    "data_company.loc[data_company.permno ==21936,'permno'] = 'COCA COLA CO'\n",
    "data_company.loc[data_company.permno ==22111,'permno'] = 'MCDONALDS CORP'\n",
    "data_company.loc[data_company.permno ==22592,'permno'] = '3M CO'\n",
    "data_company.loc[data_company.permno ==22752,'permno'] = 'MERCK & CO INC'\n",
    "data_company.loc[data_company.permno ==26403,'permno'] = 'PFIZER INC'\n",
    "data_company.loc[data_company.permno ==43449,'permno'] = 'PROCTER & GAMBLE CO'\n",
    "data_company.loc[data_company.permno ==47896,'permno'] = 'TRAVELERS COMPANIES INC'\n",
    "data_company.loc[data_company.permno ==55976,'permno'] = 'UNITED TECHNOLOGIES CORP'\n",
    "data_company.loc[data_company.permno ==59176,'permno'] = 'WALGREENS BOOTS ALLIANCE INC'\n",
    "data_company.loc[data_company.permno ==59328,'permno'] = 'WALMART INC'\n",
    "data_company.loc[data_company.permno ==59459,'permno'] = 'EXXON MOBIL CORP'\n",
    "\n",
    "\n",
    "data_company = data_company.rename(columns={'permno':'stock'})"
   ]
  },
  {
   "cell_type": "code",
   "execution_count": 4,
   "id": "15c8a420",
   "metadata": {},
   "outputs": [],
   "source": [
    "ret = data_company.groupby(\"date\")[\"ret\"].apply(list).reset_index()\n",
    "name = data_company.groupby(\"date\")[\"stock\"].apply(list).reset_index()\n",
    "d = ret.merge(name,on=\"date\")"
   ]
  },
  {
   "cell_type": "code",
   "execution_count": 5,
   "id": "4e026fe9",
   "metadata": {},
   "outputs": [],
   "source": [
    "all_data = pd.DataFrame(d.date)\n",
    "#for col in d.stock[0]:\n",
    "#    all_data[col] = 0\n",
    "for row in d.iterrows():\n",
    "    for i in range(len(row[1][2])):\n",
    "        all_data.loc[row[0],row[1][2][i]] = row[1][1][i]"
   ]
  },
  {
   "cell_type": "code",
   "execution_count": 6,
   "id": "53f42fc3",
   "metadata": {},
   "outputs": [],
   "source": [
    "#portofolios in different timeframes\n",
    "dates = all_data.date\n",
    "all_data = all_data.set_index(['date'])\n",
    "means = all_data.rolling(window=120,min_periods=120).mean()\n",
    "stds = all_data.rolling(window=120,min_periods=120).std()\n",
    "covs = all_data.rolling(window=120,min_periods=120).cov()\n",
    "means_rf = data_rf.rolling(window=120,min_periods=120).mean()"
   ]
  },
  {
   "cell_type": "code",
   "execution_count": 7,
   "id": "9db3bd82",
   "metadata": {
    "scrolled": true
   },
   "outputs": [],
   "source": [
    "#define constrains for the 20 stocks\n",
    "one = np.ones(20)\n",
    "w = np.zeros((np.shape(dates[119:])[0], 4, 20))"
   ]
  },
  {
   "cell_type": "code",
   "execution_count": 8,
   "id": "7b9b3de1",
   "metadata": {},
   "outputs": [],
   "source": [
    "date_number=0\n",
    "for d in dates[119:]:\n",
    "    mu = means.loc[d].values.T\n",
    "    std = stds.loc[d].values\n",
    "    sigma = covs.loc[d].values\n",
    "    sigma_inverted = np.linalg.inv(sigma)\n",
    "    rf = data_rf.loc[d].values\n",
    "\n",
    "    A = (one@sigma_inverted)@one\n",
    "    B = (one@sigma_inverted)@mu\n",
    "    C = (mu@sigma_inverted)@mu\n",
    "    DELTA = A*C-B**2\n",
    "\n",
    "    w[date_number,0,:] = (sigma_inverted@(mu-rf))/(B-A*rf)\n",
    "    w[date_number,1,:] = (sigma_inverted@one)/A\n",
    "    tmp = 1/std\n",
    "    w[date_number,2,:] = tmp/tmp.sum()\n",
    "    w[date_number,3,:] = np.ones(20)/20\n",
    "    date_number=date_number+1"
   ]
  },
  {
   "cell_type": "code",
   "execution_count": 16,
   "id": "0c72d01a",
   "metadata": {
    "scrolled": true
   },
   "outputs": [
    {
     "name": "stdout",
     "output_type": "stream",
     "text": [
      "\n",
      " (a) Mean, standard deviation and Sharpe ratio of portfolio returns:\n",
      "\n",
      " The monthly return statistics of the strategies are:\n"
     ]
    },
    {
     "data": {
      "text/html": [
       "<div>\n",
       "<style scoped>\n",
       "    .dataframe tbody tr th:only-of-type {\n",
       "        vertical-align: middle;\n",
       "    }\n",
       "\n",
       "    .dataframe tbody tr th {\n",
       "        vertical-align: top;\n",
       "    }\n",
       "\n",
       "    .dataframe thead th {\n",
       "        text-align: right;\n",
       "    }\n",
       "</style>\n",
       "<table border=\"1\" class=\"dataframe\">\n",
       "  <thead>\n",
       "    <tr style=\"text-align: right;\">\n",
       "      <th></th>\n",
       "      <th>TAN</th>\n",
       "      <th>GMV</th>\n",
       "      <th>RP</th>\n",
       "      <th>EW</th>\n",
       "    </tr>\n",
       "  </thead>\n",
       "  <tbody>\n",
       "    <tr>\n",
       "      <th>Mean Return</th>\n",
       "      <td>0.004966</td>\n",
       "      <td>0.008770</td>\n",
       "      <td>0.011801</td>\n",
       "      <td>0.012194</td>\n",
       "    </tr>\n",
       "    <tr>\n",
       "      <th>Mean Excess Return</th>\n",
       "      <td>0.002687</td>\n",
       "      <td>0.006491</td>\n",
       "      <td>0.009522</td>\n",
       "      <td>0.009916</td>\n",
       "    </tr>\n",
       "    <tr>\n",
       "      <th>Std. Dev.</th>\n",
       "      <td>0.074437</td>\n",
       "      <td>0.038427</td>\n",
       "      <td>0.039770</td>\n",
       "      <td>0.041486</td>\n",
       "    </tr>\n",
       "    <tr>\n",
       "      <th>Sharpe Ratio</th>\n",
       "      <td>0.036100</td>\n",
       "      <td>0.168928</td>\n",
       "      <td>0.239430</td>\n",
       "      <td>0.239010</td>\n",
       "    </tr>\n",
       "  </tbody>\n",
       "</table>\n",
       "</div>"
      ],
      "text/plain": [
       "                         TAN       GMV        RP        EW\n",
       "Mean Return         0.004966  0.008770  0.011801  0.012194\n",
       "Mean Excess Return  0.002687  0.006491  0.009522  0.009916\n",
       "Std. Dev.           0.074437  0.038427  0.039770  0.041486\n",
       "Sharpe Ratio        0.036100  0.168928  0.239430  0.239010"
      ]
     },
     "metadata": {},
     "output_type": "display_data"
    },
    {
     "name": "stdout",
     "output_type": "stream",
     "text": [
      "\n",
      " The annualized return statistics of the strategies are:\n"
     ]
    },
    {
     "data": {
      "text/html": [
       "<div>\n",
       "<style scoped>\n",
       "    .dataframe tbody tr th:only-of-type {\n",
       "        vertical-align: middle;\n",
       "    }\n",
       "\n",
       "    .dataframe tbody tr th {\n",
       "        vertical-align: top;\n",
       "    }\n",
       "\n",
       "    .dataframe thead th {\n",
       "        text-align: right;\n",
       "    }\n",
       "</style>\n",
       "<table border=\"1\" class=\"dataframe\">\n",
       "  <thead>\n",
       "    <tr style=\"text-align: right;\">\n",
       "      <th></th>\n",
       "      <th>TAN</th>\n",
       "      <th>GMV</th>\n",
       "      <th>RP</th>\n",
       "      <th>EW</th>\n",
       "    </tr>\n",
       "  </thead>\n",
       "  <tbody>\n",
       "    <tr>\n",
       "      <th>Mean Return (ann.)</th>\n",
       "      <td>0.059587</td>\n",
       "      <td>0.105238</td>\n",
       "      <td>0.141608</td>\n",
       "      <td>0.146330</td>\n",
       "    </tr>\n",
       "    <tr>\n",
       "      <th>Mean Excess Return (ann.)</th>\n",
       "      <td>0.032246</td>\n",
       "      <td>0.077896</td>\n",
       "      <td>0.114267</td>\n",
       "      <td>0.118988</td>\n",
       "    </tr>\n",
       "    <tr>\n",
       "      <th>Std. Dev. (ann.)</th>\n",
       "      <td>0.257856</td>\n",
       "      <td>0.133114</td>\n",
       "      <td>0.137769</td>\n",
       "      <td>0.143713</td>\n",
       "    </tr>\n",
       "    <tr>\n",
       "      <th>Sharpe Ratio (ann.)</th>\n",
       "      <td>0.125053</td>\n",
       "      <td>0.585183</td>\n",
       "      <td>0.829410</td>\n",
       "      <td>0.827956</td>\n",
       "    </tr>\n",
       "  </tbody>\n",
       "</table>\n",
       "</div>"
      ],
      "text/plain": [
       "                                TAN       GMV        RP        EW\n",
       "Mean Return (ann.)         0.059587  0.105238  0.141608  0.146330\n",
       "Mean Excess Return (ann.)  0.032246  0.077896  0.114267  0.118988\n",
       "Std. Dev. (ann.)           0.257856  0.133114  0.137769  0.143713\n",
       "Sharpe Ratio (ann.)        0.125053  0.585183  0.829410  0.827956"
      ]
     },
     "metadata": {},
     "output_type": "display_data"
    }
   ],
   "source": [
    "portofolios = ['TAN','GMV','RP','EW']\n",
    "dates_perf = all_data.iloc[120:].index.get_level_values(0)\n",
    "p_perf = np.zeros((len(dates_perf), 4))\n",
    "for j in range(4): \n",
    "    tmp = np.multiply(w[:-1,j,:],all_data.iloc[120:])\n",
    "    p_perf[:,j] = tmp.sum(axis=1)\n",
    "    \n",
    "    \n",
    "df_p_perf = pd.DataFrame(data=p_perf,index=dates_perf,columns=portofolios)\n",
    "\n",
    "R0 = data_rf.iloc[120:].mean().values\n",
    "M = df_p_perf.mean()\n",
    "E = df_p_perf.mean()-R0\n",
    "S = df_p_perf.std()\n",
    "SR = E/S\n",
    "index = ['Mean Return', 'Mean Excess Return', 'Std. Dev.', 'Sharpe Ratio']\n",
    "pStats = pd.DataFrame({index[0] : M, \n",
    "                    index[1] : E,\n",
    "                    index[2] : S, \n",
    "                    index[3] : SR\n",
    "                      })\n",
    "pStats = pStats.T\n",
    "pStats = pStats.reindex(index)\n",
    "\n",
    "index_a = [' (ann.)']*4\n",
    "index_a = [x+y for x, y in zip(index, index_a)]\n",
    "pStats_a = pd.DataFrame({index_a[0] : M*12,\n",
    "                    index_a[1] : E*12,\n",
    "                    index_a[2] : S*np.sqrt(12),\n",
    "                    index_a[3] : SR*np.sqrt(12)\n",
    "                      })\n",
    "pStats_a = pStats_a.T\n",
    "pStats_a = pStats_a.reindex(index_a)\n",
    "\n",
    "print('\\n (e) Mean, standard deviation and Sharpe ratio of portfolio returns:')\n",
    "print('\\n The monthly return statistics of the strategies are:')\n",
    "display(np.around(pStats,6))\n",
    "print('\\n The annualized return statistics of the strategies are:')\n",
    "display(np.around(pStats_a,6))"
   ]
  },
  {
   "cell_type": "code",
   "execution_count": 29,
   "id": "bc353044",
   "metadata": {},
   "outputs": [
    {
     "name": "stdout",
     "output_type": "stream",
     "text": [
      "\n",
      " (g) Minimum-variance frontier and location of the 4 portfolios using ex-post performance:\n"
     ]
    },
    {
     "data": {
      "image/png": "[encoded data removed]",
      "text/plain": [
       "<Figure size 432x288 with 1 Axes>"
      ]
     },
     "metadata": {
      "needs_background": "light"
     },
     "output_type": "display_data"
    },
    {
     "name": "stdout",
     "output_type": "stream",
     "text": [
      "\n",
      " (h) Cumulative performance of 1$ invested in December 1987:\n"
     ]
    },
    {
     "data": {
      "image/png": "[encoded data removed]",
      "text/plain": [
       "<Figure size 432x288 with 1 Axes>"
      ]
     },
     "metadata": {
      "needs_background": "light"
     },
     "output_type": "display_data"
    }
   ],
   "source": [
    "#MV frontiers\n",
    "Mup = np.linspace(0.002,0.015,1000)\n",
    "MU = all_data.loc[dates_perf].mean().values\n",
    "SIGMA = all_data.loc[dates_perf].cov().values\n",
    "INV_SIGMA = np.linalg.inv(SIGMA)\n",
    "\n",
    "A = (one@INV_SIGMA)@one\n",
    "B = (one@INV_SIGMA)@MU\n",
    "C = (MU@INV_SIGMA)@MU\n",
    "DELTA = A*C-B**2\n",
    "\n",
    "Sigmap = np.sqrt((A*np.multiply(Mup,Mup)-2*B*Mup+C)/DELTA)\n",
    "\n",
    "plt.plot(Sigmap,Mup)\n",
    "plt.xlabel('Standard Deviation')\n",
    "plt.ylabel('Expected Return')\n",
    "plt.plot(S,M,'ro')\n",
    "plt.plot(0.0001,R0,'bo')\n",
    "plt.xlim(0, 0.1)\n",
    "\n",
    "plt.annotate('TAN', xy=(S[0],M[0]), xytext=(S[0]-.003, M[0]-.0015))\n",
    "            \n",
    "plt.annotate('GMV', xy=(S[1],M[1]), xytext=(S[1]-.003, M[1]-.0015))\n",
    "\n",
    "plt.annotate('RP', xy=(S[2],M[2]), xytext=(S[2]-.003, M[2]+.0015))\n",
    "\n",
    "plt.annotate('EW', xy=(S[3],M[3]), xytext=(S[3]-.003, M[3]+.0015))\n",
    "\n",
    "plt.annotate('Rf', xy=(0, R0), xytext=(.001+.001, R0+.001))\n",
    "\n",
    "print('\\n (g) Minimum-variance frontier and location of the 4 portfolios using ex-post performance:')\n",
    "plt.show()\n",
    "\n",
    "#total return index\n",
    "dates_cumperf = all_data.iloc[119:].index.get_level_values(0)\n",
    "cumperf = np.cumprod(np.concatenate((one[0:4].reshape(1,4),1+p_perf),axis=0),axis=0)\n",
    "df_cumperf = pd.DataFrame(data=cumperf,index=dates_cumperf,columns=portofolios)\n",
    "\n",
    "df_cumperf.plot()\n",
    "plt.xlabel('Time')\n",
    "plt.ylabel('Cumulative performance of one dollar')\n",
    "plt.legend(portofolios, loc=0)\n",
    "\n",
    "\n",
    "print('\\n (h) Cumulative performance of 1$ invested in December 1987:')\n",
    "plt.show()"
   ]
  },
  {
   "cell_type": "markdown",
   "id": "0abed739",
   "metadata": {},
   "source": [
    "### (F)"
   ]
  },
  {
   "cell_type": "markdown",
   "id": "86116274",
   "metadata": {},
   "source": [
    "We can observe that here the best portofolios strategies here are RP and EW. Then GMV is a little underperforming and finally TAN is really not great in terms of performance.\n",
    "\n",
    "We have that the stds of portofolio strategies that do not use the means are lower than TAN stds, the high volatility of TAN might come from the error in the estimates of the means."
   ]
  },
  {
   "cell_type": "markdown",
   "id": "c7d61ac7",
   "metadata": {},
   "source": [
    "### (G)"
   ]
  },
  {
   "cell_type": "markdown",
   "id": "edffed91",
   "metadata": {},
   "source": [
    "We can observe that the best portolios strategies here are RP and EW. Then we have GMV and finally TAN. We can comment on this by saying that the order in which they rank is tied to how the computations are made. Indeed, RP and EW rely on easy computation of the weights. Then GMV and TAN depend quite heavily on the precision of the covariances and means respectively, and here we can say it is easier to estimate covariances rather than means as we got better results that way."
   ]
  },
  {
   "cell_type": "code",
   "execution_count": null,
   "id": "4d113c2a",
   "metadata": {},
   "outputs": [],
   "source": []
  }
 ],
 "metadata": {
  "kernelspec": {
   "display_name": "Python 3 (ipykernel)",
   "language": "python",
   "name": "python3"
  },
  "language_info": {
   "codemirror_mode": {
    "name": "ipython",
    "version": 3
   },
   "file_extension": ".py",
   "mimetype": "text/x-python",
   "name": "python",
   "nbconvert_exporter": "python",
   "pygments_lexer": "ipython3",
   "version": "3.8.12"
  }
 },
 "nbformat": 4,
 "nbformat_minor": 5
}
