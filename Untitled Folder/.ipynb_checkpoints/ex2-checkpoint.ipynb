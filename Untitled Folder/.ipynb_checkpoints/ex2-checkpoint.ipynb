{
 "cells": [
  {
   "cell_type": "code",
   "execution_count": 208,
   "id": "bc734cc1",
   "metadata": {
    "scrolled": true
   },
   "outputs": [
    {
     "name": "stdout",
     "output_type": "stream",
     "text": [
      "Loading library list...\n",
      "Done\n"
     ]
    }
   ],
   "source": [
    "import pandas as pd\n",
    "import numpy as np\n",
    "import wrds\n",
    "db=wrds.Connection(wrds_username='hlanfran')\n",
    "from datetime import datetime"
   ]
  },
  {
   "cell_type": "markdown",
   "id": "d83a686c",
   "metadata": {},
   "source": [
    "### b"
   ]
  },
  {
   "cell_type": "markdown",
   "id": "d9410d8e",
   "metadata": {},
   "source": [
    "### c"
   ]
  },
  {
   "cell_type": "markdown",
   "id": "11bc67c5",
   "metadata": {},
   "source": [
    "### d"
   ]
  },
  {
   "cell_type": "code",
   "execution_count": 213,
   "id": "c8e42a00",
   "metadata": {
    "scrolled": true
   },
   "outputs": [
    {
     "data": {
      "text/html": [
       "<div>\n",
       "<style scoped>\n",
       "    .dataframe tbody tr th:only-of-type {\n",
       "        vertical-align: middle;\n",
       "    }\n",
       "\n",
       "    .dataframe tbody tr th {\n",
       "        vertical-align: top;\n",
       "    }\n",
       "\n",
       "    .dataframe thead th {\n",
       "        text-align: right;\n",
       "    }\n",
       "</style>\n",
       "<table border=\"1\" class=\"dataframe\">\n",
       "  <thead>\n",
       "    <tr style=\"text-align: right;\">\n",
       "      <th></th>\n",
       "      <th>tmytm</th>\n",
       "    </tr>\n",
       "    <tr>\n",
       "      <th>mcaldt</th>\n",
       "      <th></th>\n",
       "    </tr>\n",
       "  </thead>\n",
       "  <tbody>\n",
       "    <tr>\n",
       "      <th>1978-01-31</th>\n",
       "      <td>0.005010</td>\n",
       "    </tr>\n",
       "    <tr>\n",
       "      <th>1978-02-28</th>\n",
       "      <td>0.005087</td>\n",
       "    </tr>\n",
       "    <tr>\n",
       "      <th>1978-03-31</th>\n",
       "      <td>0.005429</td>\n",
       "    </tr>\n",
       "    <tr>\n",
       "      <th>1978-04-28</th>\n",
       "      <td>0.005053</td>\n",
       "    </tr>\n",
       "    <tr>\n",
       "      <th>1978-05-31</th>\n",
       "      <td>0.005440</td>\n",
       "    </tr>\n",
       "    <tr>\n",
       "      <th>...</th>\n",
       "      <td>...</td>\n",
       "    </tr>\n",
       "    <tr>\n",
       "      <th>2021-08-31</th>\n",
       "      <td>0.000034</td>\n",
       "    </tr>\n",
       "    <tr>\n",
       "      <th>2021-09-30</th>\n",
       "      <td>0.000038</td>\n",
       "    </tr>\n",
       "    <tr>\n",
       "      <th>2021-10-29</th>\n",
       "      <td>0.000042</td>\n",
       "    </tr>\n",
       "    <tr>\n",
       "      <th>2021-11-30</th>\n",
       "      <td>0.000068</td>\n",
       "    </tr>\n",
       "    <tr>\n",
       "      <th>2021-12-31</th>\n",
       "      <td>0.000042</td>\n",
       "    </tr>\n",
       "  </tbody>\n",
       "</table>\n",
       "<p>528 rows × 1 columns</p>\n",
       "</div>"
      ],
      "text/plain": [
       "               tmytm\n",
       "mcaldt              \n",
       "1978-01-31  0.005010\n",
       "1978-02-28  0.005087\n",
       "1978-03-31  0.005429\n",
       "1978-04-28  0.005053\n",
       "1978-05-31  0.005440\n",
       "...              ...\n",
       "2021-08-31  0.000034\n",
       "2021-09-30  0.000038\n",
       "2021-10-29  0.000042\n",
       "2021-11-30  0.000068\n",
       "2021-12-31  0.000042\n",
       "\n",
       "[528 rows x 1 columns]"
      ]
     },
     "execution_count": 213,
     "metadata": {},
     "output_type": "execute_result"
    }
   ],
   "source": [
    "data = db.raw_sql(\"select mcaldt, tmytm from crsp.tfz_mth_rf where kytreasnox = 2000001 and mcaldt>='1978-01-01' and mcaldt<='2021-12-31'\")\n",
    "data.to_csv('data.csv', sep=';', index=False)\n",
    "# rename\n",
    "data_rf = pd.read_csv(\"data.csv\", sep=';')\n",
    "data_rf[\"tmytm\"] = np.exp(data_rf['tmytm']/12/100)-1\n",
    "data_rf = data_rf.set_index(\"mcaldt\")\n",
    "data_rf"
   ]
  },
  {
   "cell_type": "code",
   "execution_count": 24,
   "id": "24bfbecb",
   "metadata": {
    "scrolled": true
   },
   "outputs": [
    {
     "data": {
      "text/html": [
       "<div>\n",
       "<style scoped>\n",
       "    .dataframe tbody tr th:only-of-type {\n",
       "        vertical-align: middle;\n",
       "    }\n",
       "\n",
       "    .dataframe tbody tr th {\n",
       "        vertical-align: top;\n",
       "    }\n",
       "\n",
       "    .dataframe thead th {\n",
       "        text-align: right;\n",
       "    }\n",
       "</style>\n",
       "<table border=\"1\" class=\"dataframe\">\n",
       "  <thead>\n",
       "    <tr style=\"text-align: right;\">\n",
       "      <th></th>\n",
       "      <th>stock</th>\n",
       "      <th>date</th>\n",
       "      <th>ret</th>\n",
       "    </tr>\n",
       "  </thead>\n",
       "  <tbody>\n",
       "    <tr>\n",
       "      <th>0</th>\n",
       "      <td>AMERICAN EXPRESS CO</td>\n",
       "      <td>1978-01-31</td>\n",
       "      <td>-0.040268</td>\n",
       "    </tr>\n",
       "    <tr>\n",
       "      <th>1</th>\n",
       "      <td>AMERICAN EXPRESS CO</td>\n",
       "      <td>1978-02-28</td>\n",
       "      <td>0.003497</td>\n",
       "    </tr>\n",
       "    <tr>\n",
       "      <th>2</th>\n",
       "      <td>AMERICAN EXPRESS CO</td>\n",
       "      <td>1978-03-31</td>\n",
       "      <td>0.067875</td>\n",
       "    </tr>\n",
       "    <tr>\n",
       "      <th>3</th>\n",
       "      <td>AMERICAN EXPRESS CO</td>\n",
       "      <td>1978-04-28</td>\n",
       "      <td>0.115512</td>\n",
       "    </tr>\n",
       "    <tr>\n",
       "      <th>4</th>\n",
       "      <td>AMERICAN EXPRESS CO</td>\n",
       "      <td>1978-05-31</td>\n",
       "      <td>0.008876</td>\n",
       "    </tr>\n",
       "    <tr>\n",
       "      <th>...</th>\n",
       "      <td>...</td>\n",
       "      <td>...</td>\n",
       "      <td>...</td>\n",
       "    </tr>\n",
       "    <tr>\n",
       "      <th>10555</th>\n",
       "      <td>EXXON MOBIL CORP</td>\n",
       "      <td>2021-08-31</td>\n",
       "      <td>0.072455</td>\n",
       "    </tr>\n",
       "    <tr>\n",
       "      <th>10556</th>\n",
       "      <td>EXXON MOBIL CORP</td>\n",
       "      <td>2021-09-30</td>\n",
       "      <td>-0.042702</td>\n",
       "    </tr>\n",
       "    <tr>\n",
       "      <th>10557</th>\n",
       "      <td>EXXON MOBIL CORP</td>\n",
       "      <td>2021-10-29</td>\n",
       "      <td>0.058351</td>\n",
       "    </tr>\n",
       "    <tr>\n",
       "      <th>10558</th>\n",
       "      <td>EXXON MOBIL CORP</td>\n",
       "      <td>2021-11-30</td>\n",
       "      <td>-0.086586</td>\n",
       "    </tr>\n",
       "    <tr>\n",
       "      <th>10559</th>\n",
       "      <td>EXXON MOBIL CORP</td>\n",
       "      <td>2021-12-31</td>\n",
       "      <td>0.070500</td>\n",
       "    </tr>\n",
       "  </tbody>\n",
       "</table>\n",
       "<p>10560 rows × 3 columns</p>\n",
       "</div>"
      ],
      "text/plain": [
       "                     stock        date       ret\n",
       "0      AMERICAN EXPRESS CO  1978-01-31 -0.040268\n",
       "1      AMERICAN EXPRESS CO  1978-02-28  0.003497\n",
       "2      AMERICAN EXPRESS CO  1978-03-31  0.067875\n",
       "3      AMERICAN EXPRESS CO  1978-04-28  0.115512\n",
       "4      AMERICAN EXPRESS CO  1978-05-31  0.008876\n",
       "...                    ...         ...       ...\n",
       "10555     EXXON MOBIL CORP  2021-08-31  0.072455\n",
       "10556     EXXON MOBIL CORP  2021-09-30 -0.042702\n",
       "10557     EXXON MOBIL CORP  2021-10-29  0.058351\n",
       "10558     EXXON MOBIL CORP  2021-11-30 -0.086586\n",
       "10559     EXXON MOBIL CORP  2021-12-31  0.070500\n",
       "\n",
       "[10560 rows x 3 columns]"
      ]
     },
     "execution_count": 24,
     "metadata": {},
     "output_type": "execute_result"
    }
   ],
   "source": [
    "data_company = db.raw_sql(\"select  permno, date,ret \"\n",
    "           \"from crsp.msf \"\n",
    "           \"where permno in (11308, 11850, 12490, 14541, 17830, 18163, 18542, 19502, 19561, 21936, 22111, 22592, 22752, 26403, 43449, 47896, 55976, 59176, 59328, 59459) \"\n",
    "           \"and date>='1978-01-01'\"\n",
    "            \"and date<='2021-12-31'\")\n",
    "data_company.to_csv('data_company.csv', sep=';', index=False)\n",
    "# rename\n",
    "data_company = pd.read_csv(\"data_company.csv\", sep=';')   \n",
    "\n",
    "\n",
    "data_company.loc[data_company.permno ==11308,'permno'] = 'AMERICAN EXPRESS CO'\n",
    "data_company.loc[data_company.permno ==11850,'permno'] = 'BOEING CO’'\n",
    "data_company.loc[data_company.permno ==12490,'permno'] = 'CATERPILLAR TRACTOR INC'\n",
    "data_company.loc[data_company.permno ==14541,'permno'] = 'CHEVRON CORP NEW'\n",
    "data_company.loc[data_company.permno ==17830,'permno'] = 'DISNEY WALT PRODUCTIONS'\n",
    "data_company.loc[data_company.permno ==18163,'permno'] = 'INTERNATIONAL BUSINESS MACHS CO'\n",
    "data_company.loc[data_company.permno ==18542,'permno'] = 'INTEL CORP'\n",
    "data_company.loc[data_company.permno ==19502,'permno'] = 'JOHNSON & JOHNSON'\n",
    "data_company.loc[data_company.permno ==19561,'permno'] = 'JPMORGAN CHASE & CO'\n",
    "data_company.loc[data_company.permno ==21936,'permno'] = 'COCA COLA CO'\n",
    "data_company.loc[data_company.permno ==22111,'permno'] = 'MCDONALDS CORP'\n",
    "data_company.loc[data_company.permno ==22592,'permno'] = '3M CO'\n",
    "data_company.loc[data_company.permno ==22752,'permno'] = 'MERCK & CO INC'\n",
    "data_company.loc[data_company.permno ==26403,'permno'] = 'PFIZER INC'\n",
    "data_company.loc[data_company.permno ==43449,'permno'] = 'PROCTER & GAMBLE CO'\n",
    "data_company.loc[data_company.permno ==47896,'permno'] = 'TRAVELERS COMPANIES INC'\n",
    "data_company.loc[data_company.permno ==55976,'permno'] = 'UNITED TECHNOLOGIES CORP'\n",
    "data_company.loc[data_company.permno ==59176,'permno'] = 'WALGREENS BOOTS ALLIANCE INC'\n",
    "data_company.loc[data_company.permno ==59328,'permno'] = 'WALMART INC'\n",
    "data_company.loc[data_company.permno ==59459,'permno'] = 'EXXON MOBIL CORP'\n",
    "\n",
    "\n",
    "data_company = data_company.rename(columns={'permno':'stock'})\n",
    "data_company"
   ]
  },
  {
   "cell_type": "code",
   "execution_count": 195,
   "id": "15c8a420",
   "metadata": {},
   "outputs": [],
   "source": [
    "ret = data_company.groupby(\"date\")[\"ret\"].apply(list).reset_index()\n",
    "name = data_company.groupby(\"date\")[\"stock\"].apply(list).reset_index()\n",
    "d = ret.merge(name,on=\"date\")"
   ]
  },
  {
   "cell_type": "code",
   "execution_count": 196,
   "id": "4e026fe9",
   "metadata": {},
   "outputs": [],
   "source": [
    "all_data = pd.DataFrame(d.date)\n",
    "#for col in d.stock[0]:\n",
    "#    all_data[col] = 0\n",
    "for row in d.iterrows():\n",
    "    for i in range(len(row[1][2])):\n",
    "        all_data.loc[row[0],row[1][2][i]] = row[1][1][i]"
   ]
  },
  {
   "cell_type": "code",
   "execution_count": 198,
   "id": "53f42fc3",
   "metadata": {},
   "outputs": [],
   "source": [
    "#portofolios in different timeframes\n",
    "dates = all_data.date\n",
    "all_data = all_data.set_index(['date'])\n",
    "means = all_data.rolling(window=120,min_periods=120).mean()\n",
    "stds = all_data.rolling(window=120,min_periods=120).std()\n",
    "covs = all_data.rolling(window=120,min_periods=120).cov()\n",
    "means_rf = data_rf.rolling(window=120,min_periods=120).mean()"
   ]
  },
  {
   "cell_type": "code",
   "execution_count": 219,
   "id": "9db3bd82",
   "metadata": {
    "scrolled": true
   },
   "outputs": [],
   "source": [
    "#define constrains for the 20 stocks\n",
    "one = np.ones(20)\n",
    "w = np.zeros((np.shape(dates[119:])[0], 4, 20))"
   ]
  },
  {
   "cell_type": "code",
   "execution_count": 228,
   "id": "7b9b3de1",
   "metadata": {},
   "outputs": [],
   "source": [
    "date_number=0\n",
    "for d in dates[119:]:\n",
    "    mu = means.loc[d].values.T\n",
    "    std = stds.loc[d].values\n",
    "    sigma = covs.loc[d].values\n",
    "    sigma_inverted = np.linalg.inv(sigma)\n",
    "    rf = data_rf.loc[d].values\n",
    "\n",
    "    A = (one@sigma_inverted)@one\n",
    "    B = (one@sigma_inverted)@mu\n",
    "    C = (mu@sigma_inverted)@mu\n",
    "    DELTA = A*C-B**2\n",
    "\n",
    "    w[date_number,0,:] = (sigma_inverted@(mu-rf))/(B-A*rf)\n",
    "    w[date_number,1,:] = (sigma_inverted@one)/A\n",
    "    tmp = 1/std\n",
    "    w[date_number,2,:] = tmp/tmp.sum()\n",
    "    w[date_number,3,:] = np.ones(20)/20\n",
    "    date_number=date_number+1"
   ]
  },
  {
   "cell_type": "code",
   "execution_count": 220,
   "id": "0c72d01a",
   "metadata": {
    "scrolled": true
   },
   "outputs": [
    {
     "data": {
      "text/plain": [
       "(528, 20)"
      ]
     },
     "execution_count": 220,
     "metadata": {},
     "output_type": "execute_result"
    }
   ],
   "source": []
  },
  {
   "cell_type": "code",
   "execution_count": null,
   "id": "bc353044",
   "metadata": {},
   "outputs": [],
   "source": []
  },
  {
   "cell_type": "code",
   "execution_count": null,
   "id": "e39cad2c",
   "metadata": {},
   "outputs": [],
   "source": []
  },
  {
   "cell_type": "code",
   "execution_count": null,
   "id": "77a77367",
   "metadata": {},
   "outputs": [],
   "source": []
  }
 ],
 "metadata": {
  "kernelspec": {
   "display_name": "Python 3 (ipykernel)",
   "language": "python",
   "name": "python3"
  },
  "language_info": {
   "codemirror_mode": {
    "name": "ipython",
    "version": 3
   },
   "file_extension": ".py",
   "mimetype": "text/x-python",
   "name": "python",
   "nbconvert_exporter": "python",
   "pygments_lexer": "ipython3",
   "version": "3.8.12"
  }
 },
 "nbformat": 4,
 "nbformat_minor": 5
}
