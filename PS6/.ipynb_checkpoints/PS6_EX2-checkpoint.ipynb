{
 "cells": [
  {
   "cell_type": "code",
   "execution_count": 24,
   "id": "ee32c3f6",
   "metadata": {},
   "outputs": [],
   "source": [
    "import numpy as np\n",
    "import pandas as pd\n",
    "import wrds\n",
    "import datetime\n",
    "import matplotlib.pyplot as plt"
   ]
  },
  {
   "cell_type": "code",
   "execution_count": 61,
   "id": "76730cdd",
   "metadata": {},
   "outputs": [],
   "source": [
    "import warnings\n",
    "warnings.filterwarnings('ignore')"
   ]
  },
  {
   "cell_type": "code",
   "execution_count": 3,
   "id": "3b210dd4",
   "metadata": {
    "scrolled": true
   },
   "outputs": [
    {
     "name": "stdout",
     "output_type": "stream",
     "text": [
      "Loading library list...\n",
      "Done\n"
     ]
    }
   ],
   "source": [
    "db=wrds.Connection(wrds_username='hlanfran')\n"
   ]
  },
  {
   "cell_type": "markdown",
   "id": "0888974b",
   "metadata": {},
   "source": [
    "### (a)"
   ]
  },
  {
   "cell_type": "markdown",
   "id": "1ce4f1b0",
   "metadata": {},
   "source": [
    "### Get Data"
   ]
  },
  {
   "cell_type": "code",
   "execution_count": 44,
   "id": "d0ef86c4",
   "metadata": {},
   "outputs": [],
   "source": [
    "Rf=db.raw_sql(\"select  mcaldt,tmytm \"\n",
    "           \"from crsp.tfz_mth_rf \"           \n",
    "            \"where kytreasnox = 2000001 \"\n",
    "           \"and mcaldt>='1980-01-01'\"\n",
    "            \"and mcaldt<='2021-12-31'\", date_cols=['mcaldt'])\n",
    "\n",
    "Rf['tmytm']=np.exp(Rf['tmytm']/12/100)-1\n",
    "Rf=Rf.rename(columns={ \"mcaldt\": \"date\",\"tmytm\": \"rf\"})\n",
    "\n",
    "\n",
    "data_index=db.raw_sql(\"select  date,vwretd \"\n",
    "           \"from crsp.msi \"\n",
    "           \"where date>='1980-01-01'\"\n",
    "            \"and date<='2021-12-31'\", date_cols=['date'])\n",
    "\n",
    "\n",
    "crsp_m = db.raw_sql(\"\"\"\n",
    "                      select a.permno, a.date, \n",
    "                      b.shrcd, b.exchcd,\n",
    "                      a.ret, a.shrout, a.prc\n",
    "                      from crsp.msf as a\n",
    "                      left join crsp.msenames as b\n",
    "                      on a.permno=b.permno\n",
    "                      and b.namedt<=a.date\n",
    "                      and a.date<=b.nameendt\n",
    "                      where a.date between '01/01/1980' and '12/31/2021'\n",
    "                      and b.exchcd between 1 and 2\n",
    "                      and b.shrcd between 10 and 11\n",
    "                      \"\"\", date_cols=['date']) \n",
    "\n",
    "msf=crsp_m.drop(['shrcd','exchcd'],axis=1)"
   ]
  },
  {
   "cell_type": "markdown",
   "id": "7ca82bc0",
   "metadata": {},
   "source": [
    "### clean data "
   ]
  },
  {
   "cell_type": "code",
   "execution_count": 45,
   "id": "6fa09ccd",
   "metadata": {},
   "outputs": [],
   "source": [
    "data=data[data.obs==504]\n",
    "msf['permno'] = msf['permno'].astype(int)\n",
    "msf.sort_values(['permno','date'])\n",
    "msf['size'] = msf['shrout'] * msf['prc'].abs()\n",
    "msf['const'] = 1\n",
    "\n",
    "msf['size_lag']= msf.groupby('permno')['size'].shift(1).to_frame()\n",
    "\n",
    "obs=msf[['const','permno']].groupby(['permno']).sum().reset_index().rename(columns={'const': 'obs'})\n",
    "msf = pd.merge(msf, obs, how='left', left_on=['permno'],right_on=['permno'])\n",
    "\n",
    "data_index = pd.merge(data_index, Rf, how='left', left_on=['date'],right_on='date')\n",
    "data_index['mprem']=(data_index['vwretd']-data_index['rf'])\n",
    "data = pd.merge(msf, data_index, how='left', left_on=['date'],right_on='date')\n",
    "data['exret']=data['ret']-data['rf']"
   ]
  },
  {
   "cell_type": "markdown",
   "id": "b865b3db",
   "metadata": {},
   "source": [
    "### (b)"
   ]
  },
  {
   "cell_type": "code",
   "execution_count": 87,
   "id": "39cf0c73",
   "metadata": {},
   "outputs": [],
   "source": [
    "def equal_weighted_average(grp, name, weight_name):\n",
    "    d = grp[name]\n",
    "    w = grp[weight_name]\n",
    "    try:\n",
    "        return (d * w).sum() / w.sum()\n",
    "    except ZeroDivisionError:\n",
    "        return np.nan\n",
    "\n",
    "covariances_all=data.groupby('permno')['exret'].cov(data['mprem']).to_frame().reset_index().rename(columns={'exret': 'covar_all'})\n",
    "var_all=data.groupby('permno')['mprem'].var().to_frame().reset_index().rename(columns={'mprem': 'var_all'})\n",
    "betas_all[\"betas_all\"] = covariances_all[\"covar_all\"]/var_all[\"var_all\"]\n",
    "data = pd.merge(data, betas_all, how='left', left_on=['permno'],right_on='permno')\n",
    "data['decile']=1+data[['betas_all','date']].groupby('date').transform(lambda x: pd.qcut(x, 10, labels=False))"
   ]
  },
  {
   "cell_type": "code",
   "execution_count": 88,
   "id": "718b15ea",
   "metadata": {},
   "outputs": [],
   "source": [
    "ret_all =data.groupby(['decile','date']).apply(equal_weighted_average, 'ret','const').to_frame().reset_index().rename(columns={0: 'ret_all'})\n",
    "betas =data.groupby(['decile']).apply(equal_weighted_average, 'betas_all','const').to_frame().reset_index().rename(columns={0: 'betas_all_'})\n",
    "ret_all_decile=ret_all.groupby(['decile']).mean().reset_index()\n"
   ]
  },
  {
   "cell_type": "code",
   "execution_count": 90,
   "id": "4e470802",
   "metadata": {},
   "outputs": [
    {
     "data": {
      "text/plain": [
       "Text(0, 0.5, 'average return')"
      ]
     },
     "execution_count": 90,
     "metadata": {},
     "output_type": "execute_result"
    },
    {
     "data": {
      "image/png": "[encoded data removed]",
      "text/plain": [
       "<Figure size 432x288 with 1 Axes>"
      ]
     },
     "metadata": {
      "needs_background": "light"
     },
     "output_type": "display_data"
    }
   ],
   "source": [
    "plt.plot(betas['betas_all_'].values,ret_all_decile['ret_all'].values,'ro')\n",
    "\n",
    "plt.xlabel('beta')\n",
    "plt.ylabel('average return')"
   ]
  },
  {
   "cell_type": "markdown",
   "id": "e8cfde3c",
   "metadata": {},
   "source": [
    "### (c)"
   ]
  },
  {
   "cell_type": "code",
   "execution_count": 62,
   "id": "2ac7a3ec",
   "metadata": {
    "scrolled": true
   },
   "outputs": [],
   "source": [
    "#out of sample data for second part\n",
    "data['half']=\"oosd\"\n",
    "data.loc[data['date']<'01-01-2000','half']=\"isd\"\n",
    "\n",
    "#in sample data\n",
    "covariances1=data[data['date']<'01-01-2000'].groupby('permno')['exret'].cov(data['mprem']).to_frame().reset_index().rename(columns={'exret': 'covar1'})\n",
    "mvar1=data[data['date']<'01-01-2000'].groupby('permno')['mprem'].var().to_frame().reset_index().rename(columns={'mprem': 'varm1'})\n",
    "#out of sample data\n",
    "covariances2=data[data['date']>='01-01-2000'].groupby('permno')['exret'].cov(data['mprem']).to_frame().reset_index().rename(columns={'exret': 'covar2'})\n",
    "mvar2=data[data['date']>='01-01-2000'].groupby('permno')['mprem'].var().to_frame().reset_index().rename(columns={'mprem': 'varm2'})\n",
    "\n",
    "#merge new values with original dataset\n",
    "betas = pd.merge(covariances1, mvar1, how='left', left_on=['permno'],right_on='permno')\n",
    "betas = pd.merge(betas, covariances2, how='left', left_on=['permno'],right_on='permno')\n",
    "betas = pd.merge(betas, mvar2, how='left', left_on=['permno'],right_on='permno')\n",
    "\n",
    "# cumpute the betas\n",
    "betas['beta1']=betas['covar1']/betas['varm1']\n",
    "betas['beta2']=betas['covar2']/betas['varm2']\n",
    "\n",
    "data= pd.merge(data, betas, how='left', left_on=['permno'],right_on='permno')\n",
    "\n",
    "data = data.sort_values(['decile', 'date'])\n",
    "\n",
    "data=data.set_index('date')  \n",
    "\n",
    "# equally weigthed return\n",
    "rets_oofd=data[data['half']==\"oosd\"].groupby(['decile','date']).apply(equal_weighted_average, 'ret','const').to_frame().reset_index().rename(columns={0: 'ewret'})\n",
    "\n",
    "rets_isd=data[data['half']==\"isd\"].groupby(['decile']).apply(equal_weighted_average, 'beta1_x','const').to_frame().reset_index().rename(columns={0: 'beta1'})\n",
    "\n",
    "betas_oofd=data[data['half']==\"oosd\"].groupby(['decile']).apply(equal_weighted_average, 'beta2_x','const').to_frame().reset_index().rename(columns={0: 'beta2'})\n",
    "\n",
    "avgewrets2=rets_oofd.groupby(['decile']).mean().reset_index()\n",
    "\n",
    "data=data.reset_index()"
   ]
  },
  {
   "cell_type": "markdown",
   "id": "b85b5193",
   "metadata": {},
   "source": [
    "### plot returns against betas"
   ]
  },
  {
   "cell_type": "code",
   "execution_count": 64,
   "id": "9fd82ef8",
   "metadata": {},
   "outputs": [
    {
     "data": {
      "text/plain": [
       "Text(0, 0.5, 'average return')"
      ]
     },
     "execution_count": 64,
     "metadata": {},
     "output_type": "execute_result"
    },
    {
     "data": {
      "image/png": "[encoded data removed]",
      "text/plain": [
       "<Figure size 432x288 with 1 Axes>"
      ]
     },
     "metadata": {
      "needs_background": "light"
     },
     "output_type": "display_data"
    }
   ],
   "source": [
    "plt.plot(rets_isd['beta1'].values,rets_oofd['ewret'].values,'ro')\n",
    "\n",
    "plt.xlabel('beta')\n",
    "plt.ylabel('average return')"
   ]
  },
  {
   "cell_type": "markdown",
   "id": "95fb5f5f",
   "metadata": {},
   "source": [
    "### plot betas"
   ]
  },
  {
   "cell_type": "code",
   "execution_count": 66,
   "id": "c382c238",
   "metadata": {
    "scrolled": false
   },
   "outputs": [
    {
     "data": {
      "text/plain": [
       "Text(0, 0.5, 'second-half beta')"
      ]
     },
     "execution_count": 66,
     "metadata": {},
     "output_type": "execute_result"
    },
    {
     "data": {
      "image/png": "[encoded data removed]",
      "text/plain": [
       "<Figure size 432x288 with 1 Axes>"
      ]
     },
     "metadata": {
      "needs_background": "light"
     },
     "output_type": "display_data"
    }
   ],
   "source": [
    "plt.plot(rets_isd['beta1'].values,betas_oofd['beta2'].values,'ro')\n",
    "\n",
    "plt.xlabel('first-half beta')\n",
    "plt.ylabel('second-half beta')\n"
   ]
  },
  {
   "cell_type": "markdown",
   "id": "d22be892",
   "metadata": {},
   "source": [
    "The samples are not very consistent accross the two periods.\n",
    "The out of sample are still consitent with the CAPM nevertheless"
   ]
  },
  {
   "cell_type": "markdown",
   "id": "b5881c79",
   "metadata": {},
   "source": [
    "### (d)"
   ]
  },
  {
   "cell_type": "code",
   "execution_count": 94,
   "id": "d21ed9b7",
   "metadata": {
    "scrolled": true
   },
   "outputs": [
    {
     "data": {
      "text/plain": [
       "date\n",
       "1980-01-31    1.0\n",
       "1980-01-31    1.0\n",
       "1980-01-31    1.0\n",
       "1980-01-31    1.0\n",
       "1980-01-31    1.0\n",
       "             ... \n",
       "2021-12-31    NaN\n",
       "2021-12-31    NaN\n",
       "2021-12-31    NaN\n",
       "2021-12-31    NaN\n",
       "2021-12-31    NaN\n",
       "Name: decile, Length: 965267, dtype: float64"
      ]
     },
     "execution_count": 94,
     "metadata": {},
     "output_type": "execute_result"
    }
   ],
   "source": [
    "first_decile = data[data[\"decile\"] == 1.0]\n",
    "last_decile = data[data[\"decile\"] == 10.0]\n",
    "\n",
    "first_decile_std = first_decile[\"exret\"].std()\n",
    "first_decile_mean = first_decile[\"exret\"].mean()\n",
    "\n",
    "last_decile_std = last_decile[\"exret\"].std()\n",
    "last_decile_mean = last_decile[\"exret\"].mean()\n",
    "\n",
    "first_decile_SR = first_decile_mean/first_decile_std\n",
    "last_decile_SR = last_decile_mean/last_decile_std"
   ]
  },
  {
   "cell_type": "code",
   "execution_count": null,
   "id": "c9c09bfb",
   "metadata": {},
   "outputs": [],
   "source": []
  }
 ],
 "metadata": {
  "kernelspec": {
   "display_name": "Python 3 (ipykernel)",
   "language": "python",
   "name": "python3"
  },
  "language_info": {
   "codemirror_mode": {
    "name": "ipython",
    "version": 3
   },
   "file_extension": ".py",
   "mimetype": "text/x-python",
   "name": "python",
   "nbconvert_exporter": "python",
   "pygments_lexer": "ipython3",
   "version": "3.8.12"
  }
 },
 "nbformat": 4,
 "nbformat_minor": 5
}
