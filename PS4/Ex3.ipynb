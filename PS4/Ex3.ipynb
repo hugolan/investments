{
 "cells": [
  {
   "cell_type": "markdown",
   "metadata": {},
   "source": [
    "Problem 3\n",
    "--------------------------------------------------"
   ]
  },
  {
   "cell_type": "code",
   "execution_count": 59,
   "metadata": {},
   "outputs": [],
   "source": [
    "import numpy as np\n",
    "\n",
    "#inputs\n",
    "sigma=np.array([[0.0144, 0.0015, 0.002],\n",
    "      [0.0015, 0.0225, 0.003],\n",
    "      [0.002, 0.003, 0.04]])\n",
    "expret = np.array([[0.06],\n",
    "                   [0.08],\n",
    "                   [0.10]])\n",
    "one = np.array([[1.0],\n",
    "                [1.0],\n",
    "                [1.0]])\n",
    "rf=0.03"
   ]
  },
  {
   "cell_type": "code",
   "execution_count": 60,
   "metadata": {},
   "outputs": [],
   "source": [
    "#calculating paramenters\n",
    "invsigma = np.linalg.inv(sigma)\n",
    "B=one.T@invsigma@expret\n",
    "A=one.T@invsigma@one\n",
    "C=expret.T@invsigma@expret\n",
    "a=4.0"
   ]
  },
  {
   "cell_type": "code",
   "execution_count": 62,
   "metadata": {},
   "outputs": [
    {
     "name": "stdout",
     "output_type": "stream",
     "text": [
      "The weights of 3 risky assets: [[0.41826513]\n",
      " [0.47689527]\n",
      " [0.3808196 ]]\n",
      "The expected return of the optimal portfolio 10.132948912254115 %\n",
      "The standard deviation of the optimal portfolio 12.554888410328488 %\n",
      "Weight of the market portfolio: 1.27597999747403 . Since the weight of the market portfolio is greater than 1, it means that the investor is a borrower. Thus, the weight of the risk-free asset in the portfolio is -0.27597999747403\n"
     ]
    }
   ],
   "source": [
    "# (1)\n",
    "\n",
    "#calculate portfolio composition\n",
    "w_mvp=1/a*invsigma@(expret-rf*one)\n",
    "#calculate portfolio return\n",
    "ret_mvp=expret.T@w_mvp\n",
    "#calculate portfolio volatility\n",
    "std_mvp=np.sqrt(w_mvp.T@sigma@w_mvp)\n",
    "w_mp_x=one.T@w_mvp\n",
    "w_rf_x=1-one.T@w_mvp\n",
    "\n",
    "#print results\n",
    "print('The weights of 3 risky assets:', w_mvp)\n",
    "print('The expected return of the optimal portfolio', ret_mvp[0][0]*100,'%')\n",
    "print('The standard deviation of the optimal portfolio', std_mvp[0][0]*100,'%')\n",
    "print ('Weight of the market portfolio:', w_mp_x[0][0],'. Since the weight of the market portfolio is',\n",
    "       'greater than 1, it means that the investor is a borrower. Thus, the weight of the risk-free asset in the portfolio is',w_rf_x[0][0] )"
   ]
  },
  {
   "cell_type": "code",
   "execution_count": 63,
   "metadata": {},
   "outputs": [
    {
     "name": "stdout",
     "output_type": "stream",
     "text": [
      "The weights of 3 risky assets in the market portfolio: [[0.32779913]\n",
      " [0.37374823]\n",
      " [0.29845264]]\n",
      "The expected return of the tangency portfolio 7.941307020731999 %\n",
      "The standard deviation of the tangency portfolio 9.839408482250928 %\n"
     ]
    }
   ],
   "source": [
    "#(2)\n",
    "\n",
    "#calculate market portfolio composition\n",
    "w_tan=(invsigma@(expret-rf*one))/(B-A*rf)\n",
    "#calculate market portfolio return\n",
    "ret_tan=expret.T@w_tan\n",
    "#calculate market portfolio volatility\n",
    "std_tan=np.sqrt(w_tan.T@sigma@w_tan)\n",
    "\n",
    "#print results\n",
    "print('The weights of 3 risky assets in the market portfolio:', w_tan)\n",
    "print('The expected return of the tangency portfolio', ret_tan[0][0]*100,'%')\n",
    "print('The standard deviation of the tangency portfolio', std_tan[0][0]*100,'%')"
   ]
  },
  {
   "cell_type": "code",
   "execution_count": 64,
   "metadata": {},
   "outputs": [
    {
     "name": "stdout",
     "output_type": "stream",
     "text": [
      "The economy-wide aggregate risk aversion: 5.10391998989612 The value is higher than that of the investor X, which means that,in general, investors are more risk averse and prefer to invest less in the market and more in the risk-free asset than investor X.\n"
     ]
    }
   ],
   "source": [
    "# (3)\n",
    "\n",
    "#calcultate aggregate risk aversion\n",
    "agg_risk_aversion=(ret_tan-rf)/(std_tan**2)\n",
    "print('The economy-wide aggregate risk aversion:', agg_risk_aversion[0][0], 'The value is higher than that of the investor X, which means that'\n",
    "     ',in general, investors are more risk averse and prefer to invest less in the market and more in the risk-free asset than investor X.')"
   ]
  },
  {
   "cell_type": "code",
   "execution_count": 66,
   "metadata": {},
   "outputs": [
    {
     "name": "stdout",
     "output_type": "stream",
     "text": [
      "The weight of the risk-free asset in the portfolio of the investor Y is 0.27597999747403 . Since there are only 2 investors on the market andthe risk-free asset is in zero supply, the investor Y has to be a lender and the amout lended has to be equal to the amount borrowed. Thus,the weight of the risk-free asset in the portfolio of the investor Y has to mirror the weight of risk-free asset in the portfolio of the investor X but with the opposite sign. Besides, the investor Y has higher risk aversion than investor X because investor Y invests less in the market andmore in the risk-free asset.\n"
     ]
    }
   ],
   "source": [
    "# (4)\n",
    "\n",
    "#(a)\n",
    "w_rf_y=(-1)*w_rf_x\n",
    "print('The weight of the risk-free asset in the portfolio of the investor Y is',w_rf_y[0][0],'. Since there are only 2 investors on the market and'\n",
    "     'the risk-free asset is in zero supply, the investor Y has to be a lender and the amout lended has to be equal to the amount borrowed. Thus,'\n",
    "     'the weight of the risk-free asset in the portfolio of the investor Y has to mirror the weight of risk-free asset in the portfolio of the investor X',\n",
    "     'but with the opposite sign. Besides, the investor Y has higher risk aversion than investor X because investor Y invests less in the market and'\n",
    "     'more in the risk-free asset.')\n",
    "\n",
    "w_opt_y=(1-w_rf_y)*w_tan"
   ]
  },
  {
   "cell_type": "code",
   "execution_count": 67,
   "metadata": {},
   "outputs": [
    {
     "name": "stdout",
     "output_type": "stream",
     "text": [
      "The weights of 3 risky assets in the optimal portfolio of investor Y: [[0.23733313]\n",
      " [0.2706012 ]\n",
      " [0.21608568]]\n",
      "The weight of the risk-free asset in the portfolio of the investor Y is 0.27597999747403\n",
      "Thus, the composition f the optimal portfolio of the investor Y included long positions in 3 risky assets and a risk-free asset.\n"
     ]
    }
   ],
   "source": [
    "#(b)\n",
    "#calculate the weights of the 3 risky assets in the optimal portfolio of the investor Y\n",
    "w_opt_y=(1-w_rf_y)*w_tan\n",
    "print('The weights of 3 risky assets in the optimal portfolio of investor Y:', w_opt_y)\n",
    "print('The weight of the risk-free asset in the portfolio of the investor Y is', w_rf_y[0][0])\n",
    "print('Thus, the composition f the optimal portfolio of the investor Y included long positions in 3 risky assets and a risk-free asset.')"
   ]
  },
  {
   "cell_type": "code",
   "execution_count": 68,
   "metadata": {},
   "outputs": [
    {
     "name": "stdout",
     "output_type": "stream",
     "text": [
      "The risk aversion of the investor Y is: 7.049418485800807\n"
     ]
    }
   ],
   "source": [
    "#(c)\n",
    "\n",
    "#compute the risk aversion of the investor Y\n",
    "risk_aversion_y = (B-A*rf)*w_tan/w_opt_y\n",
    "print('The risk aversion of the investor Y is:',risk_aversion_y[0][0])"
   ]
  },
  {
   "cell_type": "code",
   "execution_count": null,
   "metadata": {},
   "outputs": [],
   "source": []
  }
 ],
 "metadata": {
  "kernelspec": {
   "display_name": "Python 3",
   "language": "python",
   "name": "python3"
  },
  "language_info": {
   "codemirror_mode": {
    "name": "ipython",
    "version": 3
   },
   "file_extension": ".py",
   "mimetype": "text/x-python",
   "name": "python",
   "nbconvert_exporter": "python",
   "pygments_lexer": "ipython3",
   "version": "3.8.3"
  }
 },
 "nbformat": 4,
 "nbformat_minor": 4
}
