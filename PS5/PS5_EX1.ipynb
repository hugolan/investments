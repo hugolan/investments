{
 "cells": [
  {
   "cell_type": "code",
   "execution_count": 1,
   "metadata": {},
   "outputs": [],
   "source": [
    "# PS5_EX1\n",
    "# general\n",
    "import numpy as np\n",
    "import matplotlib.pyplot as plt\n",
    "\n",
    "mu = np.array([0.08, 0.14, 0.16])\n",
    "sigma = np.array([0.1, 0.30, 0.35])\n",
    "corr = 0.2\n",
    "R0 = 0.05\n",
    "cov   = np.array([[sigma[0]**2,corr*sigma[0]*sigma[1],corr*sigma[0]*sigma[2]],\\\n",
    "                  [corr*sigma[0]*sigma[1],sigma[1]**2,corr*sigma[1]*sigma[2]],\\\n",
    "                  [corr*sigma[2]*sigma[0],corr*sigma[2]*sigma[1],sigma[2]**2]])"
   ]
  },
  {
   "cell_type": "code",
   "execution_count": 2,
   "metadata": {},
   "outputs": [
    {
     "name": "stdout",
     "output_type": "stream",
     "text": [
      "The tangency portfolio is:  [0.60858939 0.20286313 0.18854749]\n",
      "Expected return:  0.10725558659217878\n",
      "Variance:  0.016456982850098317\n",
      "Sharp Ratio:  0.446316312416276\n"
     ]
    }
   ],
   "source": [
    "#(a)\n",
    "ones = np.ones(3)\n",
    "cov_inv = np.linalg.inv(cov)\n",
    "\n",
    "w_t = np.matmul(cov_inv,(mu-R0))/np.matmul(np.matmul(ones.transpose(),cov_inv),(mu-R0))\n",
    "mu_t = np.matmul(w_t.transpose(),mu)\n",
    "sig2_t = np.matmul(np.matmul(w_t.transpose(),cov),w_t)\n",
    "SR_t   = (mu_t-R0)/np.sqrt(sig2_t)\n",
    "\n",
    "print('The tangency portfolio is: ', w_t)\n",
    "print('Expected return: ', mu_t)\n",
    "print('Variance: ', sig2_t)\n",
    "print('Sharp Ratio: ', SR_t)"
   ]
  },
  {
   "cell_type": "code",
   "execution_count": 3,
   "metadata": {},
   "outputs": [
    {
     "name": "stdout",
     "output_type": "stream",
     "text": [
      "The zero-beta portfolio is:  [ 1.42362301 -0.19449204 -0.22913097]\n",
      "Expected return: 0.05\n",
      "Variance:  0.024085189718482215\n",
      "Sharp Ratio: -0.00\n"
     ]
    }
   ],
   "source": [
    "#(b)\n",
    "A = np.matmul(np.matmul(ones.transpose(),cov_inv),ones)\n",
    "B = np.matmul(np.matmul(ones.transpose(),cov_inv),mu)\n",
    "C = np.matmul(np.matmul(mu.transpose(),cov_inv),mu)\n",
    "delta = A*C-B**2\n",
    "lumbda  = (C-R0*B)/delta\n",
    "gamma  = (R0*A-B)/delta\n",
    "\n",
    "w_z = lumbda*np.matmul(cov_inv,ones)+gamma*np.matmul(cov_inv,mu)\n",
    "mu_z = np.matmul(w_z.transpose(),mu)\n",
    "sig2_z = np.matmul(np.matmul(w_z.transpose(),cov),w_z)\n",
    "SR_z   = (mu_z-R0)/np.sqrt(sig2_z)\n",
    "\n",
    "print('The zero-beta portfolio is: ', w_z)\n",
    "print('Expected return: {:.2f}'.format(mu_z))\n",
    "print('Variance: ', sig2_z)\n",
    "print('Sharp Ratio: {:.2f}'.format(SR_z))"
   ]
  },
  {
   "cell_type": "code",
   "execution_count": 4,
   "metadata": {},
   "outputs": [
    {
     "name": "stdout",
     "output_type": "stream",
     "text": [
      "The value of a*:  2.6762353292965524\n",
      "Wp can be expressed by (1-x_t-x_z)*w_0 + x_t*w_t + x_z*w_z\n"
     ]
    }
   ],
   "source": [
    "#(c)(d)\n",
    "m = 1.3\n",
    "a = np.linspace(0.01,5,500)\n",
    "a_star = SR_t/(m*np.sqrt(sig2_t))\n",
    "\n",
    "print('The value of a*: ', a_star)\n",
    "\n",
    "x_t_unconstrained = SR_t/(np.sqrt(sig2_t)*a)\n",
    "x_z_unconstrained = np.zeros(len(a))\n",
    "\n",
    "x_t_constrained = (mu_t-R0)/((sig2_t+sig2_z)*a)+ m*sig2_z/(sig2_t+sig2_z)\n",
    "x_z_constrained = -(mu_t-R0)/((sig2_t+sig2_z)*a) + m*sig2_t/(sig2_t+sig2_z)\n",
    "\n",
    "x_t = np.multiply(x_t_unconstrained,a>=a_star)+np.multiply(x_t_constrained,1-(a>=a_star))\n",
    "x_z = np.multiply(x_z_unconstrained,a>=a_star)+np.multiply(x_z_constrained,1-(a>=a_star))\n",
    "\n",
    "print('Wp can be expressed by (1-x_t-x_z)*w_0 + x_t*w_t + x_z*w_z')"
   ]
  },
  {
   "cell_type": "code",
   "execution_count": 5,
   "metadata": {},
   "outputs": [
    {
     "data": {
      "image/png": "[encoded data removed]",
      "text/plain": [
       "<Figure size 432x288 with 1 Axes>"
      ]
     },
     "metadata": {
      "needs_background": "light"
     },
     "output_type": "display_data"
    }
   ],
   "source": [
    "#(e)\n",
    "x_t_1 = (mu_t-R0)/((sig2_t+sig2_z)*a_star)+ m*sig2_z/(sig2_t+sig2_z)\n",
    "x_z_1= -(mu_t-R0)/((sig2_t+sig2_z)*a_star) + m*sig2_t/(sig2_t+sig2_z)\n",
    "mu_star  = x_z_1*np.matmul(w_z,mu)+x_t_1*np.matmul(w_t,mu)-0.3*R0\n",
    "\n",
    "mu_opt  = R0+x_t*(mu_t-R0)+x_z*(mu_z-R0)\n",
    "sig2_opt = x_t**2*sig2_t+x_z**2*sig2_z\n",
    "SR_opt = (mu_opt-R0)/np.sqrt(sig2_opt)\n",
    "\n",
    "plt.plot(a,SR_opt)\n",
    "plt.plot(a_star,SR_t,'ro',label='a*')\n",
    "plt.title('Sharpe Ratio')\n",
    "plt.xlabel('a')\n",
    "plt.ylabel('Sharpe ratio')\n",
    "plt.legend()\n",
    "plt.show()"
   ]
  },
  {
   "cell_type": "markdown",
   "metadata": {},
   "source": [
    "The sharp ratio falls as a falls because it also invest zero-beta portfolio which has lower sharp ratio."
   ]
  }
 ],
 "metadata": {
  "kernelspec": {
   "display_name": "Python 3",
   "language": "python",
   "name": "python3"
  },
  "language_info": {
   "codemirror_mode": {
    "name": "ipython",
    "version": 3
   },
   "file_extension": ".py",
   "mimetype": "text/x-python",
   "name": "python",
   "nbconvert_exporter": "python",
   "pygments_lexer": "ipython3",
   "version": "3.8.12"
  }
 },
 "nbformat": 4,
 "nbformat_minor": 2
}
