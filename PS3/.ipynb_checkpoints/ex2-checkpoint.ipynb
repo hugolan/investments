{
 "cells": [
  {
   "cell_type": "code",
   "execution_count": 1,
   "id": "bc734cc1",
   "metadata": {
    "scrolled": true
   },
   "outputs": [
    {
     "name": "stdout",
     "output_type": "stream",
     "text": [
      "Loading library list...\n",
      "Done\n"
     ]
    }
   ],
   "source": [
    "import pandas as pd\n",
    "import numpy as np\n",
    "import wrds\n",
    "import matplotlib.pyplot as plt\n",
    "db=wrds.Connection(wrds_username='hlanfran')\n",
    "from datetime import datetime"
   ]
  },
  {
   "cell_type": "markdown",
   "id": "d83a686c",
   "metadata": {},
   "source": [
    "### b\n",
    "\n",
    "It a specific application of the mean-variance analysis where we don't estimate the means, it directly estimates the correlations and assumes that assets have the same mean.\n"
   ]
  },
  {
   "cell_type": "markdown",
   "id": "d9410d8e",
   "metadata": {},
   "source": [
    "### c\n",
    "\n",
    "It a specific application of the mean-variance analysis where we don't estimate the means or the correlations, we assume that the covariance matrix is diagonal (assets are uncorrelated) and that the assets have the same sharp ratio"
   ]
  },
  {
   "cell_type": "markdown",
   "id": "11bc67c5",
   "metadata": {},
   "source": [
    "### d\n",
    "\n",
    "It a specific application of the mean-variance but we have nothing to estimate, we just assume that the assets are independent uncorrelated with same mean and variance"
   ]
  },
  {
   "cell_type": "code",
   "execution_count": 2,
   "id": "c8e42a00",
   "metadata": {
    "scrolled": true
   },
   "outputs": [],
   "source": [
    "data = db.raw_sql(\"select mcaldt, tmytm from crsp.tfz_mth_rf where kytreasnox = 2000001 and mcaldt>='1978-01-01' and mcaldt<='2021-12-31'\")\n",
    "data.to_csv('data.csv', sep=';', index=False)\n",
    "# rename\n",
    "data_rf = pd.read_csv(\"data.csv\", sep=';')\n",
    "data_rf[\"tmytm\"] = np.exp(data_rf['tmytm']/12/100)-1\n",
    "data_rf = data_rf.set_index(\"mcaldt\")\n"
   ]
  },
  {
   "cell_type": "code",
   "execution_count": 3,
   "id": "24bfbecb",
   "metadata": {
    "scrolled": true
   },
   "outputs": [],
   "source": [
    "data_company = db.raw_sql(\"select  permno, date,ret \"\n",
    "           \"from crsp.msf \"\n",
    "           \"where permno in (11308, 11850, 12490, 14541, 17830, 18163, 18542, 19502, 19561, 21936, 22111, 22592, 22752, 26403, 43449, 47896, 55976, 59176, 59328, 59459) \"\n",
    "           \"and date>='1978-01-01'\"\n",
    "            \"and date<='2021-12-31'\")\n",
    "data_company.to_csv('data_company.csv', sep=';', index=False)\n",
    "# rename\n",
    "data_company = pd.read_csv(\"data_company.csv\", sep=';')   \n",
    "\n",
    "\n",
    "data_company.loc[data_company.permno ==11308,'permno'] = 'AMERICAN EXPRESS CO'\n",
    "data_company.loc[data_company.permno ==11850,'permno'] = 'BOEING CO’'\n",
    "data_company.loc[data_company.permno ==12490,'permno'] = 'CATERPILLAR TRACTOR INC'\n",
    "data_company.loc[data_company.permno ==14541,'permno'] = 'CHEVRON CORP NEW'\n",
    "data_company.loc[data_company.permno ==17830,'permno'] = 'DISNEY WALT PRODUCTIONS'\n",
    "data_company.loc[data_company.permno ==18163,'permno'] = 'INTERNATIONAL BUSINESS MACHS CO'\n",
    "data_company.loc[data_company.permno ==18542,'permno'] = 'INTEL CORP'\n",
    "data_company.loc[data_company.permno ==19502,'permno'] = 'JOHNSON & JOHNSON'\n",
    "data_company.loc[data_company.permno ==19561,'permno'] = 'JPMORGAN CHASE & CO'\n",
    "data_company.loc[data_company.permno ==21936,'permno'] = 'COCA COLA CO'\n",
    "data_company.loc[data_company.permno ==22111,'permno'] = 'MCDONALDS CORP'\n",
    "data_company.loc[data_company.permno ==22592,'permno'] = '3M CO'\n",
    "data_company.loc[data_company.permno ==22752,'permno'] = 'MERCK & CO INC'\n",
    "data_company.loc[data_company.permno ==26403,'permno'] = 'PFIZER INC'\n",
    "data_company.loc[data_company.permno ==43449,'permno'] = 'PROCTER & GAMBLE CO'\n",
    "data_company.loc[data_company.permno ==47896,'permno'] = 'TRAVELERS COMPANIES INC'\n",
    "data_company.loc[data_company.permno ==55976,'permno'] = 'UNITED TECHNOLOGIES CORP'\n",
    "data_company.loc[data_company.permno ==59176,'permno'] = 'WALGREENS BOOTS ALLIANCE INC'\n",
    "data_company.loc[data_company.permno ==59328,'permno'] = 'WALMART INC'\n",
    "data_company.loc[data_company.permno ==59459,'permno'] = 'EXXON MOBIL CORP'\n",
    "\n",
    "\n",
    "data_company = data_company.rename(columns={'permno':'stock'})"
   ]
  },
  {
   "cell_type": "code",
   "execution_count": 4,
   "id": "15c8a420",
   "metadata": {},
   "outputs": [],
   "source": [
    "ret = data_company.groupby(\"date\")[\"ret\"].apply(list).reset_index()\n",
    "name = data_company.groupby(\"date\")[\"stock\"].apply(list).reset_index()\n",
    "d = ret.merge(name,on=\"date\")"
   ]
  },
  {
   "cell_type": "code",
   "execution_count": 5,
   "id": "4e026fe9",
   "metadata": {},
   "outputs": [],
   "source": [
    "all_data = pd.DataFrame(d.date)\n",
    "\n",
    "for row in d.iterrows():\n",
    "    for i in range(len(row[1][2])):\n",
    "        all_data.loc[row[0],row[1][2][i]] = row[1][1][i]"
   ]
  },
  {
   "cell_type": "code",
   "execution_count": 6,
   "id": "53f42fc3",
   "metadata": {},
   "outputs": [],
   "source": [
    "#portofolios in different timeframes\n",
    "dates = all_data.date\n",
    "all_data = all_data.set_index(['date'])\n",
    "means = all_data.rolling(window=120,min_periods=120).mean()\n",
    "stds = all_data.rolling(window=120,min_periods=120).std()\n",
    "covs = all_data.rolling(window=120,min_periods=120).cov()\n",
    "means_rf = data_rf.rolling(window=120,min_periods=120).mean()"
   ]
  },
  {
   "cell_type": "code",
   "execution_count": 7,
   "id": "9db3bd82",
   "metadata": {
    "scrolled": true
   },
   "outputs": [],
   "source": [
    "#define constrains for the 20 stocks\n",
    "one = np.ones(20)\n",
    "w = np.zeros((np.shape(dates[119:])[0], 4, 20))"
   ]
  },
  {
   "cell_type": "code",
   "execution_count": 8,
   "id": "7b9b3de1",
   "metadata": {},
   "outputs": [],
   "source": [
    "date_number=0\n",
    "for d in dates[119:]:\n",
    "    \n",
    "    sigma = covs.loc[d].values\n",
    "    mu = means.loc[d].values.T\n",
    "    std = stds.loc[d].values\n",
    "    sigma_inverted = np.linalg.inv(sigma)\n",
    "    rf = data_rf.loc[d].values\n",
    "\n",
    "    A = (one@sigma_inverted)@one\n",
    "    B = (one@sigma_inverted)@mu\n",
    "    C = (mu@sigma_inverted)@mu\n",
    "\n",
    "    w[date_number,0,:] = (sigma_inverted@(mu-rf))/(B-A*rf)\n",
    "    w[date_number,1,:] = (sigma_inverted@one)/A\n",
    "    tmp = 1/std\n",
    "    w[date_number,2,:] = tmp/tmp.sum()\n",
    "    w[date_number,3,:] = np.ones(20)/20\n",
    "    date_number=date_number+1"
   ]
  },
  {
   "cell_type": "code",
   "execution_count": 9,
   "id": "0c72d01a",
   "metadata": {
    "scrolled": true
   },
   "outputs": [],
   "source": [
    "portofolios = ['TAN','GMV','RP','EW']\n",
    "\n",
    "indicated_date = all_data.iloc[120:].index.get_level_values(0)\n",
    "\n",
    "performances = np.zeros((len(indicated_date), 4))\n",
    "\n",
    "for j in range(4): \n",
    "    tmp = np.multiply(w[:-1,j,:],all_data.iloc[120:])\n",
    "    performances[:,j] = tmp.sum(axis=1)\n",
    "    \n",
    "    \n",
    "performances_data = pd.DataFrame(data=performances,index=indicated_date,columns=portofolios)\n",
    "\n",
    "rf = data_rf.iloc[120:].mean().values\n",
    "mean = performances_data.mean()\n",
    "excess_ret = performances_data.mean()-rf\n",
    "std = performances_data.std()\n",
    "sharp_ratio = excess_ret/std\n",
    "\n",
    "month_ret = pd.DataFrame({'Mean Return' : mean, \n",
    "                     'Std. Dev.' : std, \n",
    "                     'Sharpe Ratio' : sharp_ratio\n",
    "                      })\n",
    "\n",
    "month_ret = month_ret.transpose()\n",
    "\n",
    "annual_ret = pd.DataFrame({'Mean Return' : mean*12,\n",
    "                    'Std. Dev.' : std*np.sqrt(12),\n",
    "                     'Sharpe Ratio' : sharp_ratio*np.sqrt(12)\n",
    "                      })\n",
    "annual_ret = annual_ret.transpose()"
   ]
  },
  {
   "cell_type": "code",
   "execution_count": 10,
   "id": "315912db",
   "metadata": {
    "scrolled": true
   },
   "outputs": [
    {
     "name": "stdout",
     "output_type": "stream",
     "text": [
      "\n",
      " The monthly returns:\n"
     ]
    },
    {
     "data": {
      "text/html": [
       "<div>\n",
       "<style scoped>\n",
       "    .dataframe tbody tr th:only-of-type {\n",
       "        vertical-align: middle;\n",
       "    }\n",
       "\n",
       "    .dataframe tbody tr th {\n",
       "        vertical-align: top;\n",
       "    }\n",
       "\n",
       "    .dataframe thead th {\n",
       "        text-align: right;\n",
       "    }\n",
       "</style>\n",
       "<table border=\"1\" class=\"dataframe\">\n",
       "  <thead>\n",
       "    <tr style=\"text-align: right;\">\n",
       "      <th></th>\n",
       "      <th>TAN</th>\n",
       "      <th>GMV</th>\n",
       "      <th>RP</th>\n",
       "      <th>EW</th>\n",
       "    </tr>\n",
       "  </thead>\n",
       "  <tbody>\n",
       "    <tr>\n",
       "      <th>Mean Return</th>\n",
       "      <td>0.004966</td>\n",
       "      <td>0.008770</td>\n",
       "      <td>0.011801</td>\n",
       "      <td>0.012194</td>\n",
       "    </tr>\n",
       "    <tr>\n",
       "      <th>Std. Dev.</th>\n",
       "      <td>0.074437</td>\n",
       "      <td>0.038427</td>\n",
       "      <td>0.039770</td>\n",
       "      <td>0.041486</td>\n",
       "    </tr>\n",
       "    <tr>\n",
       "      <th>Sharpe Ratio</th>\n",
       "      <td>0.036100</td>\n",
       "      <td>0.168928</td>\n",
       "      <td>0.239430</td>\n",
       "      <td>0.239010</td>\n",
       "    </tr>\n",
       "  </tbody>\n",
       "</table>\n",
       "</div>"
      ],
      "text/plain": [
       "                   TAN       GMV        RP        EW\n",
       "Mean Return   0.004966  0.008770  0.011801  0.012194\n",
       "Std. Dev.     0.074437  0.038427  0.039770  0.041486\n",
       "Sharpe Ratio  0.036100  0.168928  0.239430  0.239010"
      ]
     },
     "execution_count": 10,
     "metadata": {},
     "output_type": "execute_result"
    }
   ],
   "source": [
    "print('\\n The monthly returns:')\n",
    "month_ret"
   ]
  },
  {
   "cell_type": "code",
   "execution_count": 11,
   "id": "31594029",
   "metadata": {},
   "outputs": [
    {
     "name": "stdout",
     "output_type": "stream",
     "text": [
      "\n",
      " The annualized returns:\n"
     ]
    },
    {
     "data": {
      "text/html": [
       "<div>\n",
       "<style scoped>\n",
       "    .dataframe tbody tr th:only-of-type {\n",
       "        vertical-align: middle;\n",
       "    }\n",
       "\n",
       "    .dataframe tbody tr th {\n",
       "        vertical-align: top;\n",
       "    }\n",
       "\n",
       "    .dataframe thead th {\n",
       "        text-align: right;\n",
       "    }\n",
       "</style>\n",
       "<table border=\"1\" class=\"dataframe\">\n",
       "  <thead>\n",
       "    <tr style=\"text-align: right;\">\n",
       "      <th></th>\n",
       "      <th>TAN</th>\n",
       "      <th>GMV</th>\n",
       "      <th>RP</th>\n",
       "      <th>EW</th>\n",
       "    </tr>\n",
       "  </thead>\n",
       "  <tbody>\n",
       "    <tr>\n",
       "      <th>Mean Return</th>\n",
       "      <td>0.059587</td>\n",
       "      <td>0.105238</td>\n",
       "      <td>0.141608</td>\n",
       "      <td>0.146330</td>\n",
       "    </tr>\n",
       "    <tr>\n",
       "      <th>Std. Dev.</th>\n",
       "      <td>0.257856</td>\n",
       "      <td>0.133114</td>\n",
       "      <td>0.137769</td>\n",
       "      <td>0.143713</td>\n",
       "    </tr>\n",
       "    <tr>\n",
       "      <th>Sharpe Ratio</th>\n",
       "      <td>0.125053</td>\n",
       "      <td>0.585183</td>\n",
       "      <td>0.829410</td>\n",
       "      <td>0.827956</td>\n",
       "    </tr>\n",
       "  </tbody>\n",
       "</table>\n",
       "</div>"
      ],
      "text/plain": [
       "                   TAN       GMV        RP        EW\n",
       "Mean Return   0.059587  0.105238  0.141608  0.146330\n",
       "Std. Dev.     0.257856  0.133114  0.137769  0.143713\n",
       "Sharpe Ratio  0.125053  0.585183  0.829410  0.827956"
      ]
     },
     "execution_count": 11,
     "metadata": {},
     "output_type": "execute_result"
    }
   ],
   "source": [
    "print('\\n The annualized returns:')\n",
    "annual_ret"
   ]
  },
  {
   "cell_type": "markdown",
   "id": "b3ec4976",
   "metadata": {},
   "source": [
    "### (F)"
   ]
  },
  {
   "cell_type": "markdown",
   "id": "410120a7",
   "metadata": {},
   "source": [
    "We can observe that here the best portofolios strategies here are RP and EW. Then GMV is a little underperforming and finally TAN is really not great in terms of performance.\n",
    "\n",
    "We have that the stds of portofolio strategies that do not use the means are lower than TAN stds, the high volatility of TAN might come from the error in the estimates of the means."
   ]
  },
  {
   "cell_type": "markdown",
   "id": "ff52d186",
   "metadata": {},
   "source": [
    "### (G)"
   ]
  },
  {
   "cell_type": "code",
   "execution_count": 12,
   "id": "bc353044",
   "metadata": {},
   "outputs": [
    {
     "name": "stdout",
     "output_type": "stream",
     "text": [
      "Minimum-variance frontier compare to our portofolios\n"
     ]
    },
    {
     "data": {
      "image/png": "[encoded data removed]",
      "text/plain": [
       "<Figure size 432x288 with 1 Axes>"
      ]
     },
     "metadata": {
      "needs_background": "light"
     },
     "output_type": "display_data"
    }
   ],
   "source": [
    "#MV frontiers\n",
    "mu_p = np.linspace(0,0.02,1000)\n",
    "mu = all_data.loc[indicated_date].mean().values\n",
    "sigma = all_data.loc[indicated_date].cov().values\n",
    "sigma_inverted = np.linalg.inv(sigma)\n",
    "\n",
    "A = (one@sigma_inverted)@one\n",
    "B = (one@sigma_inverted)@mu\n",
    "C = (mu@sigma_inverted)@mu\n",
    "D = A*C-B**2\n",
    "\n",
    "sigma_p = np.sqrt((A*mu_p**2-2*B*mu_p+C)/D)\n",
    "\n",
    "plt.plot(sigma_p,mu_p)\n",
    "plt.xlabel('stds')\n",
    "plt.ylabel('expected returns')\n",
    "\n",
    "plt.plot(std,mean,'ro')\n",
    "plt.plot(0.0001,rf,'bo')\n",
    "plt.xlim(0, 0.15)\n",
    "\n",
    "plt.annotate('TAN', xy=(std[0],mean[0]))\n",
    "            \n",
    "plt.annotate('GMV', xy=(std[1],mean[1]))\n",
    "\n",
    "plt.annotate('RP', xy=(std[2],mean[2]), xytext=(std[2]-0.0020, mean[2]-0.001))\n",
    "\n",
    "plt.annotate('EW', xy=(std[3],mean[3]), xytext=(std[3], mean[3]+0.0005))\n",
    "\n",
    "plt.annotate('Rf', xy=(0, rf))\n",
    "\n",
    "print('Minimum-variance frontier compare to our portofolios')\n",
    "plt.show()\n",
    "\n"
   ]
  },
  {
   "cell_type": "markdown",
   "id": "edffed91",
   "metadata": {},
   "source": [
    "We can observe that the best portolios strategies here are RP and EW. Then we have GMV and finally TAN. We can comment on this by saying that the order in which they rank is tied to how the computations are made. Indeed, RP and EW rely on easy computation of the weights. Then GMV and TAN depend quite heavily on the precision of the covariances and means respectively, and here we can say it is easier to estimate covariances rather than means as we got better results that way."
   ]
  },
  {
   "cell_type": "markdown",
   "id": "fc70dfb9",
   "metadata": {},
   "source": [
    "### (H)"
   ]
  },
  {
   "cell_type": "code",
   "execution_count": 13,
   "id": "4d113c2a",
   "metadata": {},
   "outputs": [
    {
     "name": "stdout",
     "output_type": "stream",
     "text": [
      "1$ invested in December 1988 returns\n"
     ]
    },
    {
     "data": {
      "image/png": "[encoded data removed]",
      "text/plain": [
       "<Figure size 432x288 with 1 Axes>"
      ]
     },
     "metadata": {
      "needs_background": "light"
     },
     "output_type": "display_data"
    }
   ],
   "source": [
    "#Do the product of returns to obtain the cumulated returns\n",
    "cumulative_performance_time = all_data.iloc[119:].index.get_level_values(0)\n",
    "cumulative_performance = np.cumprod(np.concatenate((one[0:4].reshape(1,4),1+performances),axis=0),axis=0)\n",
    "cumulative_performance_data = pd.DataFrame(data=cumulative_performance,index=cumulative_performance_time,columns=portofolios)\n",
    "\n",
    "cumulative_performance_data.plot()\n",
    "plt.xlabel('Years')\n",
    "plt.ylabel('Cumulative returns')\n",
    "\n",
    "print('1$ invested in December 1988 returns')\n",
    "plt.show()"
   ]
  },
  {
   "cell_type": "code",
   "execution_count": null,
   "id": "a0105e6a",
   "metadata": {},
   "outputs": [],
   "source": []
  }
 ],
 "metadata": {
  "kernelspec": {
   "display_name": "Python 3 (ipykernel)",
   "language": "python",
   "name": "python3"
  },
  "language_info": {
   "codemirror_mode": {
    "name": "ipython",
    "version": 3
   },
   "file_extension": ".py",
   "mimetype": "text/x-python",
   "name": "python",
   "nbconvert_exporter": "python",
   "pygments_lexer": "ipython3",
   "version": "3.8.12"
  }
 },
 "nbformat": 4,
 "nbformat_minor": 5
}
