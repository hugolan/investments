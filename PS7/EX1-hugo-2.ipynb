{
 "cells": [
  {
   "cell_type": "code",
   "execution_count": 142,
   "id": "718ee792",
   "metadata": {
    "scrolled": true
   },
   "outputs": [
    {
     "name": "stdout",
     "output_type": "stream",
     "text": [
      "Loading library list...\n",
      "Done\n"
     ]
    }
   ],
   "source": [
    "import wrds\n",
    "db=wrds.Connection(wrds_username='hlanfran')\n",
    "import numpy as np\n",
    "import pandas as pd"
   ]
  },
  {
   "cell_type": "code",
   "execution_count": 143,
   "id": "da1dce10",
   "metadata": {},
   "outputs": [],
   "source": [
    "import warnings\n",
    "warnings.filterwarnings('ignore')"
   ]
  },
  {
   "cell_type": "code",
   "execution_count": 311,
   "id": "a33c411d",
   "metadata": {},
   "outputs": [],
   "source": [
    "Rf=db.raw_sql(\"select  mcaldt,tmytm \"\n",
    "           \"from crsp.tfz_mth_rf \"           \n",
    "            \"where kytreasnox = 2000001 \"\n",
    "           \"and mcaldt>='1990-01-01'\"\n",
    "            \"and mcaldt<='2021-12-31'\", date_cols=['mcaldt'])\n",
    "\n",
    "#transform annualized and continuously compounded returns into simple and monthly returns:\n",
    "Rf['tmytm']=np.exp(Rf['tmytm']/12/100)-1\n",
    "Rf=Rf.rename(columns={ \"mcaldt\": \"date\",\"tmytm\": \"rf\"})\n",
    "\n",
    "#use own index instead\n",
    "# get index returns\n",
    "data_index=db.raw_sql(\"select  date,vwretd \"\n",
    "           \"from crsp.msi \"\n",
    "           \"where date>='1900-01-01'\"\n",
    "            \"and date<='2021-12-31'\", date_cols=['date'])\n",
    "\n",
    "\n",
    "# get stock returns\n",
    "crsp_m = db.raw_sql(\"\"\"\n",
    "                      select a.permno, a.date, \n",
    "                      b.shrcd, b.exchcd,\n",
    "                      a.ret, a.shrout, a.prc, a.hsiccd \n",
    "                      from crsp.msf as a\n",
    "                      left join crsp.msenames as b\n",
    "                      on a.permno=b.permno\n",
    "                      and b.namedt<=a.date\n",
    "                      and a.date<=b.nameendt\n",
    "                      where a.date between '01/01/1990' and '12/31/2021'\n",
    "                      and b.exchcd between 1 and 2\n",
    "                      and b.shrcd between 10 and 11\n",
    "                      \"\"\", date_cols=['date']) \n",
    "msf=crsp_m.drop(['shrcd','exchcd'],axis=1)\n",
    "del(crsp_m) \n"
   ]
  },
  {
   "cell_type": "code",
   "execution_count": 312,
   "id": "db6fbf41",
   "metadata": {},
   "outputs": [],
   "source": [
    "\n",
    "#variables\n",
    "msf['permno'] = msf['permno'].astype(int)\n",
    "msf['size'] = msf['shrout'] * msf['prc'].abs()\n",
    "msf['const'] = 1\n",
    "msf.sort_values(['permno','date'])\n",
    "\n",
    "msf['size_lag']= msf.groupby('permno')['size'].shift(1).to_frame()\n",
    "\n",
    "obs=msf[['const','permno']].groupby(['permno']).sum().reset_index().rename(columns={'const': 'obs'})\n",
    "msf = pd.merge(msf, obs, how='left', left_on=['permno'],right_on=['permno'])\n",
    "\n",
    "\n",
    "\n",
    "#################################\n",
    "# Compute excess returns\n",
    "#################################\n",
    "data_index = pd.merge(data_index, Rf, how='left', left_on=['date'],right_on='date')\n",
    "data_index['mprem']=(data_index['vwretd']-data_index['rf'])\n",
    "data = pd.merge(msf, data_index, how='left', left_on=['date'],right_on='date')\n",
    "data['exret']=data['ret']-data['rf']"
   ]
  },
  {
   "cell_type": "code",
   "execution_count": 313,
   "id": "25cbed2b",
   "metadata": {
    "scrolled": true
   },
   "outputs": [
    {
     "name": "stdout",
     "output_type": "stream",
     "text": [
      "duplicates in data on returns?\n",
      "0 \n",
      "\n",
      " How many obervations do we have in a month?\n",
      "max: 2462\n",
      "min: 1370\n",
      "\n",
      " How often do we observe a given stock?\n",
      "max: 384\n",
      "min: 1\n",
      "\n",
      " Let us limit our attention to stocks we observe often enough...\n"
     ]
    }
   ],
   "source": [
    "print('duplicates in data on returns?')\n",
    "print(data.duplicated(subset=['date','permno']).sum(),'\\n')\n",
    "\n",
    "print(' How many obervations do we have in a month?')\n",
    "print('max:', max(data[['date','const']].groupby('date').sum()['const'].values))\n",
    "print('min:', min(data[['date','const']].groupby('date').sum()['const'].values))\n",
    "\n",
    "print('\\n How often do we observe a given stock?')\n",
    "print('max:', max(data['obs'].values))\n",
    "print('min:', min(data['obs'].values))\n",
    "\n",
    "print('\\n Let us limit our attention to stocks we observe often enough...')\n"
   ]
  },
  {
   "cell_type": "code",
   "execution_count": 314,
   "id": "d395d5cb",
   "metadata": {},
   "outputs": [],
   "source": [
    "#Keep interesting data\n",
    "data=data[data.obs==384]"
   ]
  },
  {
   "cell_type": "code",
   "execution_count": 315,
   "id": "b3a702bd",
   "metadata": {},
   "outputs": [],
   "source": [
    "#Get 1995 year\n",
    "data_filter = data[(data['date'] > '1995-01-01') & (data['date'] < '1995-12-30')]"
   ]
  },
  {
   "cell_type": "code",
   "execution_count": 316,
   "id": "c3ae5c8c",
   "metadata": {},
   "outputs": [],
   "source": [
    "#Sort unique stocks\n",
    "data_unique = data_filter.drop_duplicates(subset=['permno'])"
   ]
  },
  {
   "cell_type": "code",
   "execution_count": 317,
   "id": "aaebd664",
   "metadata": {
    "scrolled": false
   },
   "outputs": [],
   "source": [
    "data_unique[\"market-capitalization\"] = data_unique[\"shrout\"] * data_unique[\"prc\"]"
   ]
  },
  {
   "cell_type": "code",
   "execution_count": 318,
   "id": "72a9548d",
   "metadata": {},
   "outputs": [],
   "source": [
    "#get largest stocks\n",
    "data_unique = data_unique.nlargest(100,\"market-capitalization\")"
   ]
  },
  {
   "cell_type": "code",
   "execution_count": 319,
   "id": "df687551",
   "metadata": {
    "scrolled": true
   },
   "outputs": [],
   "source": [
    "#filter data to keep only largest stocks\n",
    "data = data[data[\"permno\"].isin(data_unique[\"permno\"].values)]"
   ]
  },
  {
   "cell_type": "code",
   "execution_count": 320,
   "id": "55ed0f19",
   "metadata": {
    "scrolled": true
   },
   "outputs": [],
   "source": [
    "#assign industry\n",
    "data[\"industry\"] = data[\"hsiccd\"].map(lambda x: get_industry(x))"
   ]
  },
  {
   "cell_type": "code",
   "execution_count": 321,
   "id": "7a066a6f",
   "metadata": {},
   "outputs": [],
   "source": [
    "industry_portofolios = pd.read_csv(\"12_Industry_Portfolios.CSV\")"
   ]
  },
  {
   "cell_type": "code",
   "execution_count": 322,
   "id": "16ee5dfa",
   "metadata": {},
   "outputs": [],
   "source": [
    "industry_portofolios[\"Date\"] = industry_portofolios[\"Date\"].map(lambda x: str(x)[0:4] + \"-\" + str(x)[4:])"
   ]
  },
  {
   "cell_type": "code",
   "execution_count": 323,
   "id": "d93d89ee",
   "metadata": {},
   "outputs": [],
   "source": [
    "industry_portofolios = industry_portofolios[(industry_portofolios['Date'] >= '1990-01') & (industry_portofolios['Date'] <= '2021-12')]"
   ]
  },
  {
   "cell_type": "code",
   "execution_count": 324,
   "id": "9231e71e",
   "metadata": {
    "scrolled": true
   },
   "outputs": [
    {
     "data": {
      "text/html": [
       "<div>\n",
       "<style scoped>\n",
       "    .dataframe tbody tr th:only-of-type {\n",
       "        vertical-align: middle;\n",
       "    }\n",
       "\n",
       "    .dataframe tbody tr th {\n",
       "        vertical-align: top;\n",
       "    }\n",
       "\n",
       "    .dataframe thead th {\n",
       "        text-align: right;\n",
       "    }\n",
       "</style>\n",
       "<table border=\"1\" class=\"dataframe\">\n",
       "  <thead>\n",
       "    <tr style=\"text-align: right;\">\n",
       "      <th></th>\n",
       "      <th>Date</th>\n",
       "      <th>NoDur</th>\n",
       "      <th>Durbl</th>\n",
       "      <th>Manuf</th>\n",
       "      <th>Enrgy</th>\n",
       "      <th>Chems</th>\n",
       "      <th>BusEq</th>\n",
       "      <th>Telcm</th>\n",
       "      <th>Utils</th>\n",
       "      <th>Shops</th>\n",
       "      <th>Hlth</th>\n",
       "      <th>Money</th>\n",
       "      <th>Other</th>\n",
       "    </tr>\n",
       "  </thead>\n",
       "  <tbody>\n",
       "    <tr>\n",
       "      <th>762</th>\n",
       "      <td>1990-01</td>\n",
       "      <td>-9.43</td>\n",
       "      <td>-3.84</td>\n",
       "      <td>-5.61</td>\n",
       "      <td>-4.30</td>\n",
       "      <td>-8.05</td>\n",
       "      <td>-1.25</td>\n",
       "      <td>-13.39</td>\n",
       "      <td>-5.35</td>\n",
       "      <td>-6.43</td>\n",
       "      <td>-7.36</td>\n",
       "      <td>-9.78</td>\n",
       "      <td>-7.32</td>\n",
       "    </tr>\n",
       "    <tr>\n",
       "      <th>763</th>\n",
       "      <td>1990-02</td>\n",
       "      <td>-0.39</td>\n",
       "      <td>5.13</td>\n",
       "      <td>2.71</td>\n",
       "      <td>3.10</td>\n",
       "      <td>2.18</td>\n",
       "      <td>4.02</td>\n",
       "      <td>-0.35</td>\n",
       "      <td>0.21</td>\n",
       "      <td>1.99</td>\n",
       "      <td>-2.06</td>\n",
       "      <td>2.32</td>\n",
       "      <td>2.95</td>\n",
       "    </tr>\n",
       "    <tr>\n",
       "      <th>764</th>\n",
       "      <td>1990-03</td>\n",
       "      <td>4.54</td>\n",
       "      <td>2.90</td>\n",
       "      <td>4.60</td>\n",
       "      <td>-0.57</td>\n",
       "      <td>2.22</td>\n",
       "      <td>4.47</td>\n",
       "      <td>4.18</td>\n",
       "      <td>-0.75</td>\n",
       "      <td>5.11</td>\n",
       "      <td>3.85</td>\n",
       "      <td>-1.56</td>\n",
       "      <td>1.92</td>\n",
       "    </tr>\n",
       "    <tr>\n",
       "      <th>765</th>\n",
       "      <td>1990-04</td>\n",
       "      <td>-0.27</td>\n",
       "      <td>-4.04</td>\n",
       "      <td>-2.96</td>\n",
       "      <td>-3.54</td>\n",
       "      <td>-2.16</td>\n",
       "      <td>-2.02</td>\n",
       "      <td>-3.46</td>\n",
       "      <td>-5.51</td>\n",
       "      <td>-2.10</td>\n",
       "      <td>0.29</td>\n",
       "      <td>-4.23</td>\n",
       "      <td>-2.21</td>\n",
       "    </tr>\n",
       "    <tr>\n",
       "      <th>766</th>\n",
       "      <td>1990-05</td>\n",
       "      <td>9.04</td>\n",
       "      <td>7.76</td>\n",
       "      <td>7.75</td>\n",
       "      <td>6.03</td>\n",
       "      <td>8.93</td>\n",
       "      <td>12.56</td>\n",
       "      <td>9.38</td>\n",
       "      <td>5.43</td>\n",
       "      <td>11.65</td>\n",
       "      <td>12.77</td>\n",
       "      <td>9.26</td>\n",
       "      <td>8.88</td>\n",
       "    </tr>\n",
       "    <tr>\n",
       "      <th>...</th>\n",
       "      <td>...</td>\n",
       "      <td>...</td>\n",
       "      <td>...</td>\n",
       "      <td>...</td>\n",
       "      <td>...</td>\n",
       "      <td>...</td>\n",
       "      <td>...</td>\n",
       "      <td>...</td>\n",
       "      <td>...</td>\n",
       "      <td>...</td>\n",
       "      <td>...</td>\n",
       "      <td>...</td>\n",
       "      <td>...</td>\n",
       "    </tr>\n",
       "    <tr>\n",
       "      <th>1141</th>\n",
       "      <td>2021-08</td>\n",
       "      <td>-0.29</td>\n",
       "      <td>1.73</td>\n",
       "      <td>0.68</td>\n",
       "      <td>-1.35</td>\n",
       "      <td>0.20</td>\n",
       "      <td>4.68</td>\n",
       "      <td>1.40</td>\n",
       "      <td>3.23</td>\n",
       "      <td>2.39</td>\n",
       "      <td>2.85</td>\n",
       "      <td>2.66</td>\n",
       "      <td>2.30</td>\n",
       "    </tr>\n",
       "    <tr>\n",
       "      <th>1142</th>\n",
       "      <td>2021-09</td>\n",
       "      <td>-4.57</td>\n",
       "      <td>2.84</td>\n",
       "      <td>-6.24</td>\n",
       "      <td>10.63</td>\n",
       "      <td>-4.69</td>\n",
       "      <td>-6.27</td>\n",
       "      <td>-5.65</td>\n",
       "      <td>-4.84</td>\n",
       "      <td>-4.20</td>\n",
       "      <td>-5.94</td>\n",
       "      <td>-1.59</td>\n",
       "      <td>-3.50</td>\n",
       "    </tr>\n",
       "    <tr>\n",
       "      <th>1143</th>\n",
       "      <td>2021-10</td>\n",
       "      <td>3.75</td>\n",
       "      <td>30.63</td>\n",
       "      <td>4.51</td>\n",
       "      <td>10.25</td>\n",
       "      <td>5.94</td>\n",
       "      <td>7.69</td>\n",
       "      <td>-4.30</td>\n",
       "      <td>5.11</td>\n",
       "      <td>4.96</td>\n",
       "      <td>2.32</td>\n",
       "      <td>6.87</td>\n",
       "      <td>7.32</td>\n",
       "    </tr>\n",
       "    <tr>\n",
       "      <th>1144</th>\n",
       "      <td>2021-11</td>\n",
       "      <td>-3.77</td>\n",
       "      <td>1.70</td>\n",
       "      <td>-1.09</td>\n",
       "      <td>-5.46</td>\n",
       "      <td>0.43</td>\n",
       "      <td>0.99</td>\n",
       "      <td>-7.24</td>\n",
       "      <td>-1.96</td>\n",
       "      <td>1.50</td>\n",
       "      <td>-4.18</td>\n",
       "      <td>-5.67</td>\n",
       "      <td>-3.97</td>\n",
       "    </tr>\n",
       "    <tr>\n",
       "      <th>1145</th>\n",
       "      <td>2021-12</td>\n",
       "      <td>8.05</td>\n",
       "      <td>-4.44</td>\n",
       "      <td>4.15</td>\n",
       "      <td>3.09</td>\n",
       "      <td>9.60</td>\n",
       "      <td>1.78</td>\n",
       "      <td>3.86</td>\n",
       "      <td>8.57</td>\n",
       "      <td>1.34</td>\n",
       "      <td>6.74</td>\n",
       "      <td>4.85</td>\n",
       "      <td>5.30</td>\n",
       "    </tr>\n",
       "  </tbody>\n",
       "</table>\n",
       "<p>384 rows × 13 columns</p>\n",
       "</div>"
      ],
      "text/plain": [
       "         Date  NoDur  Durbl  Manuf  Enrgy  Chems  BusEq  Telcm  Utils  Shops  \\\n",
       "762   1990-01  -9.43  -3.84  -5.61  -4.30  -8.05  -1.25 -13.39  -5.35  -6.43   \n",
       "763   1990-02  -0.39   5.13   2.71   3.10   2.18   4.02  -0.35   0.21   1.99   \n",
       "764   1990-03   4.54   2.90   4.60  -0.57   2.22   4.47   4.18  -0.75   5.11   \n",
       "765   1990-04  -0.27  -4.04  -2.96  -3.54  -2.16  -2.02  -3.46  -5.51  -2.10   \n",
       "766   1990-05   9.04   7.76   7.75   6.03   8.93  12.56   9.38   5.43  11.65   \n",
       "...       ...    ...    ...    ...    ...    ...    ...    ...    ...    ...   \n",
       "1141  2021-08  -0.29   1.73   0.68  -1.35   0.20   4.68   1.40   3.23   2.39   \n",
       "1142  2021-09  -4.57   2.84  -6.24  10.63  -4.69  -6.27  -5.65  -4.84  -4.20   \n",
       "1143  2021-10   3.75  30.63   4.51  10.25   5.94   7.69  -4.30   5.11   4.96   \n",
       "1144  2021-11  -3.77   1.70  -1.09  -5.46   0.43   0.99  -7.24  -1.96   1.50   \n",
       "1145  2021-12   8.05  -4.44   4.15   3.09   9.60   1.78   3.86   8.57   1.34   \n",
       "\n",
       "      Hlth   Money  Other  \n",
       "762   -7.36  -9.78  -7.32  \n",
       "763   -2.06   2.32   2.95  \n",
       "764    3.85  -1.56   1.92  \n",
       "765    0.29  -4.23  -2.21  \n",
       "766   12.77   9.26   8.88  \n",
       "...     ...    ...    ...  \n",
       "1141   2.85   2.66   2.30  \n",
       "1142  -5.94  -1.59  -3.50  \n",
       "1143   2.32   6.87   7.32  \n",
       "1144  -4.18  -5.67  -3.97  \n",
       "1145   6.74   4.85   5.30  \n",
       "\n",
       "[384 rows x 13 columns]"
      ]
     },
     "execution_count": 324,
     "metadata": {},
     "output_type": "execute_result"
    }
   ],
   "source": [
    "industry_portofolios"
   ]
  },
  {
   "cell_type": "code",
   "execution_count": 355,
   "id": "95a42fdd",
   "metadata": {},
   "outputs": [
    {
     "data": {
      "text/html": [
       "<div>\n",
       "<style scoped>\n",
       "    .dataframe tbody tr th:only-of-type {\n",
       "        vertical-align: middle;\n",
       "    }\n",
       "\n",
       "    .dataframe tbody tr th {\n",
       "        vertical-align: top;\n",
       "    }\n",
       "\n",
       "    .dataframe thead th {\n",
       "        text-align: right;\n",
       "    }\n",
       "</style>\n",
       "<table border=\"1\" class=\"dataframe\">\n",
       "  <thead>\n",
       "    <tr style=\"text-align: right;\">\n",
       "      <th></th>\n",
       "      <th>permno</th>\n",
       "      <th>date</th>\n",
       "      <th>ret</th>\n",
       "      <th>shrout</th>\n",
       "      <th>prc</th>\n",
       "      <th>hsiccd</th>\n",
       "      <th>size</th>\n",
       "      <th>const</th>\n",
       "      <th>size_lag</th>\n",
       "      <th>obs</th>\n",
       "      <th>vwretd</th>\n",
       "      <th>rf</th>\n",
       "      <th>mprem</th>\n",
       "      <th>exret</th>\n",
       "      <th>industry</th>\n",
       "      <th>Momentum</th>\n",
       "    </tr>\n",
       "  </thead>\n",
       "  <tbody>\n",
       "    <tr>\n",
       "      <th>6855</th>\n",
       "      <td>10516</td>\n",
       "      <td>1990-01-31</td>\n",
       "      <td>-0.134054</td>\n",
       "      <td>281065.0</td>\n",
       "      <td>20.000000</td>\n",
       "      <td>2046.0</td>\n",
       "      <td>5.621300e+06</td>\n",
       "      <td>1</td>\n",
       "      <td>NaN</td>\n",
       "      <td>384</td>\n",
       "      <td>-0.070114</td>\n",
       "      <td>0.006390</td>\n",
       "      <td>-0.076503</td>\n",
       "      <td>-0.140444</td>\n",
       "      <td>Consumer Nondurables</td>\n",
       "      <td>NaN</td>\n",
       "    </tr>\n",
       "    <tr>\n",
       "      <th>6856</th>\n",
       "      <td>10516</td>\n",
       "      <td>1990-02-28</td>\n",
       "      <td>0.050000</td>\n",
       "      <td>281065.0</td>\n",
       "      <td>21.000000</td>\n",
       "      <td>2046.0</td>\n",
       "      <td>5.902365e+06</td>\n",
       "      <td>1</td>\n",
       "      <td>5.621300e+06</td>\n",
       "      <td>384</td>\n",
       "      <td>0.014900</td>\n",
       "      <td>0.006441</td>\n",
       "      <td>0.008459</td>\n",
       "      <td>0.043559</td>\n",
       "      <td>Consumer Nondurables</td>\n",
       "      <td>NaN</td>\n",
       "    </tr>\n",
       "    <tr>\n",
       "      <th>6857</th>\n",
       "      <td>10516</td>\n",
       "      <td>1990-03-30</td>\n",
       "      <td>0.083333</td>\n",
       "      <td>283801.0</td>\n",
       "      <td>22.750000</td>\n",
       "      <td>2046.0</td>\n",
       "      <td>6.456473e+06</td>\n",
       "      <td>1</td>\n",
       "      <td>5.902365e+06</td>\n",
       "      <td>384</td>\n",
       "      <td>0.024148</td>\n",
       "      <td>0.006688</td>\n",
       "      <td>0.017460</td>\n",
       "      <td>0.076645</td>\n",
       "      <td>Consumer Nondurables</td>\n",
       "      <td>NaN</td>\n",
       "    </tr>\n",
       "    <tr>\n",
       "      <th>6858</th>\n",
       "      <td>10516</td>\n",
       "      <td>1990-04-30</td>\n",
       "      <td>0.034066</td>\n",
       "      <td>283801.0</td>\n",
       "      <td>23.500000</td>\n",
       "      <td>2046.0</td>\n",
       "      <td>6.669324e+06</td>\n",
       "      <td>1</td>\n",
       "      <td>6.456473e+06</td>\n",
       "      <td>384</td>\n",
       "      <td>-0.028283</td>\n",
       "      <td>0.006283</td>\n",
       "      <td>-0.034567</td>\n",
       "      <td>0.027782</td>\n",
       "      <td>Consumer Nondurables</td>\n",
       "      <td>NaN</td>\n",
       "    </tr>\n",
       "    <tr>\n",
       "      <th>6859</th>\n",
       "      <td>10516</td>\n",
       "      <td>1990-05-31</td>\n",
       "      <td>0.127660</td>\n",
       "      <td>283801.0</td>\n",
       "      <td>26.500000</td>\n",
       "      <td>2046.0</td>\n",
       "      <td>7.520726e+06</td>\n",
       "      <td>1</td>\n",
       "      <td>6.669324e+06</td>\n",
       "      <td>384</td>\n",
       "      <td>0.088935</td>\n",
       "      <td>0.006132</td>\n",
       "      <td>0.082803</td>\n",
       "      <td>0.121528</td>\n",
       "      <td>Consumer Nondurables</td>\n",
       "      <td>NaN</td>\n",
       "    </tr>\n",
       "    <tr>\n",
       "      <th>...</th>\n",
       "      <td>...</td>\n",
       "      <td>...</td>\n",
       "      <td>...</td>\n",
       "      <td>...</td>\n",
       "      <td>...</td>\n",
       "      <td>...</td>\n",
       "      <td>...</td>\n",
       "      <td>...</td>\n",
       "      <td>...</td>\n",
       "      <td>...</td>\n",
       "      <td>...</td>\n",
       "      <td>...</td>\n",
       "      <td>...</td>\n",
       "      <td>...</td>\n",
       "      <td>...</td>\n",
       "      <td>...</td>\n",
       "    </tr>\n",
       "    <tr>\n",
       "      <th>400515</th>\n",
       "      <td>70519</td>\n",
       "      <td>2001-09-28</td>\n",
       "      <td>-0.115721</td>\n",
       "      <td>5214461.0</td>\n",
       "      <td>40.500000</td>\n",
       "      <td>6021.0</td>\n",
       "      <td>2.111857e+08</td>\n",
       "      <td>1</td>\n",
       "      <td>2.388223e+08</td>\n",
       "      <td>384</td>\n",
       "      <td>-0.091497</td>\n",
       "      <td>0.001983</td>\n",
       "      <td>-0.093480</td>\n",
       "      <td>-0.117704</td>\n",
       "      <td>Finance</td>\n",
       "      <td>-0.023015</td>\n",
       "    </tr>\n",
       "    <tr>\n",
       "      <th>400516</th>\n",
       "      <td>70519</td>\n",
       "      <td>2001-10-31</td>\n",
       "      <td>0.123951</td>\n",
       "      <td>5214461.0</td>\n",
       "      <td>45.520000</td>\n",
       "      <td>6021.0</td>\n",
       "      <td>2.373623e+08</td>\n",
       "      <td>1</td>\n",
       "      <td>2.111857e+08</td>\n",
       "      <td>384</td>\n",
       "      <td>0.027847</td>\n",
       "      <td>0.001746</td>\n",
       "      <td>0.026101</td>\n",
       "      <td>0.122205</td>\n",
       "      <td>Finance</td>\n",
       "      <td>-0.006824</td>\n",
       "    </tr>\n",
       "    <tr>\n",
       "      <th>400517</th>\n",
       "      <td>70519</td>\n",
       "      <td>2001-11-30</td>\n",
       "      <td>0.055800</td>\n",
       "      <td>5144814.0</td>\n",
       "      <td>47.900002</td>\n",
       "      <td>6021.0</td>\n",
       "      <td>2.464366e+08</td>\n",
       "      <td>1</td>\n",
       "      <td>2.373623e+08</td>\n",
       "      <td>384</td>\n",
       "      <td>0.078789</td>\n",
       "      <td>0.001441</td>\n",
       "      <td>0.077348</td>\n",
       "      <td>0.054359</td>\n",
       "      <td>Finance</td>\n",
       "      <td>-0.003725</td>\n",
       "    </tr>\n",
       "    <tr>\n",
       "      <th>400518</th>\n",
       "      <td>70519</td>\n",
       "      <td>2001-12-31</td>\n",
       "      <td>0.053862</td>\n",
       "      <td>5144814.0</td>\n",
       "      <td>50.480000</td>\n",
       "      <td>6021.0</td>\n",
       "      <td>2.597102e+08</td>\n",
       "      <td>1</td>\n",
       "      <td>2.464366e+08</td>\n",
       "      <td>384</td>\n",
       "      <td>0.017854</td>\n",
       "      <td>0.001364</td>\n",
       "      <td>0.016489</td>\n",
       "      <td>0.052498</td>\n",
       "      <td>Finance</td>\n",
       "      <td>-0.007323</td>\n",
       "    </tr>\n",
       "    <tr>\n",
       "      <th>400570</th>\n",
       "      <td>70519</td>\n",
       "      <td>2002-01-31</td>\n",
       "      <td>-0.057845</td>\n",
       "      <td>5144814.0</td>\n",
       "      <td>47.400002</td>\n",
       "      <td>6021.0</td>\n",
       "      <td>2.438642e+08</td>\n",
       "      <td>1</td>\n",
       "      <td>2.597102e+08</td>\n",
       "      <td>384</td>\n",
       "      <td>-0.015966</td>\n",
       "      <td>0.001409</td>\n",
       "      <td>-0.017375</td>\n",
       "      <td>-0.059254</td>\n",
       "      <td>Finance</td>\n",
       "      <td>-0.001528</td>\n",
       "    </tr>\n",
       "  </tbody>\n",
       "</table>\n",
       "<p>38400 rows × 16 columns</p>\n",
       "</div>"
      ],
      "text/plain": [
       "        permno       date       ret     shrout        prc  hsiccd  \\\n",
       "6855     10516 1990-01-31 -0.134054   281065.0  20.000000  2046.0   \n",
       "6856     10516 1990-02-28  0.050000   281065.0  21.000000  2046.0   \n",
       "6857     10516 1990-03-30  0.083333   283801.0  22.750000  2046.0   \n",
       "6858     10516 1990-04-30  0.034066   283801.0  23.500000  2046.0   \n",
       "6859     10516 1990-05-31  0.127660   283801.0  26.500000  2046.0   \n",
       "...        ...        ...       ...        ...        ...     ...   \n",
       "400515   70519 2001-09-28 -0.115721  5214461.0  40.500000  6021.0   \n",
       "400516   70519 2001-10-31  0.123951  5214461.0  45.520000  6021.0   \n",
       "400517   70519 2001-11-30  0.055800  5144814.0  47.900002  6021.0   \n",
       "400518   70519 2001-12-31  0.053862  5144814.0  50.480000  6021.0   \n",
       "400570   70519 2002-01-31 -0.057845  5144814.0  47.400002  6021.0   \n",
       "\n",
       "                size  const      size_lag  obs    vwretd        rf     mprem  \\\n",
       "6855    5.621300e+06      1           NaN  384 -0.070114  0.006390 -0.076503   \n",
       "6856    5.902365e+06      1  5.621300e+06  384  0.014900  0.006441  0.008459   \n",
       "6857    6.456473e+06      1  5.902365e+06  384  0.024148  0.006688  0.017460   \n",
       "6858    6.669324e+06      1  6.456473e+06  384 -0.028283  0.006283 -0.034567   \n",
       "6859    7.520726e+06      1  6.669324e+06  384  0.088935  0.006132  0.082803   \n",
       "...              ...    ...           ...  ...       ...       ...       ...   \n",
       "400515  2.111857e+08      1  2.388223e+08  384 -0.091497  0.001983 -0.093480   \n",
       "400516  2.373623e+08      1  2.111857e+08  384  0.027847  0.001746  0.026101   \n",
       "400517  2.464366e+08      1  2.373623e+08  384  0.078789  0.001441  0.077348   \n",
       "400518  2.597102e+08      1  2.464366e+08  384  0.017854  0.001364  0.016489   \n",
       "400570  2.438642e+08      1  2.597102e+08  384 -0.015966  0.001409 -0.017375   \n",
       "\n",
       "           exret              industry  Momentum  \n",
       "6855   -0.140444  Consumer Nondurables       NaN  \n",
       "6856    0.043559  Consumer Nondurables       NaN  \n",
       "6857    0.076645  Consumer Nondurables       NaN  \n",
       "6858    0.027782  Consumer Nondurables       NaN  \n",
       "6859    0.121528  Consumer Nondurables       NaN  \n",
       "...          ...                   ...       ...  \n",
       "400515 -0.117704               Finance -0.023015  \n",
       "400516  0.122205               Finance -0.006824  \n",
       "400517  0.054359               Finance -0.003725  \n",
       "400518  0.052498               Finance -0.007323  \n",
       "400570 -0.059254               Finance -0.001528  \n",
       "\n",
       "[38400 rows x 16 columns]"
      ]
     },
     "execution_count": 355,
     "metadata": {},
     "output_type": "execute_result"
    }
   ],
   "source": [
    "data"
   ]
  },
  {
   "cell_type": "code",
   "execution_count": 356,
   "id": "e8366b9c",
   "metadata": {
    "scrolled": true
   },
   "outputs": [
    {
     "data": {
      "text/plain": [
       "6855   -0.076503\n",
       "6856   -0.068044\n",
       "6857   -0.050584\n",
       "6858   -0.085151\n",
       "6859   -0.002348\n",
       "          ...   \n",
       "7360    2.719055\n",
       "7361    2.676774\n",
       "7362    2.741388\n",
       "7363    2.722974\n",
       "7364    2.756276\n",
       "Name: mprem, Length: 384, dtype: float64"
      ]
     },
     "execution_count": 356,
     "metadata": {},
     "output_type": "execute_result"
    }
   ],
   "source": [
    "data[data[\"permno\"] == 10516][\"mprem\"].cumsum()"
   ]
  },
  {
   "cell_type": "markdown",
   "id": "f02a0a4a",
   "metadata": {},
   "source": [
    "# A) Value Weighted Momentum Strategy"
   ]
  },
  {
   "cell_type": "code",
   "execution_count": 331,
   "id": "95cebf9e",
   "metadata": {
    "scrolled": true
   },
   "outputs": [],
   "source": [
    "data[\"Momentum\"] = np.zeros(38400)"
   ]
  },
  {
   "cell_type": "code",
   "execution_count": 345,
   "id": "4815eb4b",
   "metadata": {},
   "outputs": [],
   "source": [
    "for stock in data[\"permno\"].unique():\n",
    "    data[\"Momentum\"][data[\"permno\"] == stock] = data[data[\"permno\"] == stock][\"exret\"].rolling(11,11).mean()\n",
    "    #shift by 1 (we calculate t-11 to t so we need to shift it by 1 )\n",
    "    for i in range(len(data[data[\"permno\"] == stock]) - 1):\n",
    "        if(i>=11):\n",
    "            data[\"Momentum\"][data[\"permno\"] == stock].iloc[i] = data[\"Momentum\"][data[\"permno\"] == stock].iloc[i+1]"
   ]
  },
  {
   "cell_type": "code",
   "execution_count": 346,
   "id": "34dde15b",
   "metadata": {},
   "outputs": [],
   "source": [
    "# keep only dates after 11 months\n",
    "dates = data[\"date\"].unique()[11:len(data[\"date\"]) - 1]"
   ]
  },
  {
   "cell_type": "code",
   "execution_count": 347,
   "id": "1d6c2e2c",
   "metadata": {},
   "outputs": [],
   "source": [
    "momentum = pd.DataFrame({\"date\":dates,\"Momentum_large_returns\":0,\"Momentum_small_returns\":0,\"Market_cap_large\":0,\"Market_cap_small\":0,\"Market_cap_total\":0,\"Momentum_strategy\":0})"
   ]
  },
  {
   "cell_type": "code",
   "execution_count": 348,
   "id": "f6ccbc4d",
   "metadata": {
    "scrolled": true
   },
   "outputs": [],
   "source": [
    "for date in momentum.date:\n",
    "    #10 largest and smallet stocks returns in window \n",
    "    largest = data[data[\"date\"] == date].nlargest(10,\"Momentum\")\n",
    "    smallest = data[data[\"date\"] == date].nsmallest(10,\"Momentum\")\n",
    "    \n",
    "    #append returns\n",
    "    momentum[\"Momentum_large_returns\"][momentum[\"date\"] == date] = np.mean(largest[\"exret\"])\n",
    "    momentum[\"Momentum_small_returns\"][momentum[\"date\"] == date] = np.mean(smallest[\"exret\"])\n",
    "    \n",
    "    #add market cap of largest and smallet stocks\n",
    "    momentum[\"Market_cap_large\"][momentum[\"date\"] == date] = np.sum(largest[\"prc\"]*largest[\"shrout\"])\n",
    "    momentum[\"Market_cap_small\"][momentum[\"date\"] == date] = np.sum(smallest[\"prc\"]*smallest[\"shrout\"])\n",
    "    \n",
    "    #add total market cap\n",
    "    momentum[\"Market_cap_total\"][momentum[\"date\"] == date] = np.sum(data[data[\"date\"] == date][\"prc\"]*data[data[\"date\"] == date][\"shrout\"])"
   ]
  },
  {
   "cell_type": "code",
   "execution_count": 349,
   "id": "26cc49cf",
   "metadata": {},
   "outputs": [],
   "source": [
    "#Sell small return stocks for larger profit stocks \n",
    "# returns_market_cap_large * (market_cap_small + market_cap_large)/total_market_cap - returns_market_cap_small * (market_cap_small)/total_market_cap  is the new return for the strategy implying we sell \n",
    "# market_cap_small to invest into market_cap_large\n",
    "\n",
    "#momentum[\"Momentum_strategy\"] = momentum[\"Momentum_large\"] * (momentum[\"Market_cap_large\"]+momentum[\"Market_cap_small\"])/momentum[\"Market_cap_total\"] - momentum[\"Momentum_small\"] * (momentum[\"Market_cap_small\"])/momentum[\"Market_cap_total\"]\n",
    "momentum[\"Momentum_strategy\"] = momentum[\"Momentum_large_returns\"] - momentum[\"Momentum_small_returns\"]  "
   ]
  },
  {
   "cell_type": "code",
   "execution_count": 350,
   "id": "68487937",
   "metadata": {
    "scrolled": true
   },
   "outputs": [
    {
     "name": "stdout",
     "output_type": "stream",
     "text": [
      "The mean is 0.07044986542051863, the std is 0.0674477878487055 and the sharpe ratio is 1.0140779079719913\n"
     ]
    }
   ],
   "source": [
    "returns = momentum[\"Momentum_strategy\"]\n",
    "cum_returns = (momentum[\"Momentum_strategy\"]).cumsum()\n",
    "mean = np.mean(momentum[\"Momentum_strategy\"])\n",
    "std = np.std(momentum[\"Momentum_strategy\"])\n",
    "SR = ((mean - np.mean(data[\"rf\"]))/std)\n",
    "print(f\"The mean is {mean}, the std is {std} and the sharpe ratio is {SR}\")"
   ]
  },
  {
   "cell_type": "code",
   "execution_count": 351,
   "id": "0137c08d",
   "metadata": {},
   "outputs": [
    {
     "data": {
      "text/plain": [
       "0      0.048963\n",
       "1     -0.039988\n",
       "2      0.042099\n",
       "3      0.098421\n",
       "4      0.052591\n",
       "         ...   \n",
       "368    0.081318\n",
       "369    0.052984\n",
       "370    0.141193\n",
       "371    0.094530\n",
       "372    0.000861\n",
       "Name: Momentum_strategy, Length: 373, dtype: float64"
      ]
     },
     "execution_count": 351,
     "metadata": {},
     "output_type": "execute_result"
    }
   ],
   "source": [
    "returns"
   ]
  },
  {
   "cell_type": "code",
   "execution_count": 352,
   "id": "5a8de52e",
   "metadata": {
    "scrolled": true
   },
   "outputs": [
    {
     "data": {
      "text/plain": [
       "<AxesSubplot:>"
      ]
     },
     "execution_count": 352,
     "metadata": {},
     "output_type": "execute_result"
    },
    {
     "data": {
      "image/png": "[encoded data removed]",
      "text/plain": [
       "<Figure size 432x288 with 1 Axes>"
      ]
     },
     "metadata": {
      "needs_background": "light"
     },
     "output_type": "display_data"
    }
   ],
   "source": [
    "cum_returns.plot()"
   ]
  },
  {
   "cell_type": "code",
   "execution_count": 353,
   "id": "af8ec1a4",
   "metadata": {},
   "outputs": [
    {
     "data": {
      "text/plain": [
       "0       0.048963\n",
       "1       0.008975\n",
       "2       0.051074\n",
       "3       0.149495\n",
       "4       0.202086\n",
       "         ...    \n",
       "368    25.988231\n",
       "369    26.041215\n",
       "370    26.182408\n",
       "371    26.276938\n",
       "372    26.277800\n",
       "Name: Momentum_strategy, Length: 373, dtype: float64"
      ]
     },
     "execution_count": 353,
     "metadata": {},
     "output_type": "execute_result"
    }
   ],
   "source": [
    "cum_returns"
   ]
  },
  {
   "cell_type": "markdown",
   "id": "f24198c8",
   "metadata": {},
   "source": [
    "# B"
   ]
  },
  {
   "cell_type": "code",
   "execution_count": 360,
   "id": "caae16f5",
   "metadata": {},
   "outputs": [],
   "source": [
    "data_regression = data[(data['date'] > '1991-01-01') & (data['date'] < '2021-12-01')]"
   ]
  },
  {
   "cell_type": "code",
   "execution_count": 361,
   "id": "70b5189a",
   "metadata": {},
   "outputs": [
    {
     "ename": "ValueError",
     "evalue": "Found input variables with inconsistent numbers of samples: [371, 373]",
     "output_type": "error",
     "traceback": [
      "\u001b[1;31m---------------------------------------------------------------------------\u001b[0m",
      "\u001b[1;31mValueError\u001b[0m                                Traceback (most recent call last)",
      "Input \u001b[1;32mIn [361]\u001b[0m, in \u001b[0;36m<cell line: 5>\u001b[1;34m()\u001b[0m\n\u001b[0;32m      3\u001b[0m \u001b[38;5;66;03m#regress on market premium\u001b[39;00m\n\u001b[0;32m      4\u001b[0m mprem \u001b[38;5;241m=\u001b[39m data_regression\u001b[38;5;241m.\u001b[39mgroupby(\u001b[38;5;124m\"\u001b[39m\u001b[38;5;124mdate\u001b[39m\u001b[38;5;124m\"\u001b[39m)\u001b[38;5;241m.\u001b[39msum()[\u001b[38;5;124m\"\u001b[39m\u001b[38;5;124mmprem\u001b[39m\u001b[38;5;124m\"\u001b[39m]\n\u001b[1;32m----> 5\u001b[0m lm \u001b[38;5;241m=\u001b[39m \u001b[43mLinearRegression\u001b[49m\u001b[43m(\u001b[49m\u001b[43m)\u001b[49m\u001b[38;5;241;43m.\u001b[39;49m\u001b[43mfit\u001b[49m\u001b[43m(\u001b[49m\u001b[43mmprem\u001b[49m\u001b[38;5;241;43m.\u001b[39;49m\u001b[43mto_numpy\u001b[49m\u001b[43m(\u001b[49m\u001b[43m)\u001b[49m\u001b[38;5;241;43m.\u001b[39;49m\u001b[43mreshape\u001b[49m\u001b[43m(\u001b[49m\u001b[38;5;241;43m-\u001b[39;49m\u001b[38;5;241;43m1\u001b[39;49m\u001b[43m,\u001b[49m\u001b[43m \u001b[49m\u001b[38;5;241;43m1\u001b[39;49m\u001b[43m)\u001b[49m\u001b[43m,\u001b[49m\u001b[43mreturns\u001b[49m\u001b[38;5;241;43m.\u001b[39;49m\u001b[43mto_numpy\u001b[49m\u001b[43m(\u001b[49m\u001b[43m)\u001b[49m\u001b[38;5;241;43m.\u001b[39;49m\u001b[43mreshape\u001b[49m\u001b[43m(\u001b[49m\u001b[38;5;241;43m-\u001b[39;49m\u001b[38;5;241;43m1\u001b[39;49m\u001b[43m,\u001b[49m\u001b[43m \u001b[49m\u001b[38;5;241;43m1\u001b[39;49m\u001b[43m)\u001b[49m\u001b[43m)\u001b[49m\n\u001b[0;32m      7\u001b[0m \u001b[38;5;28mprint\u001b[39m(\u001b[38;5;124mf\u001b[39m\u001b[38;5;124m\"\u001b[39m\u001b[38;5;124mThe alpha for the market premium is \u001b[39m\u001b[38;5;132;01m{\u001b[39;00mlm\u001b[38;5;241m.\u001b[39mintercept_\u001b[38;5;241m.\u001b[39mitem()\u001b[38;5;132;01m}\u001b[39;00m\u001b[38;5;124m and the beta is \u001b[39m\u001b[38;5;132;01m{\u001b[39;00mlm\u001b[38;5;241m.\u001b[39mcoef_\u001b[38;5;241m.\u001b[39mitem()\u001b[38;5;132;01m}\u001b[39;00m\u001b[38;5;124m\"\u001b[39m)\n",
      "File \u001b[1;32m~\\anaconda3\\lib\\site-packages\\sklearn\\linear_model\\_base.py:662\u001b[0m, in \u001b[0;36mLinearRegression.fit\u001b[1;34m(self, X, y, sample_weight)\u001b[0m\n\u001b[0;32m    658\u001b[0m n_jobs_ \u001b[38;5;241m=\u001b[39m \u001b[38;5;28mself\u001b[39m\u001b[38;5;241m.\u001b[39mn_jobs\n\u001b[0;32m    660\u001b[0m accept_sparse \u001b[38;5;241m=\u001b[39m \u001b[38;5;28;01mFalse\u001b[39;00m \u001b[38;5;28;01mif\u001b[39;00m \u001b[38;5;28mself\u001b[39m\u001b[38;5;241m.\u001b[39mpositive \u001b[38;5;28;01melse\u001b[39;00m [\u001b[38;5;124m\"\u001b[39m\u001b[38;5;124mcsr\u001b[39m\u001b[38;5;124m\"\u001b[39m, \u001b[38;5;124m\"\u001b[39m\u001b[38;5;124mcsc\u001b[39m\u001b[38;5;124m\"\u001b[39m, \u001b[38;5;124m\"\u001b[39m\u001b[38;5;124mcoo\u001b[39m\u001b[38;5;124m\"\u001b[39m]\n\u001b[1;32m--> 662\u001b[0m X, y \u001b[38;5;241m=\u001b[39m \u001b[38;5;28;43mself\u001b[39;49m\u001b[38;5;241;43m.\u001b[39;49m\u001b[43m_validate_data\u001b[49m\u001b[43m(\u001b[49m\n\u001b[0;32m    663\u001b[0m \u001b[43m    \u001b[49m\u001b[43mX\u001b[49m\u001b[43m,\u001b[49m\u001b[43m \u001b[49m\u001b[43my\u001b[49m\u001b[43m,\u001b[49m\u001b[43m \u001b[49m\u001b[43maccept_sparse\u001b[49m\u001b[38;5;241;43m=\u001b[39;49m\u001b[43maccept_sparse\u001b[49m\u001b[43m,\u001b[49m\u001b[43m \u001b[49m\u001b[43my_numeric\u001b[49m\u001b[38;5;241;43m=\u001b[39;49m\u001b[38;5;28;43;01mTrue\u001b[39;49;00m\u001b[43m,\u001b[49m\u001b[43m \u001b[49m\u001b[43mmulti_output\u001b[49m\u001b[38;5;241;43m=\u001b[39;49m\u001b[38;5;28;43;01mTrue\u001b[39;49;00m\n\u001b[0;32m    664\u001b[0m \u001b[43m\u001b[49m\u001b[43m)\u001b[49m\n\u001b[0;32m    666\u001b[0m \u001b[38;5;28;01mif\u001b[39;00m sample_weight \u001b[38;5;129;01mis\u001b[39;00m \u001b[38;5;129;01mnot\u001b[39;00m \u001b[38;5;28;01mNone\u001b[39;00m:\n\u001b[0;32m    667\u001b[0m     sample_weight \u001b[38;5;241m=\u001b[39m _check_sample_weight(sample_weight, X, dtype\u001b[38;5;241m=\u001b[39mX\u001b[38;5;241m.\u001b[39mdtype)\n",
      "File \u001b[1;32m~\\anaconda3\\lib\\site-packages\\sklearn\\base.py:581\u001b[0m, in \u001b[0;36mBaseEstimator._validate_data\u001b[1;34m(self, X, y, reset, validate_separately, **check_params)\u001b[0m\n\u001b[0;32m    579\u001b[0m         y \u001b[38;5;241m=\u001b[39m check_array(y, \u001b[38;5;241m*\u001b[39m\u001b[38;5;241m*\u001b[39mcheck_y_params)\n\u001b[0;32m    580\u001b[0m     \u001b[38;5;28;01melse\u001b[39;00m:\n\u001b[1;32m--> 581\u001b[0m         X, y \u001b[38;5;241m=\u001b[39m \u001b[43mcheck_X_y\u001b[49m\u001b[43m(\u001b[49m\u001b[43mX\u001b[49m\u001b[43m,\u001b[49m\u001b[43m \u001b[49m\u001b[43my\u001b[49m\u001b[43m,\u001b[49m\u001b[43m \u001b[49m\u001b[38;5;241;43m*\u001b[39;49m\u001b[38;5;241;43m*\u001b[39;49m\u001b[43mcheck_params\u001b[49m\u001b[43m)\u001b[49m\n\u001b[0;32m    582\u001b[0m     out \u001b[38;5;241m=\u001b[39m X, y\n\u001b[0;32m    584\u001b[0m \u001b[38;5;28;01mif\u001b[39;00m \u001b[38;5;129;01mnot\u001b[39;00m no_val_X \u001b[38;5;129;01mand\u001b[39;00m check_params\u001b[38;5;241m.\u001b[39mget(\u001b[38;5;124m\"\u001b[39m\u001b[38;5;124mensure_2d\u001b[39m\u001b[38;5;124m\"\u001b[39m, \u001b[38;5;28;01mTrue\u001b[39;00m):\n",
      "File \u001b[1;32m~\\anaconda3\\lib\\site-packages\\sklearn\\utils\\validation.py:981\u001b[0m, in \u001b[0;36mcheck_X_y\u001b[1;34m(X, y, accept_sparse, accept_large_sparse, dtype, order, copy, force_all_finite, ensure_2d, allow_nd, multi_output, ensure_min_samples, ensure_min_features, y_numeric, estimator)\u001b[0m\n\u001b[0;32m    964\u001b[0m X \u001b[38;5;241m=\u001b[39m check_array(\n\u001b[0;32m    965\u001b[0m     X,\n\u001b[0;32m    966\u001b[0m     accept_sparse\u001b[38;5;241m=\u001b[39maccept_sparse,\n\u001b[1;32m   (...)\u001b[0m\n\u001b[0;32m    976\u001b[0m     estimator\u001b[38;5;241m=\u001b[39mestimator,\n\u001b[0;32m    977\u001b[0m )\n\u001b[0;32m    979\u001b[0m y \u001b[38;5;241m=\u001b[39m _check_y(y, multi_output\u001b[38;5;241m=\u001b[39mmulti_output, y_numeric\u001b[38;5;241m=\u001b[39my_numeric)\n\u001b[1;32m--> 981\u001b[0m \u001b[43mcheck_consistent_length\u001b[49m\u001b[43m(\u001b[49m\u001b[43mX\u001b[49m\u001b[43m,\u001b[49m\u001b[43m \u001b[49m\u001b[43my\u001b[49m\u001b[43m)\u001b[49m\n\u001b[0;32m    983\u001b[0m \u001b[38;5;28;01mreturn\u001b[39;00m X, y\n",
      "File \u001b[1;32m~\\anaconda3\\lib\\site-packages\\sklearn\\utils\\validation.py:332\u001b[0m, in \u001b[0;36mcheck_consistent_length\u001b[1;34m(*arrays)\u001b[0m\n\u001b[0;32m    330\u001b[0m uniques \u001b[38;5;241m=\u001b[39m np\u001b[38;5;241m.\u001b[39munique(lengths)\n\u001b[0;32m    331\u001b[0m \u001b[38;5;28;01mif\u001b[39;00m \u001b[38;5;28mlen\u001b[39m(uniques) \u001b[38;5;241m>\u001b[39m \u001b[38;5;241m1\u001b[39m:\n\u001b[1;32m--> 332\u001b[0m     \u001b[38;5;28;01mraise\u001b[39;00m \u001b[38;5;167;01mValueError\u001b[39;00m(\n\u001b[0;32m    333\u001b[0m         \u001b[38;5;124m\"\u001b[39m\u001b[38;5;124mFound input variables with inconsistent numbers of samples: \u001b[39m\u001b[38;5;132;01m%r\u001b[39;00m\u001b[38;5;124m\"\u001b[39m\n\u001b[0;32m    334\u001b[0m         \u001b[38;5;241m%\u001b[39m [\u001b[38;5;28mint\u001b[39m(l) \u001b[38;5;28;01mfor\u001b[39;00m l \u001b[38;5;129;01min\u001b[39;00m lengths]\n\u001b[0;32m    335\u001b[0m     )\n",
      "\u001b[1;31mValueError\u001b[0m: Found input variables with inconsistent numbers of samples: [371, 373]"
     ]
    }
   ],
   "source": [
    "from sklearn.linear_model import LinearRegression\n",
    "\n",
    "#regress on market premium\n",
    "mprem = data_regression.groupby(\"date\").sum()[\"mprem\"]\n",
    "lm = LinearRegression().fit(mprem.to_numpy().reshape(-1, 1),returns.to_numpy().reshape(-1, 1))\n",
    "\n",
    "print(f\"The alpha for the market premium is {lm.intercept_.item()} and the beta is {lm.coef_.item()}\")"
   ]
  },
  {
   "cell_type": "code",
   "execution_count": null,
   "id": "b7472162",
   "metadata": {},
   "outputs": [],
   "source": [
    "industry_portofolios_momentum = industry_portofolios[(industry_portofolios['Date'] >= '1991-01')]\n",
    "\n",
    "alphas = []\n",
    "betas = []\n",
    "#regress on industry\n",
    "for industry in industry_portofolios.columns[1:]:\n",
    "    l = LinearRegression().fit(industry_portofolios_momentum[industry].to_numpy().reshape(-1, 1)/100,returns.to_numpy().reshape(-1, 1))\n",
    "    betas.append(l.coef_.item())\n",
    "    alphas.append(l.intercept_.item()) "
   ]
  },
  {
   "cell_type": "code",
   "execution_count": null,
   "id": "9ef17b2f",
   "metadata": {},
   "outputs": [],
   "source": [
    "#remove Date\n",
    "#X = industry_portofolios_momentum.loc[:, industry_portofolios_momentum.columns!='Date']\n",
    "#l = LinearRegression().fit(X.to_numpy()/100,returns.to_numpy().reshape(-1, 1))"
   ]
  },
  {
   "cell_type": "code",
   "execution_count": null,
   "id": "506a362e",
   "metadata": {},
   "outputs": [],
   "source": [
    "alphas"
   ]
  },
  {
   "cell_type": "code",
   "execution_count": 122,
   "id": "322171a4",
   "metadata": {
    "scrolled": false
   },
   "outputs": [
    {
     "name": "stdout",
     "output_type": "stream",
     "text": [
      "                                 OLS Regression Results                                \n",
      "=======================================================================================\n",
      "Dep. Variable:                      y   R-squared (uncentered):                   0.156\n",
      "Model:                            OLS   Adj. R-squared (uncentered):              0.128\n",
      "Method:                 Least Squares   F-statistic:                              5.558\n",
      "Date:                Mon, 02 May 2022   Prob (F-statistic):                    9.62e-09\n",
      "Time:                        08:41:43   Log-Likelihood:                          229.24\n",
      "No. Observations:                 372   AIC:                                     -434.5\n",
      "Df Residuals:                     360   BIC:                                     -387.4\n",
      "Df Model:                          12                                                  \n",
      "Covariance Type:            nonrobust                                                  \n",
      "==============================================================================\n",
      "                 coef    std err          t      P>|t|      [0.025      0.975]\n",
      "------------------------------------------------------------------------------\n",
      "x1             0.0109      0.354      0.031      0.975      -0.686       0.708\n",
      "x2            -0.0182      0.151     -0.121      0.904      -0.314       0.278\n",
      "x3            -0.0101      0.392     -0.026      0.979      -0.780       0.760\n",
      "x4             0.2631      0.150      1.751      0.081      -0.032       0.559\n",
      "x5            -0.0102      0.343     -0.030      0.976      -0.685       0.665\n",
      "x6             0.3877      0.177      2.187      0.029       0.039       0.736\n",
      "x7            -0.1138      0.220     -0.518      0.605      -0.546       0.319\n",
      "x8             0.3458      0.221      1.568      0.118      -0.088       0.780\n",
      "x9             0.2938      0.290      1.013      0.312      -0.276       0.864\n",
      "x10            0.3587      0.229      1.564      0.119      -0.092       0.810\n",
      "x11            0.3356      0.253      1.328      0.185      -0.161       0.833\n",
      "x12           -0.4678      0.424     -1.104      0.270      -1.301       0.366\n",
      "==============================================================================\n",
      "Omnibus:                       43.191   Durbin-Watson:                   0.438\n",
      "Prob(Omnibus):                  0.000   Jarque-Bera (JB):              235.122\n",
      "Skew:                           0.245   Prob(JB):                     8.79e-52\n",
      "Kurtosis:                       6.864   Cond. No.                         10.9\n",
      "==============================================================================\n",
      "\n",
      "Notes:\n",
      "[1] R² is computed without centering (uncentered) since the model does not contain a constant.\n",
      "[2] Standard Errors assume that the covariance matrix of the errors is correctly specified.\n"
     ]
    }
   ],
   "source": [
    "import statsmodels.api as sm\n",
    "\n",
    "est = sm.OLS(returns.to_numpy().reshape(-1, 1),X.to_numpy()/100)\n",
    "est2 = est.fit()\n",
    "print(est2.summary())"
   ]
  },
  {
   "cell_type": "markdown",
   "id": "3f0f29c6",
   "metadata": {},
   "source": [
    "### Interpretation\n",
    "\n",
    "We observe that with respect to a significance treshold of 5%, the significant coefficients are the 6th and 8th one, respectively the one for BusEq\tand Utils industries We have a not that great R2 and the alphas are not particularly high so we can conclude they are responsible for the strategy performance"
   ]
  },
  {
   "cell_type": "code",
   "execution_count": null,
   "id": "e50677e1",
   "metadata": {},
   "outputs": [],
   "source": []
  },
  {
   "cell_type": "code",
   "execution_count": null,
   "id": "417b10ff",
   "metadata": {},
   "outputs": [],
   "source": []
  },
  {
   "cell_type": "markdown",
   "id": "37783501",
   "metadata": {},
   "source": [
    "### Helpers"
   ]
  },
  {
   "cell_type": "code",
   "execution_count": 13,
   "id": "85c15055",
   "metadata": {},
   "outputs": [],
   "source": [
    "def get_industry(number):\n",
    "\n",
    "    if(((number>=100) and (number<=999)) or (number>=2000 and number<=2399) or  (number>=2700 and number<=2749) or  (number>=2770 and number<=2799) or  (number>=3100 and number<=3199)  or  (number>=3940 and number<=3989)):\n",
    "        return  \"Consumer Nondurables\"\n",
    "\n",
    "    if((number>=2500 and number<=2519) or (number>=2590 and number<=2599) or (number>=3630 and number<=3659) or (number>=3710 and number<=3711) or (number>=3714 and number<=3714) or (number>=3716 and number<=3716) or (number>=3750 and number<=3751) or (number>=3792 and number<=3792) or (number>=3900 and number<=3939) or  (number>=3900 and number<=3939)):\n",
    "        return \"Consumer Durables\"\n",
    "    \n",
    "    if((number>=2520 and number<=2589) or  (number>=2600 and number<=2699) or  (number>=2750 and number<=2769) or  (number>=3000 and number<=3099) or (number>=3200 and number<=3569) or (number>=3580 and number<=3629) or (number>=3700 and number<=3709) or(number>=3712 and number<=3713) or(number>=3715 and number<=3715) or(number>=3717 and number<=3749) or(number>=3752 and number<=3791) or(number>=3793 and number<=3799) or(number>=3830 and number<=3839) or(number>=3860 and number<=3899)):\n",
    "        return \"Manufacturing\"\n",
    "    \n",
    "    if((number>=1200 and number<=1399) or  (number>=2900 and number<=2999)):\n",
    "        return \"Oil, Gas, and Coal Extraction and Products\"\n",
    "    \n",
    "    if((number>=2800 and number<=2829) or  (number>=2840 and number<=2899)):\n",
    "        return \"Chemicals and Allied Products\"\n",
    "    \n",
    "    if((number>=3570 and number<=3579) or  (number>=3660 and number<=3692) or (number>=3694 and number<=3699) or  (number>=3810 and number<=3829) or  (number>=7370 and number<=7379)):\n",
    "        return \"Business Equipment -- Computers, Software, and Electronic Equipment\"\n",
    "    \n",
    "    if((number>=4800 and number<=4899)):\n",
    "        return \"Telephone and Television Transmission\"\n",
    "    \n",
    "    if((number>=4900 and number<=4949)):\n",
    "        return \"Utilities\"\n",
    "    \n",
    "    if((number>=5000 and number<=5999) or  (number>=7200 and number<=7299) or (number>=7600 and number<=7699)):\n",
    "        return \"Wholesale, Retail, and Some Services (Laundries, Repair Shops)\"\n",
    "    \n",
    "    if((number>=2830 and number<=2839) or  (number>=3693 and number<=3693) or (number>=3840 and number<=3859)  or (number>=8000 and number<=8099)):\n",
    "        return \"Healthcare, Medical Equipment, and Drugs\"\n",
    "    \n",
    "    if((number>=6000 and number<=6999)):\n",
    "        return \"Finance\"\n",
    "    \n",
    "    else:\n",
    "        return \"Other -- Mines, Constr, BldMt, Trans, Hotels, Bus Serv, Entertainment\""
   ]
  },
  {
   "cell_type": "code",
   "execution_count": null,
   "id": "1340fd82",
   "metadata": {},
   "outputs": [],
   "source": []
  }
 ],
 "metadata": {
  "kernelspec": {
   "display_name": "Python 3 (ipykernel)",
   "language": "python",
   "name": "python3"
  },
  "language_info": {
   "codemirror_mode": {
    "name": "ipython",
    "version": 3
   },
   "file_extension": ".py",
   "mimetype": "text/x-python",
   "name": "python",
   "nbconvert_exporter": "python",
   "pygments_lexer": "ipython3",
   "version": "3.8.12"
  }
 },
 "nbformat": 4,
 "nbformat_minor": 5
}
