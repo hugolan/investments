{
 "cells": [
  {
   "cell_type": "code",
   "execution_count": 24,
   "id": "718ee792",
   "metadata": {
    "scrolled": true
   },
   "outputs": [
    {
     "name": "stdout",
     "output_type": "stream",
     "text": [
      "Loading library list...\n",
      "Done\n"
     ]
    }
   ],
   "source": [
    "import wrds\n",
    "db=wrds.Connection(wrds_username='hlanfran')\n",
    "import numpy as np\n",
    "import pandas as pd"
   ]
  },
  {
   "cell_type": "code",
   "execution_count": 145,
   "id": "a33c411d",
   "metadata": {},
   "outputs": [],
   "source": [
    "Rf=db.raw_sql(\"select  mcaldt,tmytm \"\n",
    "           \"from crsp.tfz_mth_rf \"           \n",
    "            \"where kytreasnox = 2000001 \"\n",
    "           \"and mcaldt>='1990-01-01'\"\n",
    "            \"and mcaldt<='2021-12-31'\", date_cols=['mcaldt'])\n",
    "\n",
    "#transform annualized and continuously compounded returns into simple and monthly returns:\n",
    "Rf['tmytm']=np.exp(Rf['tmytm']/12/100)-1\n",
    "Rf=Rf.rename(columns={ \"mcaldt\": \"date\",\"tmytm\": \"rf\"})\n",
    "\n",
    "#use own index instead\n",
    "# get index returns\n",
    "data_index=db.raw_sql(\"select  date,vwretd \"\n",
    "           \"from crsp.msi \"\n",
    "           \"where date>='1900-01-01'\"\n",
    "            \"and date<='2021-12-31'\", date_cols=['date'])\n",
    "\n",
    "\n",
    "# get stock returns\n",
    "crsp_m = db.raw_sql(\"\"\"\n",
    "                      select a.permno, a.date, \n",
    "                      b.shrcd, b.exchcd,\n",
    "                      a.ret, a.shrout, a.prc, a.hsiccd \n",
    "                      from crsp.msf as a\n",
    "                      left join crsp.msenames as b\n",
    "                      on a.permno=b.permno\n",
    "                      and b.namedt<=a.date\n",
    "                      and a.date<=b.nameendt\n",
    "                      where a.date between '01/01/1990' and '12/31/2021'\n",
    "                      and b.exchcd between 1 and 2\n",
    "                      and b.shrcd between 10 and 11\n",
    "                      \"\"\", date_cols=['date']) \n",
    "msf=crsp_m.drop(['shrcd','exchcd'],axis=1)\n",
    "del(crsp_m) \n"
   ]
  },
  {
   "cell_type": "code",
   "execution_count": 146,
   "id": "db6fbf41",
   "metadata": {},
   "outputs": [],
   "source": [
    "\n",
    "#variables\n",
    "msf['permno'] = msf['permno'].astype(int)\n",
    "msf['size'] = msf['shrout'] * msf['prc'].abs()\n",
    "msf['const'] = 1\n",
    "msf.sort_values(['permno','date'])\n",
    "\n",
    "msf['size_lag']= msf.groupby('permno')['size'].shift(1).to_frame()\n",
    "\n",
    "obs=msf[['const','permno']].groupby(['permno']).sum().reset_index().rename(columns={'const': 'obs'})\n",
    "msf = pd.merge(msf, obs, how='left', left_on=['permno'],right_on=['permno'])\n",
    "\n",
    "\n",
    "\n",
    "#################################\n",
    "# Compute excess returns\n",
    "#################################\n",
    "data_index = pd.merge(data_index, Rf, how='left', left_on=['date'],right_on='date')\n",
    "data_index['mprem']=(data_index['vwretd']-data_index['rf'])\n",
    "data = pd.merge(msf, data_index, how='left', left_on=['date'],right_on='date')\n",
    "data['exret']=data['ret']-data['rf']"
   ]
  },
  {
   "cell_type": "code",
   "execution_count": 147,
   "id": "25cbed2b",
   "metadata": {
    "scrolled": true
   },
   "outputs": [
    {
     "name": "stdout",
     "output_type": "stream",
     "text": [
      "duplicates in data on returns?\n",
      "0 \n",
      "\n",
      " How many obervations do we have in a month?\n",
      "max: 2462\n",
      "min: 1370\n",
      "\n",
      " How often do we observe a given stock?\n",
      "max: 384\n",
      "min: 1\n",
      "\n",
      " Let us limit our attention to stocks we observe often enough...\n"
     ]
    }
   ],
   "source": [
    "print('duplicates in data on returns?')\n",
    "print(data.duplicated(subset=['date','permno']).sum(),'\\n')\n",
    "\n",
    "print(' How many obervations do we have in a month?')\n",
    "print('max:', max(data[['date','const']].groupby('date').sum()['const'].values))\n",
    "print('min:', min(data[['date','const']].groupby('date').sum()['const'].values))\n",
    "\n",
    "print('\\n How often do we observe a given stock?')\n",
    "print('max:', max(data['obs'].values))\n",
    "print('min:', min(data['obs'].values))\n",
    "\n",
    "print('\\n Let us limit our attention to stocks we observe often enough...')\n"
   ]
  },
  {
   "cell_type": "code",
   "execution_count": 148,
   "id": "03e85c9d",
   "metadata": {},
   "outputs": [],
   "source": [
    "#Keep interesting data\n",
    "data=data[data.obs==384]"
   ]
  },
  {
   "cell_type": "code",
   "execution_count": 149,
   "id": "1f1e3689",
   "metadata": {},
   "outputs": [],
   "source": [
    "#Get 1995 year\n",
    "data_filter = data[(data['date'] > '1995-01-01') & (data['date'] < '1995-12-30')]"
   ]
  },
  {
   "cell_type": "code",
   "execution_count": 150,
   "id": "ac128cab",
   "metadata": {},
   "outputs": [],
   "source": [
    "#Sort unique stocks\n",
    "data_unique = data_filter.drop_duplicates(subset=['permno'])"
   ]
  },
  {
   "cell_type": "code",
   "execution_count": 151,
   "id": "232c6caf",
   "metadata": {
    "scrolled": false
   },
   "outputs": [
    {
     "name": "stderr",
     "output_type": "stream",
     "text": [
      "C:\\Users\\hugol\\AppData\\Local\\Temp\\ipykernel_17984\\4005763058.py:1: SettingWithCopyWarning: \n",
      "A value is trying to be set on a copy of a slice from a DataFrame.\n",
      "Try using .loc[row_indexer,col_indexer] = value instead\n",
      "\n",
      "See the caveats in the documentation: https://pandas.pydata.org/pandas-docs/stable/user_guide/indexing.html#returning-a-view-versus-a-copy\n",
      "  data_unique[\"market-capitalization\"] = data_unique[\"shrout\"] * data_unique[\"prc\"]\n"
     ]
    }
   ],
   "source": [
    "data_unique[\"market-capitalization\"] = data_unique[\"shrout\"] * data_unique[\"prc\"]"
   ]
  },
  {
   "cell_type": "code",
   "execution_count": 152,
   "id": "ebeb9a63",
   "metadata": {},
   "outputs": [],
   "source": [
    "#get largest stocks\n",
    "data_unique = data_unique.nlargest(100,\"market-capitalization\")"
   ]
  },
  {
   "cell_type": "code",
   "execution_count": 133,
   "id": "a792e793",
   "metadata": {
    "scrolled": true
   },
   "outputs": [],
   "source": [
    "#filter data to keep only largest stocks\n",
    "data = data[data[\"permno\"].isin(data_unique[\"permno\"].values)]"
   ]
  },
  {
   "cell_type": "code",
   "execution_count": 155,
   "id": "2f7fec36",
   "metadata": {
    "scrolled": true
   },
   "outputs": [],
   "source": [
    "#assign industry\n",
    "data[\"industry\"] = data[\"hsiccd\"].map(lambda x: get_industry(x))"
   ]
  },
  {
   "cell_type": "code",
   "execution_count": 331,
   "id": "658e40af",
   "metadata": {},
   "outputs": [],
   "source": [
    "industry_portofolios = pd.read_csv(\"12_Industry_Portfolios.CSV\")"
   ]
  },
  {
   "cell_type": "code",
   "execution_count": 332,
   "id": "86f9af51",
   "metadata": {},
   "outputs": [],
   "source": [
    "industry_portofolios[\"Date\"] = industry_portofolios[\"Date\"].map(lambda x: str(x)[0:4] + \"-\" + str(x)[4:])"
   ]
  },
  {
   "cell_type": "code",
   "execution_count": 334,
   "id": "7fe835bd",
   "metadata": {},
   "outputs": [],
   "source": [
    "industry_portofolios = industry_portofolios[(industry_portofolios['Date'] > '1990-01')]"
   ]
  },
  {
   "cell_type": "code",
   "execution_count": 335,
   "id": "4b048d5a",
   "metadata": {},
   "outputs": [
    {
     "data": {
      "text/html": [
       "<div>\n",
       "<style scoped>\n",
       "    .dataframe tbody tr th:only-of-type {\n",
       "        vertical-align: middle;\n",
       "    }\n",
       "\n",
       "    .dataframe tbody tr th {\n",
       "        vertical-align: top;\n",
       "    }\n",
       "\n",
       "    .dataframe thead th {\n",
       "        text-align: right;\n",
       "    }\n",
       "</style>\n",
       "<table border=\"1\" class=\"dataframe\">\n",
       "  <thead>\n",
       "    <tr style=\"text-align: right;\">\n",
       "      <th></th>\n",
       "      <th>Date</th>\n",
       "      <th>NoDur</th>\n",
       "      <th>Durbl</th>\n",
       "      <th>Manuf</th>\n",
       "      <th>Enrgy</th>\n",
       "      <th>Chems</th>\n",
       "      <th>BusEq</th>\n",
       "      <th>Telcm</th>\n",
       "      <th>Utils</th>\n",
       "      <th>Shops</th>\n",
       "      <th>Hlth</th>\n",
       "      <th>Money</th>\n",
       "      <th>Other</th>\n",
       "    </tr>\n",
       "  </thead>\n",
       "  <tbody>\n",
       "    <tr>\n",
       "      <th>763</th>\n",
       "      <td>1990-02</td>\n",
       "      <td>-0.39</td>\n",
       "      <td>5.13</td>\n",
       "      <td>2.71</td>\n",
       "      <td>3.10</td>\n",
       "      <td>2.18</td>\n",
       "      <td>4.02</td>\n",
       "      <td>-0.35</td>\n",
       "      <td>0.21</td>\n",
       "      <td>1.99</td>\n",
       "      <td>-2.06</td>\n",
       "      <td>2.32</td>\n",
       "      <td>2.95</td>\n",
       "    </tr>\n",
       "    <tr>\n",
       "      <th>764</th>\n",
       "      <td>1990-03</td>\n",
       "      <td>4.54</td>\n",
       "      <td>2.90</td>\n",
       "      <td>4.60</td>\n",
       "      <td>-0.57</td>\n",
       "      <td>2.22</td>\n",
       "      <td>4.47</td>\n",
       "      <td>4.18</td>\n",
       "      <td>-0.75</td>\n",
       "      <td>5.11</td>\n",
       "      <td>3.85</td>\n",
       "      <td>-1.56</td>\n",
       "      <td>1.92</td>\n",
       "    </tr>\n",
       "    <tr>\n",
       "      <th>765</th>\n",
       "      <td>1990-04</td>\n",
       "      <td>-0.27</td>\n",
       "      <td>-4.04</td>\n",
       "      <td>-2.96</td>\n",
       "      <td>-3.54</td>\n",
       "      <td>-2.16</td>\n",
       "      <td>-2.02</td>\n",
       "      <td>-3.46</td>\n",
       "      <td>-5.51</td>\n",
       "      <td>-2.10</td>\n",
       "      <td>0.29</td>\n",
       "      <td>-4.23</td>\n",
       "      <td>-2.21</td>\n",
       "    </tr>\n",
       "    <tr>\n",
       "      <th>766</th>\n",
       "      <td>1990-05</td>\n",
       "      <td>9.04</td>\n",
       "      <td>7.76</td>\n",
       "      <td>7.75</td>\n",
       "      <td>6.03</td>\n",
       "      <td>8.93</td>\n",
       "      <td>12.56</td>\n",
       "      <td>9.38</td>\n",
       "      <td>5.43</td>\n",
       "      <td>11.65</td>\n",
       "      <td>12.77</td>\n",
       "      <td>9.26</td>\n",
       "      <td>8.88</td>\n",
       "    </tr>\n",
       "    <tr>\n",
       "      <th>767</th>\n",
       "      <td>1990-06</td>\n",
       "      <td>2.03</td>\n",
       "      <td>-2.25</td>\n",
       "      <td>-0.61</td>\n",
       "      <td>-2.04</td>\n",
       "      <td>-0.54</td>\n",
       "      <td>-1.24</td>\n",
       "      <td>-4.71</td>\n",
       "      <td>0.75</td>\n",
       "      <td>1.49</td>\n",
       "      <td>4.43</td>\n",
       "      <td>-1.85</td>\n",
       "      <td>-1.24</td>\n",
       "    </tr>\n",
       "    <tr>\n",
       "      <th>...</th>\n",
       "      <td>...</td>\n",
       "      <td>...</td>\n",
       "      <td>...</td>\n",
       "      <td>...</td>\n",
       "      <td>...</td>\n",
       "      <td>...</td>\n",
       "      <td>...</td>\n",
       "      <td>...</td>\n",
       "      <td>...</td>\n",
       "      <td>...</td>\n",
       "      <td>...</td>\n",
       "      <td>...</td>\n",
       "      <td>...</td>\n",
       "    </tr>\n",
       "    <tr>\n",
       "      <th>1144</th>\n",
       "      <td>2021-11</td>\n",
       "      <td>-3.77</td>\n",
       "      <td>1.70</td>\n",
       "      <td>-1.09</td>\n",
       "      <td>-5.46</td>\n",
       "      <td>0.43</td>\n",
       "      <td>0.99</td>\n",
       "      <td>-7.24</td>\n",
       "      <td>-1.96</td>\n",
       "      <td>1.50</td>\n",
       "      <td>-4.18</td>\n",
       "      <td>-5.67</td>\n",
       "      <td>-3.97</td>\n",
       "    </tr>\n",
       "    <tr>\n",
       "      <th>1145</th>\n",
       "      <td>2021-12</td>\n",
       "      <td>8.05</td>\n",
       "      <td>-4.44</td>\n",
       "      <td>4.15</td>\n",
       "      <td>3.09</td>\n",
       "      <td>9.60</td>\n",
       "      <td>1.78</td>\n",
       "      <td>3.86</td>\n",
       "      <td>8.57</td>\n",
       "      <td>1.34</td>\n",
       "      <td>6.74</td>\n",
       "      <td>4.85</td>\n",
       "      <td>5.30</td>\n",
       "    </tr>\n",
       "    <tr>\n",
       "      <th>1146</th>\n",
       "      <td>2022-01</td>\n",
       "      <td>-0.67</td>\n",
       "      <td>-10.15</td>\n",
       "      <td>-5.57</td>\n",
       "      <td>17.35</td>\n",
       "      <td>-6.25</td>\n",
       "      <td>-8.27</td>\n",
       "      <td>-1.99</td>\n",
       "      <td>-2.10</td>\n",
       "      <td>-8.95</td>\n",
       "      <td>-8.60</td>\n",
       "      <td>-0.62</td>\n",
       "      <td>-6.21</td>\n",
       "    </tr>\n",
       "    <tr>\n",
       "      <th>1147</th>\n",
       "      <td>2022-02</td>\n",
       "      <td>-0.53</td>\n",
       "      <td>-7.21</td>\n",
       "      <td>-0.16</td>\n",
       "      <td>8.08</td>\n",
       "      <td>-3.47</td>\n",
       "      <td>-5.14</td>\n",
       "      <td>0.26</td>\n",
       "      <td>-1.11</td>\n",
       "      <td>-1.55</td>\n",
       "      <td>-1.05</td>\n",
       "      <td>-1.66</td>\n",
       "      <td>0.22</td>\n",
       "    </tr>\n",
       "    <tr>\n",
       "      <th>1148</th>\n",
       "      <td>2022-03</td>\n",
       "      <td>0.41</td>\n",
       "      <td>14.76</td>\n",
       "      <td>1.27</td>\n",
       "      <td>9.98</td>\n",
       "      <td>0.01</td>\n",
       "      <td>3.30</td>\n",
       "      <td>-2.46</td>\n",
       "      <td>9.68</td>\n",
       "      <td>3.03</td>\n",
       "      <td>5.15</td>\n",
       "      <td>-0.95</td>\n",
       "      <td>5.05</td>\n",
       "    </tr>\n",
       "  </tbody>\n",
       "</table>\n",
       "<p>386 rows × 13 columns</p>\n",
       "</div>"
      ],
      "text/plain": [
       "         Date  NoDur  Durbl  Manuf  Enrgy  Chems  BusEq  Telcm  Utils  Shops  \\\n",
       "763   1990-02  -0.39   5.13   2.71   3.10   2.18   4.02  -0.35   0.21   1.99   \n",
       "764   1990-03   4.54   2.90   4.60  -0.57   2.22   4.47   4.18  -0.75   5.11   \n",
       "765   1990-04  -0.27  -4.04  -2.96  -3.54  -2.16  -2.02  -3.46  -5.51  -2.10   \n",
       "766   1990-05   9.04   7.76   7.75   6.03   8.93  12.56   9.38   5.43  11.65   \n",
       "767   1990-06   2.03  -2.25  -0.61  -2.04  -0.54  -1.24  -4.71   0.75   1.49   \n",
       "...       ...    ...    ...    ...    ...    ...    ...    ...    ...    ...   \n",
       "1144  2021-11  -3.77   1.70  -1.09  -5.46   0.43   0.99  -7.24  -1.96   1.50   \n",
       "1145  2021-12   8.05  -4.44   4.15   3.09   9.60   1.78   3.86   8.57   1.34   \n",
       "1146  2022-01  -0.67 -10.15  -5.57  17.35  -6.25  -8.27  -1.99  -2.10  -8.95   \n",
       "1147  2022-02  -0.53  -7.21  -0.16   8.08  -3.47  -5.14   0.26  -1.11  -1.55   \n",
       "1148  2022-03   0.41  14.76   1.27   9.98   0.01   3.30  -2.46   9.68   3.03   \n",
       "\n",
       "      Hlth   Money  Other  \n",
       "763   -2.06   2.32   2.95  \n",
       "764    3.85  -1.56   1.92  \n",
       "765    0.29  -4.23  -2.21  \n",
       "766   12.77   9.26   8.88  \n",
       "767    4.43  -1.85  -1.24  \n",
       "...     ...    ...    ...  \n",
       "1144  -4.18  -5.67  -3.97  \n",
       "1145   6.74   4.85   5.30  \n",
       "1146  -8.60  -0.62  -6.21  \n",
       "1147  -1.05  -1.66   0.22  \n",
       "1148   5.15  -0.95   5.05  \n",
       "\n",
       "[386 rows x 13 columns]"
      ]
     },
     "execution_count": 335,
     "metadata": {},
     "output_type": "execute_result"
    }
   ],
   "source": [
    "industry_portofolios"
   ]
  },
  {
   "cell_type": "code",
   "execution_count": null,
   "id": "b052354d",
   "metadata": {},
   "outputs": [],
   "source": []
  },
  {
   "cell_type": "markdown",
   "id": "e7f61345",
   "metadata": {},
   "source": [
    "# A"
   ]
  },
  {
   "cell_type": "code",
   "execution_count": 191,
   "id": "0567193c",
   "metadata": {
    "scrolled": true
   },
   "outputs": [],
   "source": [
    "data[\"Momentum\"] = np.zeros(126720)"
   ]
  },
  {
   "cell_type": "code",
   "execution_count": null,
   "id": "71c3e665",
   "metadata": {},
   "outputs": [],
   "source": [
    "for stock in data[\"permno\"].unique():\n",
    "    data[\"Momentum\"][data[\"permno\"] == stock] = data[data[\"permno\"] == stock][\"vwretd\"].rolling(11,11).sum()"
   ]
  },
  {
   "cell_type": "code",
   "execution_count": 232,
   "id": "39fb5c5a",
   "metadata": {},
   "outputs": [],
   "source": [
    "#keep only dates after 1 year\n",
    "dates = data[\"date\"].unique()[12:]"
   ]
  },
  {
   "cell_type": "code",
   "execution_count": 314,
   "id": "628c4624",
   "metadata": {},
   "outputs": [],
   "source": [
    "momentum = pd.DataFrame({\"date\":dates,\"Momentum_large\":0,\"Momentum_small\":0})"
   ]
  },
  {
   "cell_type": "code",
   "execution_count": null,
   "id": "28eff658",
   "metadata": {},
   "outputs": [],
   "source": [
    "for date in momentum.date:\n",
    "    largest = data[data[\"date\"] == date].nlargest(10,\"Momentum\")\n",
    "    smallest = data[data[\"date\"] == date].nsmallest(10,\"Momentum\")\n",
    "\n",
    "    #momentum = momentum.append({\"date\":date,\"Momentum_large\":largest[\"Momentum\"],\"permnos_large\":largest[\"permno\"].values},ignore_index=True)\n",
    "    #momentum = momentum.append({\"date\":date,\"Momentum_small\":smallest[\"Momentum\"].values,\"permnos_small\":smallest[\"permno\"].values},ignore_index=True)\n",
    "    \n",
    "    momentum[\"Momentum_large\"][momentum[\"date\"] == date] = np.mean(largest[\"Momentum\"])\n",
    "    momentum[\"Momentum_small\"][momentum[\"date\"] == date] = np.mean(smallest[\"Momentum\"])\n",
    "    \n",
    "    momentum[\"Market_cap_large\"][momentum[\"date\"] == date] = np.mean(largest[\"prc\"]*largest[\"shrout\"])\n",
    "    momentum[\"Market_cap_small\"][momentum[\"date\"] == date] = np.mean(smallest[\"prc\"]*smallest[\"shrout\"])\n",
    "    \n",
    "    momentum[\"Market_cap_small\"][momentum[\"date\"] == date] = np.mean(data[data[\"date\"] == date][\"prc\"]*data[data[\"date\"] == date][\"shrout\"])"
   ]
  },
  {
   "cell_type": "code",
   "execution_count": 324,
   "id": "8345ee3f",
   "metadata": {
    "scrolled": true
   },
   "outputs": [
    {
     "name": "stdout",
     "output_type": "stream",
     "text": [
      "The cumulative return is 0.0165949902887366\n"
     ]
    }
   ],
   "source": [
    "returns = momentum[\"Momentum_large\"] - momentum[\"Momentum_small\"]\n",
    "mean = np.mean(momentum[\"Momentum_large\"] - momentum[\"Momentum_small\"])\n",
    "std = np.std(momentum[\"Momentum_large\"] - momentum[\"Momentum_small\"])\n",
    "SR = np.mean((momentum[\"Momentum_large\"] - momentum[\"Momentum_small\"] - np.mean(data[\"rf\"]))/std)\n",
    "\n",
    "print(f\"The cumulative return is {mean}\")"
   ]
  },
  {
   "cell_type": "code",
   "execution_count": 338,
   "id": "f377c42d",
   "metadata": {},
   "outputs": [
    {
     "data": {
      "text/html": [
       "<div>\n",
       "<style scoped>\n",
       "    .dataframe tbody tr th:only-of-type {\n",
       "        vertical-align: middle;\n",
       "    }\n",
       "\n",
       "    .dataframe tbody tr th {\n",
       "        vertical-align: top;\n",
       "    }\n",
       "\n",
       "    .dataframe thead th {\n",
       "        text-align: right;\n",
       "    }\n",
       "</style>\n",
       "<table border=\"1\" class=\"dataframe\">\n",
       "  <thead>\n",
       "    <tr style=\"text-align: right;\">\n",
       "      <th></th>\n",
       "      <th>date</th>\n",
       "      <th>Momentum_large</th>\n",
       "      <th>Momentum_small</th>\n",
       "    </tr>\n",
       "  </thead>\n",
       "  <tbody>\n",
       "    <tr>\n",
       "      <th>0</th>\n",
       "      <td>1991-01-31</td>\n",
       "      <td>0.060411</td>\n",
       "      <td>0.053755</td>\n",
       "    </tr>\n",
       "    <tr>\n",
       "      <th>1</th>\n",
       "      <td>1991-02-28</td>\n",
       "      <td>0.120135</td>\n",
       "      <td>0.105632</td>\n",
       "    </tr>\n",
       "    <tr>\n",
       "      <th>2</th>\n",
       "      <td>1991-03-28</td>\n",
       "      <td>0.173018</td>\n",
       "      <td>0.160428</td>\n",
       "    </tr>\n",
       "    <tr>\n",
       "      <th>3</th>\n",
       "      <td>1991-04-30</td>\n",
       "      <td>0.098423</td>\n",
       "      <td>0.080586</td>\n",
       "    </tr>\n",
       "    <tr>\n",
       "      <th>4</th>\n",
       "      <td>1991-05-31</td>\n",
       "      <td>0.140389</td>\n",
       "      <td>0.123878</td>\n",
       "    </tr>\n",
       "    <tr>\n",
       "      <th>...</th>\n",
       "      <td>...</td>\n",
       "      <td>...</td>\n",
       "      <td>...</td>\n",
       "    </tr>\n",
       "    <tr>\n",
       "      <th>367</th>\n",
       "      <td>2021-08-31</td>\n",
       "      <td>0.329318</td>\n",
       "      <td>0.306044</td>\n",
       "    </tr>\n",
       "    <tr>\n",
       "      <th>368</th>\n",
       "      <td>2021-09-30</td>\n",
       "      <td>0.303328</td>\n",
       "      <td>0.262310</td>\n",
       "    </tr>\n",
       "    <tr>\n",
       "      <th>369</th>\n",
       "      <td>2021-10-29</td>\n",
       "      <td>0.250748</td>\n",
       "      <td>0.235811</td>\n",
       "    </tr>\n",
       "    <tr>\n",
       "      <th>370</th>\n",
       "      <td>2021-11-30</td>\n",
       "      <td>0.189166</td>\n",
       "      <td>0.176984</td>\n",
       "    </tr>\n",
       "    <tr>\n",
       "      <th>371</th>\n",
       "      <td>2021-12-31</td>\n",
       "      <td>0.214859</td>\n",
       "      <td>0.206735</td>\n",
       "    </tr>\n",
       "  </tbody>\n",
       "</table>\n",
       "<p>372 rows × 3 columns</p>\n",
       "</div>"
      ],
      "text/plain": [
       "          date  Momentum_large  Momentum_small\n",
       "0   1991-01-31        0.060411        0.053755\n",
       "1   1991-02-28        0.120135        0.105632\n",
       "2   1991-03-28        0.173018        0.160428\n",
       "3   1991-04-30        0.098423        0.080586\n",
       "4   1991-05-31        0.140389        0.123878\n",
       "..         ...             ...             ...\n",
       "367 2021-08-31        0.329318        0.306044\n",
       "368 2021-09-30        0.303328        0.262310\n",
       "369 2021-10-29        0.250748        0.235811\n",
       "370 2021-11-30        0.189166        0.176984\n",
       "371 2021-12-31        0.214859        0.206735\n",
       "\n",
       "[372 rows x 3 columns]"
      ]
     },
     "execution_count": 338,
     "metadata": {},
     "output_type": "execute_result"
    }
   ],
   "source": [
    "momentum"
   ]
  },
  {
   "cell_type": "markdown",
   "id": "0fb93c42",
   "metadata": {},
   "source": [
    "# B"
   ]
  },
  {
   "cell_type": "code",
   "execution_count": 347,
   "id": "b1ca2736",
   "metadata": {},
   "outputs": [],
   "source": [
    "data_regression = data[(data['date'] > '1991-01-01')]"
   ]
  },
  {
   "cell_type": "code",
   "execution_count": 355,
   "id": "b4685d8c",
   "metadata": {},
   "outputs": [],
   "source": [
    "from sklearn.linear_model import LinearRegression\n",
    "mprem = data_regression.groupby(\"date\").sum()[\"mprem\"]\n",
    "lm = LinearRegression().fit(returns.to_numpy().reshape(-1, 1),mprem.to_numpy().reshape(-1, 1))\n"
   ]
  },
  {
   "cell_type": "code",
   "execution_count": 350,
   "id": "87db238d",
   "metadata": {},
   "outputs": [
    {
     "data": {
      "text/plain": [
       "(372,)"
      ]
     },
     "execution_count": 350,
     "metadata": {},
     "output_type": "execute_result"
    }
   ],
   "source": []
  },
  {
   "cell_type": "code",
   "execution_count": null,
   "id": "dd3c4be8",
   "metadata": {},
   "outputs": [],
   "source": []
  },
  {
   "cell_type": "code",
   "execution_count": null,
   "id": "8fd22e48",
   "metadata": {},
   "outputs": [],
   "source": []
  },
  {
   "cell_type": "code",
   "execution_count": null,
   "id": "155b1bda",
   "metadata": {},
   "outputs": [],
   "source": []
  },
  {
   "cell_type": "markdown",
   "id": "d9295823",
   "metadata": {},
   "source": [
    "### Helpers"
   ]
  },
  {
   "cell_type": "code",
   "execution_count": 54,
   "id": "c8ec72da",
   "metadata": {},
   "outputs": [],
   "source": [
    "def get_industry(number):\n",
    "\n",
    "    if(((number>=100) and (number<=999)) or (number>=2000 and number<=2399) or  (number>=2700 and number<=2749) or  (number>=2770 and number<=2799) or  (number>=3100 and number<=3199)  or  (number>=3940 and number<=3989)):\n",
    "        return  \"Consumer Nondurables\"\n",
    "\n",
    "    if((number>=2500 and number<=2519) or (number>=2590 and number<=2599) or (number>=3630 and number<=3659) or (number>=3710 and number<=3711) or (number>=3714 and number<=3714) or (number>=3716 and number<=3716) or (number>=3750 and number<=3751) or (number>=3792 and number<=3792) or (number>=3900 and number<=3939) or  (number>=3900 and number<=3939)):\n",
    "        return \"Consumer Durables\"\n",
    "    \n",
    "    if((number>=2520 and number<=2589) or  (number>=2600 and number<=2699) or  (number>=2750 and number<=2769) or  (number>=3000 and number<=3099) or (number>=3200 and number<=3569) or (number>=3580 and number<=3629) or (number>=3700 and number<=3709) or(number>=3712 and number<=3713) or(number>=3715 and number<=3715) or(number>=3717 and number<=3749) or(number>=3752 and number<=3791) or(number>=3793 and number<=3799) or(number>=3830 and number<=3839) or(number>=3860 and number<=3899)):\n",
    "        return \"Manufacturing\"\n",
    "    \n",
    "    if((number>=1200 and number<=1399) or  (number>=2900 and number<=2999)):\n",
    "        return \"Oil, Gas, and Coal Extraction and Products\"\n",
    "    \n",
    "    if((number>=2800 and number<=2829) or  (number>=2840 and number<=2899)):\n",
    "        return \"Chemicals and Allied Products\"\n",
    "    \n",
    "    if((number>=3570 and number<=3579) or  (number>=3660 and number<=3692) or (number>=3694 and number<=3699) or  (number>=3810 and number<=3829) or  (number>=7370 and number<=7379)):\n",
    "        return \"Business Equipment -- Computers, Software, and Electronic Equipment\"\n",
    "    \n",
    "    if((number>=4800 and number<=4899)):\n",
    "        return \"Telephone and Television Transmission\"\n",
    "    \n",
    "    if((number>=4900 and number<=4949)):\n",
    "        return \"Utilities\"\n",
    "    \n",
    "    if((number>=5000 and number<=5999) or  (number>=7200 and number<=7299) or (number>=7600 and number<=7699)):\n",
    "        return \"Wholesale, Retail, and Some Services (Laundries, Repair Shops)\"\n",
    "    \n",
    "    if((number>=2830 and number<=2839) or  (number>=3693 and number<=3693) or (number>=3840 and number<=3859)  or (number>=8000 and number<=8099)):\n",
    "        return \"Healthcare, Medical Equipment, and Drugs\"\n",
    "    \n",
    "    if((number>=6000 and number<=6999)):\n",
    "        return \"Finance\"\n",
    "    \n",
    "    else:\n",
    "        return \"Other -- Mines, Constr, BldMt, Trans, Hotels, Bus Serv, Entertainment\""
   ]
  },
  {
   "cell_type": "code",
   "execution_count": null,
   "id": "8c277d76",
   "metadata": {},
   "outputs": [],
   "source": [
    " 1 NoDur  Consumer Nondurables -- Food, Tobacco, Textiles, Apparel, Leather, Toys\n",
    "          0100-0999\n",
    "          2000-2399\n",
    "          2700-2749\n",
    "          2770-2799\n",
    "          3100-3199\n",
    "          3940-3989\n",
    "\n",
    " 2 Durbl  Consumer Durables -- Cars, TVs, Furniture, Household Appliances\n",
    "          2500-2519\n",
    "          2590-2599\n",
    "          3630-3659\n",
    "          3710-3711\n",
    "          3714-3714\n",
    "          3716-3716\n",
    "          3750-3751\n",
    "          3792-3792\n",
    "          3900-3939\n",
    "          3990-3999\n",
    "\n",
    " 3 Manuf  Manufacturing -- Machinery, Trucks, Planes, Off Furn, Paper, Com Printing\n",
    "          2520-2589\n",
    "          2600-2699\n",
    "          2750-2769\n",
    "          3000-3099\n",
    "          3200-3569\n",
    "          3580-3629\n",
    "          3700-3709\n",
    "          3712-3713\n",
    "          3715-3715\n",
    "          3717-3749\n",
    "          3752-3791\n",
    "          3793-3799\n",
    "          3830-3839\n",
    "          3860-3899\n",
    "\n",
    " 4 Enrgy  Oil, Gas, and Coal Extraction and Products\n",
    "          1200-1399\n",
    "          2900-2999\n",
    "\n",
    " 5 Chems  Chemicals and Allied Products\n",
    "          2800-2829\n",
    "          2840-2899\n",
    "\n",
    " 6 BusEq  Business Equipment -- Computers, Software, and Electronic Equipment\n",
    "          3570-3579\n",
    "          3660-3692\n",
    "          3694-3699\n",
    "          3810-3829\n",
    "          7370-7379\n",
    "\n",
    " 7 Telcm  Telephone and Television Transmission\n",
    "          4800-4899\n",
    "\n",
    " 8 Utils  Utilities\n",
    "          4900-4949\n",
    "\n",
    " 9 Shops  Wholesale, Retail, and Some Services (Laundries, Repair Shops)\n",
    "          5000-5999\n",
    "          7200-7299\n",
    "          7600-7699\n",
    "\n",
    "10 Hlth   Healthcare, Medical Equipment, and Drugs\n",
    "          2830-2839\n",
    "          3693-3693\n",
    "          3840-3859\n",
    "          8000-8099\n",
    "\n",
    "11 Money  Finance\n",
    "          6000-6999\n",
    "\n",
    "12 Other  Other -- Mines, Constr, BldMt, Trans, Hotels, Bus Serv, Entertainment"
   ]
  }
 ],
 "metadata": {
  "kernelspec": {
   "display_name": "Python 3 (ipykernel)",
   "language": "python",
   "name": "python3"
  },
  "language_info": {
   "codemirror_mode": {
    "name": "ipython",
    "version": 3
   },
   "file_extension": ".py",
   "mimetype": "text/x-python",
   "name": "python",
   "nbconvert_exporter": "python",
   "pygments_lexer": "ipython3",
   "version": "3.8.12"
  }
 },
 "nbformat": 4,
 "nbformat_minor": 5
}
