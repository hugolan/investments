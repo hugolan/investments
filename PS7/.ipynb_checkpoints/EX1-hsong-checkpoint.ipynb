{
 "cells": [
  {
   "cell_type": "code",
   "execution_count": 4,
   "id": "a33c411d",
   "metadata": {},
   "outputs": [
    {
     "name": "stdout",
     "output_type": "stream",
     "text": [
      "Loading library list...\n",
      "Done\n"
     ]
    },
    {
     "name": "stderr",
     "output_type": "stream",
     "text": [
      "C:\\Users\\hugol\\AppData\\Local\\Temp\\ipykernel_18012\\1810232447.py:65: SettingWithCopyWarning: \n",
      "A value is trying to be set on a copy of a slice from a DataFrame.\n",
      "Try using .loc[row_indexer,col_indexer] = value instead\n",
      "\n",
      "See the caveats in the documentation: https://pandas.pydata.org/pandas-docs/stable/user_guide/indexing.html#returning-a-view-versus-a-copy\n",
      "  data_unique[\"market-capitalization\"] = data_unique[\"shrout\"] * data_unique[\"prc\"]\n"
     ]
    }
   ],
   "source": [
    "import wrds\n",
    "db=wrds.Connection(wrds_username='hlanfran')\n",
    "import numpy as np\n",
    "import pandas as pd\n",
    "Rf=db.raw_sql(\"select  mcaldt,tmytm \"\n",
    "           \"from crsp.tfz_mth_rf \"           \n",
    "            \"where kytreasnox = 2000001 \"\n",
    "           \"and mcaldt>='1990-01-01'\"\n",
    "            \"and mcaldt<='2021-12-31'\", date_cols=['mcaldt'])\n",
    "\n",
    "#transform annualized and continuously compounded returns into simple and monthly returns:\n",
    "Rf['tmytm']=np.exp(Rf['tmytm']/12/100)-1\n",
    "Rf=Rf.rename(columns={ \"mcaldt\": \"date\",\"tmytm\": \"rf\"})\n",
    "\n",
    "#use own index instead\n",
    "# get index returns\n",
    "data_index=db.raw_sql(\"select  date,vwretd \"\n",
    "           \"from crsp.msi \"\n",
    "           \"where date>='1900-01-01'\"\n",
    "            \"and date<='2021-12-31'\", date_cols=['date'])\n",
    "\n",
    "\n",
    "# get stock returns\n",
    "crsp_m = db.raw_sql(\"\"\"\n",
    "                      select a.permno, a.date, \n",
    "                      b.shrcd, b.exchcd,\n",
    "                      a.ret, a.shrout, a.prc, a.hsiccd \n",
    "                      from crsp.msf as a\n",
    "                      left join crsp.msenames as b\n",
    "                      on a.permno=b.permno\n",
    "                      and b.namedt<=a.date\n",
    "                      and a.date<=b.nameendt\n",
    "                      where a.date between '01/01/1990' and '12/31/2021'\n",
    "                      and b.exchcd between 1 and 2\n",
    "                      and b.shrcd between 10 and 11\n",
    "                      \"\"\", date_cols=['date']) \n",
    "msf=crsp_m.drop(['shrcd','exchcd'],axis=1)\n",
    "del(crsp_m) \n",
    "\n",
    "#variables\n",
    "msf['permno'] = msf['permno'].astype(int)\n",
    "msf['size'] = msf['shrout'] * msf['prc'].abs()\n",
    "msf['const'] = 1\n",
    "msf.sort_values(['permno','date'])\n",
    "\n",
    "msf['size_lag']= msf.groupby('permno')['size'].shift(1).to_frame()\n",
    "\n",
    "obs=msf[['const','permno']].groupby(['permno']).sum().reset_index().rename(columns={'const': 'obs'})\n",
    "msf = pd.merge(msf, obs, how='left', left_on=['permno'],right_on=['permno'])\n",
    "\n",
    "\n",
    "\n",
    "#################################\n",
    "# Compute excess returns\n",
    "#################################\n",
    "data_index = pd.merge(data_index, Rf, how='left', left_on=['date'],right_on='date')\n",
    "data_index['mprem']=(data_index['vwretd']-data_index['rf'])\n",
    "data = pd.merge(msf, data_index, how='left', left_on=['date'],right_on='date')\n",
    "data['exret']=data['ret']-data['rf']\n",
    "\n",
    "data=data[data.obs==384]\n",
    "#Get 1995 year\n",
    "data_filter = data[(data['date'] > '1995-01-01') & (data['date'] < '1995-12-30')]\n",
    "data_unique = data_filter.drop_duplicates(subset=['permno'])\n",
    "data_unique[\"market-capitalization\"] = data_unique[\"shrout\"] * data_unique[\"prc\"]\n",
    "data_unique = data_unique.nlargest(100,\"market-capitalization\")\n",
    "data = data[data[\"permno\"].isin(data_unique[\"permno\"].values)]\n",
    "data[\"industry\"] = data[\"hsiccd\"].map(lambda x: get_industry(x))\n",
    "industry_portofolios = pd.read_csv(\"12_Industry_Portfolios.CSV\")\n",
    "industry_portofolios[\"Date\"] = industry_portofolios[\"Date\"].map(lambda x: str(x)[0:4] + \"-\" + str(x)[4:])\n",
    "industry_portofolios = industry_portofolios[(industry_portofolios['Date'] >= '1990-01') & (industry_portofolios['Date'] <= '2021-12')]\n"
   ]
  },
  {
   "cell_type": "code",
   "execution_count": 13,
   "id": "fe9e41e0",
   "metadata": {},
   "outputs": [],
   "source": [
    "import warnings\n",
    "warnings.filterwarnings('ignore')"
   ]
  },
  {
   "cell_type": "code",
   "execution_count": 5,
   "id": "c5b57c38",
   "metadata": {},
   "outputs": [],
   "source": [
    "index_data = pd.read_csv('12_Industry_Portfolios.csv').rename(columns = {'Date':'date','Hlth ':'Hlth'})\n",
    "index_data = index_data[(index_data['date'] >= 199001) & (index_data['date'] <= 202112)]\n",
    "index_data = index_data.reset_index().drop(columns=['index','date'])\n",
    "index_data = index_data/100\n",
    "data_index=db.raw_sql(\"select  date,vwretd \"\n",
    "           \"from crsp.msi \"\n",
    "           \"where date>='1990-01-01'\"\n",
    "            \"and date<='2021-12-31'\", date_cols=['date'])\n",
    "index = pd.concat([data_index,index_data],axis=1) #real portfolio return data\n",
    "\n",
    "Rf=db.raw_sql(\"select  mcaldt,tmytm \"\n",
    "           \"from crsp.tfz_mth_rf \"           \n",
    "            \"where kytreasnox = 2000001 \"\n",
    "           \"and mcaldt>='1990-01-01'\"\n",
    "            \"and mcaldt<='2021-12-31'\", date_cols=['mcaldt'])\n",
    "\n",
    "#transform annualized and continuously compounded returns into simple and monthly returns:\n",
    "Rf['tmytm']=np.exp(Rf['tmytm']/12/100)-1\n",
    "Rf=Rf.rename(columns={ \"mcaldt\": \"date\",\"tmytm\": \"rf\"})\n",
    "Rf = Rf.drop(columns={'date'})\n",
    "index = pd.concat([index,Rf],axis=1)"
   ]
  },
  {
   "cell_type": "code",
   "execution_count": 6,
   "id": "1185badf",
   "metadata": {},
   "outputs": [],
   "source": [
    "def get_industry(number):\n",
    "    \n",
    "    if(((number>=100) and (number<=999)) or (number>=2000 and number<=2399) or  (number>=2700 and number<=2749) or  (number>=2770 and number<=2799) or  (number>=3100 and number<=3199)  or  (number>=3940 and number<=3989)):\n",
    "        return  \"NoDur\"\n",
    "\n",
    "    if((number>=2500 and number<=2519) or (number>=2590 and number<=2599) or (number>=3630 and number<=3659) or (number>=3710 and number<=3711) or (number>=3714 and number<=3714) or (number>=3716 and number<=3716) or (number>=3750 and number<=3751) or (number>=3792 and number<=3792) or (number>=3900 and number<=3939) or  (number>=3900 and number<=3939)):\n",
    "        return \"Durbl\"\n",
    "    \n",
    "    if((number>=2520 and number<=2589) or  (number>=2600 and number<=2699) or  (number>=2750 and number<=2769) or  (number>=3000 and number<=3099) or (number>=3200 and number<=3569) or (number>=3580 and number<=3629) or (number>=3700 and number<=3709) or(number>=3712 and number<=3713) or(number>=3715 and number<=3715) or(number>=3717 and number<=3749) or(number>=3752 and number<=3791) or(number>=3793 and number<=3799) or(number>=3830 and number<=3839) or(number>=3860 and number<=3899)):\n",
    "        return \"Manuf\"\n",
    "    \n",
    "    if((number>=1200 and number<=1399) or  (number>=2900 and number<=2999)):\n",
    "        return \"Enrgy\"\n",
    "    \n",
    "    if((number>=2800 and number<=2829) or  (number>=2840 and number<=2899)):\n",
    "        return \"Chems\"\n",
    "    \n",
    "    if((number>=3570 and number<=3579) or  (number>=3660 and number<=3692) or (number>=3694 and number<=3699) or  (number>=3810 and number<=3829) or  (number>=7370 and number<=7379)):\n",
    "        return \"BusEq\"\n",
    "    \n",
    "    if((number>=4800 and number<=4899)):\n",
    "        return \"Telcm\"\n",
    "    \n",
    "    if((number>=4900 and number<=4949)):\n",
    "        return \"Utils\"\n",
    "    \n",
    "    if((number>=5000 and number<=5999) or  (number>=7200 and number<=7299) or (number>=7600 and number<=7699)):\n",
    "        return \"Shops\"\n",
    "    \n",
    "    if((number>=2830 and number<=2839) or  (number>=3693 and number<=3693) or (number>=3840 and number<=3859)  or (number>=8000 and number<=8099)):\n",
    "        return \"Hlth\"\n",
    "    \n",
    "    if((number>=6000 and number<=6999)):\n",
    "        return \"Money\"\n",
    "    \n",
    "    else:\n",
    "        return \"Other\""
   ]
  },
  {
   "cell_type": "markdown",
   "id": "a5f91265",
   "metadata": {},
   "source": [
    "# A) Equal Weighted Momentum Strategy"
   ]
  },
  {
   "cell_type": "code",
   "execution_count": 11,
   "id": "9219a588",
   "metadata": {},
   "outputs": [],
   "source": [
    "data[\"Momentum\"] = np.zeros(38400)"
   ]
  },
  {
   "cell_type": "code",
   "execution_count": 14,
   "id": "93e71a47",
   "metadata": {},
   "outputs": [],
   "source": [
    "for stock in data[\"permno\"].unique():\n",
    "    data[\"Momentum\"][data[\"permno\"] == stock] = data[data[\"permno\"] == stock][\"ret\"].rolling(11,11).mean()\n",
    "    \n",
    "    #shift by 1 (we calculate t-11 to t so we need to shift it by 1 )\n",
    "    array = data[\"Momentum\"][data[\"permno\"] == stock].to_numpy()\n",
    "    array = np.insert(array,0,0) \n",
    "    array = array[:len(array)-1]\n",
    "    data[\"Momentum\"][data[\"permno\"] == stock] = array"
   ]
  },
  {
   "cell_type": "code",
   "execution_count": 20,
   "id": "5b9f86f0",
   "metadata": {},
   "outputs": [],
   "source": [
    "# keep only dates after 1 year\n",
    "dates = data[\"date\"].unique()[11:]"
   ]
  },
  {
   "cell_type": "code",
   "execution_count": 21,
   "id": "b5922e0b",
   "metadata": {},
   "outputs": [],
   "source": [
    "momentum = pd.DataFrame({\"date\":dates,\"Momentum_large_returns\":0,\"Momentum_small_returns\":0,\"Market_cap_large\":0,\"Market_cap_small\":0,\"Market_cap_total\":0,\"Momentum_strategy\":0})"
   ]
  },
  {
   "cell_type": "code",
   "execution_count": 54,
   "id": "7bb366ae",
   "metadata": {},
   "outputs": [],
   "source": [
    "for date in momentum.date:\n",
    "    #10 largest and smallet stocks returns in the window \n",
    "    largest = data[data[\"date\"] == date].nlargest(10,\"Momentum\")\n",
    "    smallest = data[data[\"date\"] == date].nsmallest(10,\"Momentum\")\n",
    "    \n",
    "    #append returns\n",
    "    momentum[\"Momentum_large_returns\"][momentum[\"date\"] == date] = np.mean(largest[\"ret\"])\n",
    "    momentum[\"Momentum_small_returns\"][momentum[\"date\"] == date] = np.mean(smallest[\"ret\"])"
   ]
  },
  {
   "cell_type": "code",
   "execution_count": 93,
   "id": "a8d6acc3",
   "metadata": {},
   "outputs": [],
   "source": [
    "momentum[\"Momentum_strategy\"] = momentum[\"Momentum_large_returns\"] - momentum[\"Momentum_small_returns\"] "
   ]
  },
  {
   "cell_type": "code",
   "execution_count": 94,
   "id": "b0f6dc12",
   "metadata": {},
   "outputs": [
    {
     "name": "stdout",
     "output_type": "stream",
     "text": [
      "The mean is -0.0031195888809807007, the std is 0.07682471495274013 and the sharpe ratio is -0.06732394263652108\n"
     ]
    }
   ],
   "source": [
    "returns = momentum[\"Momentum_strategy\"]\n",
    "cum_returns = (1 + momentum[\"Momentum_strategy\"]).cumprod() - 1\n",
    "mean = np.mean(momentum[\"Momentum_strategy\"])\n",
    "std = np.std(momentum[\"Momentum_strategy\"])\n",
    "SR = ((mean - np.mean(data[\"rf\"]))/std)\n",
    "print(f\"The mean is {mean}, the std is {std} and the sharpe ratio is {SR}\")"
   ]
  },
  {
   "cell_type": "code",
   "execution_count": 95,
   "id": "25030a00",
   "metadata": {},
   "outputs": [
    {
     "data": {
      "text/plain": [
       "<AxesSubplot:>"
      ]
     },
     "execution_count": 95,
     "metadata": {},
     "output_type": "execute_result"
    },
    {
     "data": {
      "image/png": "[encoded data removed]",
      "text/plain": [
       "<Figure size 432x288 with 1 Axes>"
      ]
     },
     "metadata": {
      "needs_background": "light"
     },
     "output_type": "display_data"
    }
   ],
   "source": [
    "cum_returns.plot()"
   ]
  },
  {
   "cell_type": "markdown",
   "id": "dc193480",
   "metadata": {},
   "source": [
    "# B"
   ]
  },
  {
   "cell_type": "code",
   "execution_count": 96,
   "id": "b7046f17",
   "metadata": {},
   "outputs": [],
   "source": [
    "data_regression = data[(data['date'] >= '1990-12-31')]"
   ]
  },
  {
   "cell_type": "code",
   "execution_count": 97,
   "id": "6e9be276",
   "metadata": {},
   "outputs": [
    {
     "name": "stdout",
     "output_type": "stream",
     "text": [
      "The alpha for the market premium is 0.0010582526063014604 and the beta is -0.005372342591764076\n"
     ]
    }
   ],
   "source": [
    "from sklearn.linear_model import LinearRegression\n",
    "\n",
    "#regress on market premium\n",
    "mprem = data_regression.groupby(\"date\").sum()[\"mprem\"]\n",
    "lm = LinearRegression().fit(mprem.to_numpy().reshape(-1, 1),returns.to_numpy().reshape(-1, 1))\n",
    "\n",
    "print(f\"The alpha for the market premium is {lm.intercept_.item()} and the beta is {lm.coef_.item()}\")"
   ]
  },
  {
   "cell_type": "code",
   "execution_count": 98,
   "id": "9ac52e61",
   "metadata": {},
   "outputs": [],
   "source": [
    "industry_portofolios_momentum = industry_portofolios[(industry_portofolios['Date'] >= '1990-12')]\n",
    "\n",
    "alphas = []\n",
    "betas = []\n",
    "#regress on industry\n",
    "for industry in industry_portofolios.columns[1:]:\n",
    "    l = LinearRegression().fit(industry_portofolios_momentum[industry].to_numpy().reshape(-1, 1)/100,returns.to_numpy().reshape(-1, 1))\n",
    "    betas.append(l.coef_.item())\n",
    "    alphas.append(l.intercept_.item()) "
   ]
  },
  {
   "cell_type": "code",
   "execution_count": 99,
   "id": "51aca6d5",
   "metadata": {},
   "outputs": [],
   "source": [
    "#remove Date\n",
    "X = industry_portofolios_momentum.loc[:, industry_portofolios_momentum.columns!='Date']\n",
    "\n",
    "l = LinearRegression().fit(X.to_numpy()/100,returns.to_numpy().reshape(-1, 1))"
   ]
  },
  {
   "cell_type": "code",
   "execution_count": 100,
   "id": "18bd210c",
   "metadata": {},
   "outputs": [
    {
     "data": {
      "text/plain": [
       "[0.002305857320179046,\n",
       " 0.0019252028966294382,\n",
       " 0.0028759403785700525,\n",
       " -0.00036957520241306333,\n",
       " 0.0029129789599947557,\n",
       " -0.0004134548788847403,\n",
       " 0.00020299115836596316,\n",
       " -0.00045680547981582185,\n",
       " 0.001889330840237658,\n",
       " -8.149179876419622e-05,\n",
       " 0.0030762230266660924,\n",
       " 0.0010537768353761886]"
      ]
     },
     "execution_count": 100,
     "metadata": {},
     "output_type": "execute_result"
    }
   ],
   "source": [
    "alphas"
   ]
  },
  {
   "cell_type": "code",
   "execution_count": 101,
   "id": "b1aa499a",
   "metadata": {},
   "outputs": [
    {
     "name": "stdout",
     "output_type": "stream",
     "text": [
      "                                 OLS Regression Results                                \n",
      "=======================================================================================\n",
      "Dep. Variable:                      y   R-squared (uncentered):                   0.226\n",
      "Model:                            OLS   Adj. R-squared (uncentered):              0.200\n",
      "Method:                 Least Squares   F-statistic:                              8.788\n",
      "Date:                Tue, 03 May 2022   Prob (F-statistic):                    9.17e-15\n",
      "Time:                        12:32:30   Log-Likelihood:                          475.43\n",
      "No. Observations:                 373   AIC:                                     -926.9\n",
      "Df Residuals:                     361   BIC:                                     -879.8\n",
      "Df Model:                          12                                                  \n",
      "Covariance Type:            nonrobust                                                  \n",
      "==============================================================================\n",
      "                 coef    std err          t      P>|t|      [0.025      0.975]\n",
      "------------------------------------------------------------------------------\n",
      "x1            -0.0978      0.183     -0.534      0.594      -0.458       0.263\n",
      "x2            -0.3126      0.078     -4.022      0.000      -0.465      -0.160\n",
      "x3            -0.1596      0.203     -0.788      0.431      -0.558       0.239\n",
      "x4            -0.0190      0.078     -0.245      0.806      -0.172       0.134\n",
      "x5            -0.1245      0.178     -0.701      0.484      -0.474       0.225\n",
      "x6             0.1510      0.092      1.646      0.101      -0.029       0.332\n",
      "x7            -0.1865      0.114     -1.639      0.102      -0.410       0.037\n",
      "x8             0.0810      0.114      0.709      0.479      -0.144       0.305\n",
      "x9             0.2212      0.150      1.474      0.141      -0.074       0.516\n",
      "x10            0.1797      0.119      1.513      0.131      -0.054       0.413\n",
      "x11           -0.4334      0.131     -3.313      0.001      -0.691      -0.176\n",
      "x12            0.2871      0.219      1.310      0.191      -0.144       0.718\n",
      "==============================================================================\n",
      "Omnibus:                       74.753   Durbin-Watson:                   1.755\n",
      "Prob(Omnibus):                  0.000   Jarque-Bera (JB):              320.460\n",
      "Skew:                          -0.787   Prob(JB):                     2.59e-70\n",
      "Kurtosis:                       7.260   Cond. No.                         10.9\n",
      "==============================================================================\n",
      "\n",
      "Notes:\n",
      "[1] R² is computed without centering (uncentered) since the model does not contain a constant.\n",
      "[2] Standard Errors assume that the covariance matrix of the errors is correctly specified.\n"
     ]
    }
   ],
   "source": [
    "import statsmodels.api as sm\n",
    "\n",
    "est = sm.OLS(returns.to_numpy().reshape(-1, 1),X.to_numpy()/100)\n",
    "est2 = est.fit()\n",
    "print(est2.summary())"
   ]
  },
  {
   "cell_type": "markdown",
   "id": "ccc6ab8a",
   "metadata": {},
   "source": [
    "### Interpretation\n",
    "\n",
    "We observe that with respect to a significance treshold of ~10%, the significant coefficients are the 2nd, 6th, 7th and 11th one, respectively the one for Durbl, BusEq, Telcm and Money industries. We have a not that great R2, the alphas compared to the market alpha for the significant industries are significantly above for Durbl, BusEq and BusEq, but for Telcm the alpha is lower compared to market which could explain the strategy performance. "
   ]
  },
  {
   "cell_type": "markdown",
   "id": "fe6b615b",
   "metadata": {},
   "source": [
    "# C)"
   ]
  },
  {
   "cell_type": "code",
   "execution_count": 208,
   "id": "f39de959",
   "metadata": {},
   "outputs": [
    {
     "data": {
      "image/png": "[encoded data removed]",
      "text/plain": [
       "<Figure size 432x288 with 1 Axes>"
      ]
     },
     "metadata": {
      "needs_background": "light"
     },
     "output_type": "display_data"
    },
    {
     "data": {
      "image/png": "[encoded data removed]",
      "text/plain": [
       "<Figure size 432x288 with 1 Axes>"
      ]
     },
     "metadata": {
      "needs_background": "light"
     },
     "output_type": "display_data"
    },
    {
     "name": "stdout",
     "output_type": "stream",
     "text": [
      "average t-statistic associated with each factor. 0:t_value 1: p_value\n",
      "NoDur seems have biggest influence\n"
     ]
    },
    {
     "data": {
      "text/html": [
       "<div>\n",
       "<style scoped>\n",
       "    .dataframe tbody tr th:only-of-type {\n",
       "        vertical-align: middle;\n",
       "    }\n",
       "\n",
       "    .dataframe tbody tr th {\n",
       "        vertical-align: top;\n",
       "    }\n",
       "\n",
       "    .dataframe thead th {\n",
       "        text-align: right;\n",
       "    }\n",
       "</style>\n",
       "<table border=\"1\" class=\"dataframe\">\n",
       "  <thead>\n",
       "    <tr style=\"text-align: right;\">\n",
       "      <th></th>\n",
       "      <th>vwretd</th>\n",
       "      <th>NoDur</th>\n",
       "      <th>Durbl</th>\n",
       "      <th>Manuf</th>\n",
       "      <th>Enrgy</th>\n",
       "      <th>Chems</th>\n",
       "      <th>BusEq</th>\n",
       "      <th>Telcm</th>\n",
       "      <th>Utils</th>\n",
       "      <th>Shops</th>\n",
       "      <th>Hlth</th>\n",
       "      <th>Money</th>\n",
       "      <th>Other</th>\n",
       "    </tr>\n",
       "  </thead>\n",
       "  <tbody>\n",
       "    <tr>\n",
       "      <th>0</th>\n",
       "      <td>-2.266362</td>\n",
       "      <td>-3.676349</td>\n",
       "      <td>-1.799176</td>\n",
       "      <td>-3.142719</td>\n",
       "      <td>-1.961795</td>\n",
       "      <td>-3.259441</td>\n",
       "      <td>-3.366024</td>\n",
       "      <td>-2.054575</td>\n",
       "      <td>-3.181398</td>\n",
       "      <td>-2.670282</td>\n",
       "      <td>-3.133528</td>\n",
       "      <td>-2.596362</td>\n",
       "      <td>-2.103506</td>\n",
       "    </tr>\n",
       "    <tr>\n",
       "      <th>1</th>\n",
       "      <td>0.023707</td>\n",
       "      <td>0.000253</td>\n",
       "      <td>0.072384</td>\n",
       "      <td>0.001738</td>\n",
       "      <td>0.050148</td>\n",
       "      <td>0.001166</td>\n",
       "      <td>0.000801</td>\n",
       "      <td>0.040259</td>\n",
       "      <td>0.001525</td>\n",
       "      <td>0.007739</td>\n",
       "      <td>0.001793</td>\n",
       "      <td>0.009602</td>\n",
       "      <td>0.035747</td>\n",
       "    </tr>\n",
       "  </tbody>\n",
       "</table>\n",
       "</div>"
      ],
      "text/plain": [
       "     vwretd     NoDur     Durbl     Manuf     Enrgy     Chems     BusEq  \\\n",
       "0 -2.266362 -3.676349 -1.799176 -3.142719 -1.961795 -3.259441 -3.366024   \n",
       "1  0.023707  0.000253  0.072384  0.001738  0.050148  0.001166  0.000801   \n",
       "\n",
       "      Telcm     Utils     Shops      Hlth     Money     Other  \n",
       "0 -2.054575 -3.181398 -2.670282 -3.133528 -2.596362 -2.103506  \n",
       "1  0.040259  0.001525  0.007739  0.001793  0.009602  0.035747  "
      ]
     },
     "execution_count": 208,
     "metadata": {},
     "output_type": "execute_result"
    }
   ],
   "source": [
    "from scipy import stats\n",
    "import matplotlib.pyplot as plt\n",
    "import statsmodels.api as sm\n",
    "exposure = pd.DataFrame()\n",
    "i = 0\n",
    "stock_list = data['permno'].unique()\n",
    "for stock in stock_list:\n",
    "    exposure.loc[i,'permno'] = stock\n",
    "    test = data[(data['permno']==stock)]\n",
    "    slope = stats.linregress(test['ret'], index['vwretd']-index['rf']).slope #beta to the market\n",
    "    exposure.loc[i,'vwretd'] = slope\n",
    "    indus = get_industry(test.iloc[0,5])\n",
    "    exposure.loc[i,indus] = 1\n",
    "    i+=1\n",
    "exposure = exposure.fillna(0)\n",
    "\n",
    "\n",
    "factor_return = exposure.drop(index = exposure.index).rename(columns={'permno':'date'})\n",
    "i = 0\n",
    "x = sm.add_constant(exposure.drop(columns = {'permno'}))\n",
    "for d in data['date'].unique():\n",
    "    y = data[data['date']==d]['ret'].reset_index().drop(columns = {'index'})\n",
    "    res = sm.OLS(y,x).fit()\n",
    "    factor_return.loc[i] = res.params\n",
    "    factor_return.loc[i,'date'] = d\n",
    "    # t-statistics\n",
    "    t,aaa = stats.ttest_ind(np.array(res.params[1:]),np.array(index[index['date']==d].drop(columns={'date','rf'}))[0])\n",
    "    factor_return.loc[i,'t-stat'] = t\n",
    "    i+=1\n",
    "### Plot the time-series of estimated factor returns.    \n",
    "fig_df = factor_return.set_index('date').drop(columns={'t-stat'})\n",
    "fig_df.plot()\n",
    "plt.show()\n",
    "### Plot the time series of the monthly t-statistics\n",
    "fig_df = factor_return.set_index('date')[['t-stat']]\n",
    "fig_df.plot()\n",
    "plt.show()\n",
    "\n",
    "t_report = pd.DataFrame()\n",
    "for col in index.drop(columns=['date','rf']).columns.values.tolist():\n",
    "    t,pvalue = stats.ttest_ind(factor_return[col],index[col])\n",
    "    t_report.loc[0,col] = t\n",
    "    t_report.loc[1,col] = pvalue\n",
    "print(\"average t-statistic associated with each factor. 0:t_value 1: p_value\")\n",
    "print('NoDur seems have biggest influence')\n",
    "t_report"
   ]
  },
  {
   "cell_type": "markdown",
   "id": "8e312c6a",
   "metadata": {},
   "source": [
    "* How do you interpret the fact that certain t-statistics vary widely over time from +4 to -4 say?\n",
    "* In different time, different factor has different influence to its price. This is also associate with the economics. For example, because of the war in Ukraine, now the energy price rises up very quickly, and it can also lead to stock price change. So currently, energy should be an impoertant factor in this model"
   ]
  },
  {
   "cell_type": "markdown",
   "id": "22614207",
   "metadata": {},
   "source": [
    "# D"
   ]
  },
  {
   "cell_type": "code",
   "execution_count": 31,
   "id": "e0938767",
   "metadata": {
    "scrolled": true
   },
   "outputs": [
    {
     "data": {
      "text/html": [
       "<div>\n",
       "<style scoped>\n",
       "    .dataframe tbody tr th:only-of-type {\n",
       "        vertical-align: middle;\n",
       "    }\n",
       "\n",
       "    .dataframe tbody tr th {\n",
       "        vertical-align: top;\n",
       "    }\n",
       "\n",
       "    .dataframe thead th {\n",
       "        text-align: right;\n",
       "    }\n",
       "</style>\n",
       "<table border=\"1\" class=\"dataframe\">\n",
       "  <thead>\n",
       "    <tr style=\"text-align: right;\">\n",
       "      <th></th>\n",
       "      <th>permno</th>\n",
       "      <th>date</th>\n",
       "      <th>ret</th>\n",
       "      <th>shrout</th>\n",
       "      <th>prc</th>\n",
       "      <th>hsiccd</th>\n",
       "      <th>size</th>\n",
       "      <th>const</th>\n",
       "      <th>size_lag</th>\n",
       "      <th>obs</th>\n",
       "      <th>vwretd</th>\n",
       "      <th>rf</th>\n",
       "      <th>mprem</th>\n",
       "      <th>exret</th>\n",
       "      <th>industry</th>\n",
       "      <th>Momentum</th>\n",
       "      <th>value</th>\n",
       "      <th>avg_ret</th>\n",
       "    </tr>\n",
       "  </thead>\n",
       "  <tbody>\n",
       "    <tr>\n",
       "      <th>6855</th>\n",
       "      <td>10516</td>\n",
       "      <td>1990-01-31</td>\n",
       "      <td>-0.134054</td>\n",
       "      <td>281065.0</td>\n",
       "      <td>20.000000</td>\n",
       "      <td>2046.0</td>\n",
       "      <td>5.621300e+06</td>\n",
       "      <td>1</td>\n",
       "      <td>NaN</td>\n",
       "      <td>384</td>\n",
       "      <td>-0.070114</td>\n",
       "      <td>0.006390</td>\n",
       "      <td>-0.076503</td>\n",
       "      <td>-0.140444</td>\n",
       "      <td>NoDur</td>\n",
       "      <td>0.000000</td>\n",
       "      <td>1.124260e+08</td>\n",
       "      <td>NaN</td>\n",
       "    </tr>\n",
       "    <tr>\n",
       "      <th>6856</th>\n",
       "      <td>10516</td>\n",
       "      <td>1990-02-28</td>\n",
       "      <td>0.050000</td>\n",
       "      <td>281065.0</td>\n",
       "      <td>21.000000</td>\n",
       "      <td>2046.0</td>\n",
       "      <td>5.902365e+06</td>\n",
       "      <td>1</td>\n",
       "      <td>5.621300e+06</td>\n",
       "      <td>384</td>\n",
       "      <td>0.014900</td>\n",
       "      <td>0.006441</td>\n",
       "      <td>0.008459</td>\n",
       "      <td>0.043559</td>\n",
       "      <td>NoDur</td>\n",
       "      <td>NaN</td>\n",
       "      <td>1.239497e+08</td>\n",
       "      <td>NaN</td>\n",
       "    </tr>\n",
       "    <tr>\n",
       "      <th>6857</th>\n",
       "      <td>10516</td>\n",
       "      <td>1990-03-30</td>\n",
       "      <td>0.083333</td>\n",
       "      <td>283801.0</td>\n",
       "      <td>22.750000</td>\n",
       "      <td>2046.0</td>\n",
       "      <td>6.456473e+06</td>\n",
       "      <td>1</td>\n",
       "      <td>5.902365e+06</td>\n",
       "      <td>384</td>\n",
       "      <td>0.024148</td>\n",
       "      <td>0.006688</td>\n",
       "      <td>0.017460</td>\n",
       "      <td>0.076645</td>\n",
       "      <td>NoDur</td>\n",
       "      <td>NaN</td>\n",
       "      <td>1.468848e+08</td>\n",
       "      <td>NaN</td>\n",
       "    </tr>\n",
       "    <tr>\n",
       "      <th>6858</th>\n",
       "      <td>10516</td>\n",
       "      <td>1990-04-30</td>\n",
       "      <td>0.034066</td>\n",
       "      <td>283801.0</td>\n",
       "      <td>23.500000</td>\n",
       "      <td>2046.0</td>\n",
       "      <td>6.669324e+06</td>\n",
       "      <td>1</td>\n",
       "      <td>6.456473e+06</td>\n",
       "      <td>384</td>\n",
       "      <td>-0.028283</td>\n",
       "      <td>0.006283</td>\n",
       "      <td>-0.034567</td>\n",
       "      <td>0.027782</td>\n",
       "      <td>NoDur</td>\n",
       "      <td>NaN</td>\n",
       "      <td>1.567291e+08</td>\n",
       "      <td>NaN</td>\n",
       "    </tr>\n",
       "    <tr>\n",
       "      <th>6859</th>\n",
       "      <td>10516</td>\n",
       "      <td>1990-05-31</td>\n",
       "      <td>0.127660</td>\n",
       "      <td>283801.0</td>\n",
       "      <td>26.500000</td>\n",
       "      <td>2046.0</td>\n",
       "      <td>7.520726e+06</td>\n",
       "      <td>1</td>\n",
       "      <td>6.669324e+06</td>\n",
       "      <td>384</td>\n",
       "      <td>0.088935</td>\n",
       "      <td>0.006132</td>\n",
       "      <td>0.082803</td>\n",
       "      <td>0.121528</td>\n",
       "      <td>NoDur</td>\n",
       "      <td>NaN</td>\n",
       "      <td>1.992993e+08</td>\n",
       "      <td>NaN</td>\n",
       "    </tr>\n",
       "    <tr>\n",
       "      <th>...</th>\n",
       "      <td>...</td>\n",
       "      <td>...</td>\n",
       "      <td>...</td>\n",
       "      <td>...</td>\n",
       "      <td>...</td>\n",
       "      <td>...</td>\n",
       "      <td>...</td>\n",
       "      <td>...</td>\n",
       "      <td>...</td>\n",
       "      <td>...</td>\n",
       "      <td>...</td>\n",
       "      <td>...</td>\n",
       "      <td>...</td>\n",
       "      <td>...</td>\n",
       "      <td>...</td>\n",
       "      <td>...</td>\n",
       "      <td>...</td>\n",
       "      <td>...</td>\n",
       "    </tr>\n",
       "    <tr>\n",
       "      <th>400365</th>\n",
       "      <td>70519</td>\n",
       "      <td>2021-08-31</td>\n",
       "      <td>0.063443</td>\n",
       "      <td>2026785.0</td>\n",
       "      <td>71.910004</td>\n",
       "      <td>6021.0</td>\n",
       "      <td>1.457461e+08</td>\n",
       "      <td>1</td>\n",
       "      <td>1.397738e+08</td>\n",
       "      <td>384</td>\n",
       "      <td>0.027147</td>\n",
       "      <td>0.000034</td>\n",
       "      <td>0.027113</td>\n",
       "      <td>0.063409</td>\n",
       "      <td>Money</td>\n",
       "      <td>0.037018</td>\n",
       "      <td>1.048060e+10</td>\n",
       "      <td>0.057030</td>\n",
       "    </tr>\n",
       "    <tr>\n",
       "      <th>400366</th>\n",
       "      <td>70519</td>\n",
       "      <td>2021-09-30</td>\n",
       "      <td>-0.024058</td>\n",
       "      <td>2026785.0</td>\n",
       "      <td>70.180000</td>\n",
       "      <td>6021.0</td>\n",
       "      <td>1.422398e+08</td>\n",
       "      <td>1</td>\n",
       "      <td>1.457461e+08</td>\n",
       "      <td>384</td>\n",
       "      <td>-0.042243</td>\n",
       "      <td>0.000038</td>\n",
       "      <td>-0.042281</td>\n",
       "      <td>-0.024096</td>\n",
       "      <td>Money</td>\n",
       "      <td>0.057030</td>\n",
       "      <td>9.982387e+09</td>\n",
       "      <td>0.057331</td>\n",
       "    </tr>\n",
       "    <tr>\n",
       "      <th>400367</th>\n",
       "      <td>70519</td>\n",
       "      <td>2021-10-29</td>\n",
       "      <td>-0.007267</td>\n",
       "      <td>2026785.0</td>\n",
       "      <td>69.160004</td>\n",
       "      <td>6021.0</td>\n",
       "      <td>1.401725e+08</td>\n",
       "      <td>1</td>\n",
       "      <td>1.422398e+08</td>\n",
       "      <td>384</td>\n",
       "      <td>0.064657</td>\n",
       "      <td>0.000042</td>\n",
       "      <td>0.064614</td>\n",
       "      <td>-0.007309</td>\n",
       "      <td>Money</td>\n",
       "      <td>0.057331</td>\n",
       "      <td>9.694328e+09</td>\n",
       "      <td>0.026711</td>\n",
       "    </tr>\n",
       "    <tr>\n",
       "      <th>400368</th>\n",
       "      <td>70519</td>\n",
       "      <td>2021-11-30</td>\n",
       "      <td>-0.078947</td>\n",
       "      <td>1984267.0</td>\n",
       "      <td>63.700001</td>\n",
       "      <td>6021.0</td>\n",
       "      <td>1.263978e+08</td>\n",
       "      <td>1</td>\n",
       "      <td>1.401725e+08</td>\n",
       "      <td>384</td>\n",
       "      <td>-0.018347</td>\n",
       "      <td>0.000068</td>\n",
       "      <td>-0.018414</td>\n",
       "      <td>-0.079015</td>\n",
       "      <td>Money</td>\n",
       "      <td>0.026711</td>\n",
       "      <td>8.051541e+09</td>\n",
       "      <td>0.008655</td>\n",
       "    </tr>\n",
       "    <tr>\n",
       "      <th>400369</th>\n",
       "      <td>70519</td>\n",
       "      <td>2021-12-31</td>\n",
       "      <td>-0.051962</td>\n",
       "      <td>1984267.0</td>\n",
       "      <td>60.389999</td>\n",
       "      <td>6021.0</td>\n",
       "      <td>1.198299e+08</td>\n",
       "      <td>1</td>\n",
       "      <td>1.263978e+08</td>\n",
       "      <td>384</td>\n",
       "      <td>0.033345</td>\n",
       "      <td>0.000042</td>\n",
       "      <td>0.033303</td>\n",
       "      <td>-0.052005</td>\n",
       "      <td>Money</td>\n",
       "      <td>0.008655</td>\n",
       "      <td>7.236527e+09</td>\n",
       "      <td>0.008590</td>\n",
       "    </tr>\n",
       "  </tbody>\n",
       "</table>\n",
       "<p>38400 rows × 18 columns</p>\n",
       "</div>"
      ],
      "text/plain": [
       "        permno       date       ret     shrout        prc  hsiccd  \\\n",
       "6855     10516 1990-01-31 -0.134054   281065.0  20.000000  2046.0   \n",
       "6856     10516 1990-02-28  0.050000   281065.0  21.000000  2046.0   \n",
       "6857     10516 1990-03-30  0.083333   283801.0  22.750000  2046.0   \n",
       "6858     10516 1990-04-30  0.034066   283801.0  23.500000  2046.0   \n",
       "6859     10516 1990-05-31  0.127660   283801.0  26.500000  2046.0   \n",
       "...        ...        ...       ...        ...        ...     ...   \n",
       "400365   70519 2021-08-31  0.063443  2026785.0  71.910004  6021.0   \n",
       "400366   70519 2021-09-30 -0.024058  2026785.0  70.180000  6021.0   \n",
       "400367   70519 2021-10-29 -0.007267  2026785.0  69.160004  6021.0   \n",
       "400368   70519 2021-11-30 -0.078947  1984267.0  63.700001  6021.0   \n",
       "400369   70519 2021-12-31 -0.051962  1984267.0  60.389999  6021.0   \n",
       "\n",
       "                size  const      size_lag  obs    vwretd        rf     mprem  \\\n",
       "6855    5.621300e+06      1           NaN  384 -0.070114  0.006390 -0.076503   \n",
       "6856    5.902365e+06      1  5.621300e+06  384  0.014900  0.006441  0.008459   \n",
       "6857    6.456473e+06      1  5.902365e+06  384  0.024148  0.006688  0.017460   \n",
       "6858    6.669324e+06      1  6.456473e+06  384 -0.028283  0.006283 -0.034567   \n",
       "6859    7.520726e+06      1  6.669324e+06  384  0.088935  0.006132  0.082803   \n",
       "...              ...    ...           ...  ...       ...       ...       ...   \n",
       "400365  1.457461e+08      1  1.397738e+08  384  0.027147  0.000034  0.027113   \n",
       "400366  1.422398e+08      1  1.457461e+08  384 -0.042243  0.000038 -0.042281   \n",
       "400367  1.401725e+08      1  1.422398e+08  384  0.064657  0.000042  0.064614   \n",
       "400368  1.263978e+08      1  1.401725e+08  384 -0.018347  0.000068 -0.018414   \n",
       "400369  1.198299e+08      1  1.263978e+08  384  0.033345  0.000042  0.033303   \n",
       "\n",
       "           exret industry  Momentum         value   avg_ret  \n",
       "6855   -0.140444    NoDur  0.000000  1.124260e+08       NaN  \n",
       "6856    0.043559    NoDur       NaN  1.239497e+08       NaN  \n",
       "6857    0.076645    NoDur       NaN  1.468848e+08       NaN  \n",
       "6858    0.027782    NoDur       NaN  1.567291e+08       NaN  \n",
       "6859    0.121528    NoDur       NaN  1.992993e+08       NaN  \n",
       "...          ...      ...       ...           ...       ...  \n",
       "400365  0.063409    Money  0.037018  1.048060e+10  0.057030  \n",
       "400366 -0.024096    Money  0.057030  9.982387e+09  0.057331  \n",
       "400367 -0.007309    Money  0.057331  9.694328e+09  0.026711  \n",
       "400368 -0.079015    Money  0.026711  8.051541e+09  0.008655  \n",
       "400369 -0.052005    Money  0.008655  7.236527e+09  0.008590  \n",
       "\n",
       "[38400 rows x 18 columns]"
      ]
     },
     "execution_count": 31,
     "metadata": {},
     "output_type": "execute_result"
    }
   ],
   "source": [
    "data['value'] = data['size']*data['prc']\n",
    "data[\"avg_ret\"] = np.zeros(38400)\n",
    "for stock in data[\"permno\"].unique():\n",
    "    data[\"avg_ret\"][data[\"permno\"] == stock] = data[data[\"permno\"] == stock][\"ret\"].rolling(11,11).mean()\n",
    "    #shift by 1 (we calculate t-11 to t so we need to shift it by 1 )\n",
    "    for i in range(len(data[data[\"permno\"] == stock]) - 1):\n",
    "        if(i>=11):\n",
    "            data[\"avg_ret\"][data[\"permno\"] == stock].iloc[i+1] = data[\"avg_ret\"][data[\"permno\"] == stock].iloc[i]\n",
    "data"
   ]
  },
  {
   "cell_type": "code",
   "execution_count": 260,
   "id": "60357812",
   "metadata": {},
   "outputs": [],
   "source": [
    "import datetime\n",
    "exposure_d = exposure.drop(index = exposure.index).rename(columns={'permno':'date'})\n",
    "j = 0\n",
    "t = 1\n",
    "for d in data['date'].unique()[10:]: # calculate exposure to factor when date=d+1 (equal to having a date shift herer)\n",
    "        #d: weight calculation time  d_1: real time\n",
    "        weights_l = [0.1,0.1,0.1,0.1,0.1,0.1,0.1,0.1,0.1,0.1]#euql weighted portfolio   #(data[data['date']==d].nlargest(10,\"avg_ret\")['value'] / data[data['date']==d].nlargest(10,\"value\").sum()[-1]).to_list() #value weighted in long stocks\n",
    "        weights_s = [0.1,0.1,0.1,0.1,0.1,0.1,0.1,0.1,0.1,0.1]#euql weighted portfolio   #((data[data['date']==d].nsmallest(10,\"avg_ret\")['value'] / data[data['date']==d].nsmallest(10,\"value\").sum()[-1]).to_list() #value weighted in short stocks\n",
    "        permno_l = (data[data['date']==d].nlargest(10,\"avg_ret\")['permno']).to_list()\n",
    "        permno_s = (data[data['date']==d].nsmallest(10,\"avg_ret\")['permno']).to_list()\n",
    "        exposure_tmp = exposure.drop(index = exposure.index)\n",
    "        ret = 0\n",
    "        hedge = 0\n",
    "        for i in range(10):\n",
    "                exposure_tmp = exposure_tmp.append(weights_l[i]*exposure[exposure['permno']==permno_l[i]])\n",
    "                ret += float(data[(data['date']==d)&(data['permno']==permno_l[i])]['ret']*weights_l[i])\n",
    "        for i in range(10):\n",
    "                exposure_tmp = exposure_tmp.append(-weights_s[i]*exposure[exposure['permno']==permno_s[i]])\n",
    "                ret -= float(data[(data['date']==d)&(data['permno']==permno_s[i])]['ret']*weights_s[i])\n",
    "\n",
    "        #largest = data[data[\"date\"] == d].nlargest(10,\"Momentum\")\n",
    "        #momentum[\"Momentum_large_returns\"][momentum[\"date\"] == date] = np.mean(largest[\"exret\"])\n",
    "        \n",
    "        exposure_d.loc[j] = exposure_tmp.sum(axis=0)[1:]\n",
    "        exposure_d.loc[j,'date'] = d\n",
    "        exposure_d.loc[j,'ret'] = ret\n",
    "        for name in exposure.drop(columns='permno').columns.values: #loop for all the industry portfolio, calculate hedge\n",
    "                hedge += exposure_d.loc[j,name]*index[index['date']==d][name]\n",
    "        exposure_d.loc[j,'hedge'] = float(hedge)\n",
    "        j+=1\n",
    "        t+=1"
   ]
  },
  {
   "cell_type": "code",
   "execution_count": null,
   "id": "61b21b84",
   "metadata": {},
   "outputs": [
    {
     "name": "stdout",
     "output_type": "stream",
     "text": [
      "In all the industry, exposure to vmretd(market) and Chems is the largest. We will choose these two factor to analyse\n"
     ]
    },
    {
     "data": {
      "text/plain": [
       "const     0.071368\n",
       "vwretd   -0.008284\n",
       "NoDur     0.027509\n",
       "Utils     0.010091\n",
       "Enrgy     0.018642\n",
       "Manuf    -0.039823\n",
       "BusEq     0.004281\n",
       "Shops     0.013887\n",
       "Money    -0.002669\n",
       "Chems     0.085693\n",
       "Hlth     -0.011359\n",
       "Durbl    -0.004164\n",
       "Telcm    -0.096521\n",
       "Other    -0.005569\n",
       "dtype: float64"
      ]
     },
     "execution_count": 248,
     "metadata": {},
     "output_type": "execute_result"
    }
   ],
   "source": [
    "x = sm.add_constant(exposure_d.drop(columns = {'date','ret','hedge'}))\n",
    "y = exposure_d['ret']\n",
    "res = sm.OLS(y,x).fit()\n",
    "print('In all the industry, exposure to Telcm and Chems is the largest. We will choose these two factor to analyse')\n",
    "res.params"
   ]
  },
  {
   "cell_type": "code",
   "execution_count": 255,
   "id": "5c7fd2f5",
   "metadata": {},
   "outputs": [
    {
     "data": {
      "image/png": "[encoded data removed]",
      "text/plain": [
       "<Figure size 432x288 with 1 Axes>"
      ]
     },
     "metadata": {
      "needs_background": "light"
     },
     "output_type": "display_data"
    },
    {
     "name": "stdout",
     "output_type": "stream",
     "text": [
      "hedge mean:  0.05624783862760702\n",
      "hedge std:  0.052420823020119696\n",
      "sharpe ratio:  1.073005637588301\n"
     ]
    }
   ],
   "source": [
    "factor_return_d = exposure.drop(index = exposure.index).rename(columns={'permno':'date'})\n",
    "i = 0\n",
    "for d in data['date'].unique()[11:-1]:\n",
    "    x = sm.add_constant(exposure_d[exposure_d['date']==d].drop(columns = {'date','ret'}))\n",
    "    y = exposure_d[exposure_d['date']==d]['ret']\n",
    "    res = sm.OLS(y,x).fit()\n",
    "    factor_return_d.loc[i] = res.params\n",
    "    factor_return_d.loc[i,'date'] = d\n",
    "    # t-statistics\n",
    "    t,aaa = stats.ttest_ind(np.array(res.params[1:]),np.array(index[index['date']==d].drop(columns={'date','rf'}))[0])\n",
    "    factor_return_d.loc[i,'t-stat'] = t\n",
    "    i+=1\n",
    "fig_df = factor_return_d[['date','Telcm','Chems']].set_index('date')\n",
    "fig_df.plot()\n",
    "plt.show()\n",
    "\n",
    "#Compute the return to your momentum portfolio where you hedge the exposure to all industry factors\n",
    "exposure_d['hedge_ret'] = exposure_d['ret'] - exposure_d['hedge']\n",
    "exposure_d['hedge_ret']\n",
    "print('hedge mean: ',exposure_d['hedge_ret'].mean())\n",
    "print('hedge std: ',exposure_d['hedge_ret'].std())\n",
    "print('sharpe ratio: ',exposure_d['hedge_ret'].mean()/exposure_d['hedge_ret'].std())"
   ]
  },
  {
   "cell_type": "markdown",
   "id": "e6082077",
   "metadata": {},
   "source": [
    "The hedge have a high sharpe ratio and have a high excess return, which means this strategy can have a good chance to hedge."
   ]
  }
 ],
 "metadata": {
  "kernelspec": {
   "display_name": "Python 3 (ipykernel)",
   "language": "python",
   "name": "python3"
  },
  "language_info": {
   "codemirror_mode": {
    "name": "ipython",
    "version": 3
   },
   "file_extension": ".py",
   "mimetype": "text/x-python",
   "name": "python",
   "nbconvert_exporter": "python",
   "pygments_lexer": "ipython3",
   "version": "3.8.12"
  }
 },
 "nbformat": 4,
 "nbformat_minor": 5
}
